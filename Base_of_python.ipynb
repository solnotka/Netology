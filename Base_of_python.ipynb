{
 "cells": [
  {
   "cell_type": "code",
   "execution_count": null,
   "metadata": {},
   "outputs": [],
   "source": [
    "#Задание 1"
   ]
  },
  {
   "cell_type": "code",
   "execution_count": 1,
   "metadata": {},
   "outputs": [],
   "source": [
    "def compare_length(phrase_1, phrase_2):\n",
    "    if len(phrase_1) > len(phrase_2):\n",
    "        return 'Фраза 1 длинее фразы 2'\n",
    "    elif len(phrase_2) > len(phrase_1):\n",
    "        return 'Фраза 2 длинее фразы 1'\n",
    "    elif len(phrase_2) == len(phrase_1):\n",
    "        return 'Фразы равной длины'"
   ]
  },
  {
   "cell_type": "code",
   "execution_count": 2,
   "metadata": {},
   "outputs": [
    {
     "name": "stdout",
     "output_type": "stream",
     "text": [
      "Фраза 1 длинее фразы 2\n"
     ]
    }
   ],
   "source": [
    "phrase_1 = 'Насколько проще было бы писать программы, если бы не заказчики'\n",
    "phrase_2 = '640Кб должно хватить для любых задач. Билл Гейтс (по легенде)'\n",
    "print(compare_length(phrase_1, phrase_2))"
   ]
  },
  {
   "cell_type": "code",
   "execution_count": 3,
   "metadata": {},
   "outputs": [
    {
     "name": "stdout",
     "output_type": "stream",
     "text": [
      "Фраза 2 длинее фразы 1\n"
     ]
    }
   ],
   "source": [
    "phrase_1 = '640Кб должно хватить для любых задач. Билл Гейтс (по легенде)'\n",
    "phrase_2 = 'Насколько проще было бы писать программы, если бы не заказчики'\n",
    "print(compare_length(phrase_1, phrase_2))"
   ]
  },
  {
   "cell_type": "code",
   "execution_count": 4,
   "metadata": {},
   "outputs": [
    {
     "name": "stdout",
     "output_type": "stream",
     "text": [
      "Фразы равной длины\n"
     ]
    }
   ],
   "source": [
    "phrase_1 = 'Насколько проще было бы писать программы, если бы не заказчики'\n",
    "phrase_2 = 'Насколько проще было бы писать программы, если бы не заказчики'\n",
    "print(compare_length(phrase_1, phrase_2))"
   ]
  },
  {
   "cell_type": "code",
   "execution_count": 5,
   "metadata": {},
   "outputs": [],
   "source": [
    "#Задание 2"
   ]
  },
  {
   "cell_type": "code",
   "execution_count": 6,
   "metadata": {},
   "outputs": [],
   "source": [
    "def if_leap(year):\n",
    "    if year % 4 == 0:\n",
    "        if year % 100 != 0 or year % 400 == 0:\n",
    "            return 'Високосный год'\n",
    "        elif year % 100 == 0:\n",
    "            return 'Обычный год'\n",
    "    else:\n",
    "        return 'Обычный год'"
   ]
  },
  {
   "cell_type": "code",
   "execution_count": 7,
   "metadata": {},
   "outputs": [
    {
     "name": "stdout",
     "output_type": "stream",
     "text": [
      "2020 - Високосный год\n",
      "2019 - Обычный год\n",
      "1900 - Обычный год\n",
      "2000 - Високосный год\n"
     ]
    }
   ],
   "source": [
    "print(f'2020 - {if_leap(2020)}')\n",
    "print(f'2019 - {if_leap(2019)}')\n",
    "print(f'1900 - {if_leap(1900)}')\n",
    "print(f'2000 - {if_leap(2000)}')"
   ]
  },
  {
   "cell_type": "code",
   "execution_count": 8,
   "metadata": {},
   "outputs": [],
   "source": [
    "#Задание 3"
   ]
  },
  {
   "cell_type": "code",
   "execution_count": 9,
   "metadata": {},
   "outputs": [],
   "source": [
    "year = {\n",
    "        'Январь': ((21, 'Козерог'), (31, 'Водолей')),\n",
    "        'Февраль': ((20, 'Водолей'), (29, 'Рыбы')),\n",
    "        'Март': ((21, 'Рыбы'), (31, 'Овен')),\n",
    "        'Апрель': ((21, 'Овен'), (30, 'Телец')),\n",
    "        'Май': ((22, 'Телец'), (31, 'Близнецы')),\n",
    "        'Июнь': ((22,'Близнецы'), (30, 'Рак')),\n",
    "        'Июль': ((23, 'Рак'), (31, 'Лев')),\n",
    "        'Август': ((22, 'Лев'), (31, 'Дева')),\n",
    "        'Сентябрь': ((24, 'Дева'), (30, 'Весы')),\n",
    "        'Октябрь': ((24, 'Весы'), (31, 'Скорпион')),\n",
    "        'Ноябрь': ((23, 'Скорпион'), (30, 'Стрелец')),\n",
    "        'Декабрь': ((23, 'Стрелец'), (31, 'Козерог'))\n",
    "                   }"
   ]
  },
  {
   "cell_type": "code",
   "execution_count": 10,
   "metadata": {},
   "outputs": [
    {
     "name": "stdout",
     "output_type": "stream",
     "text": [
      "Введите день: 9\n",
      "Введите месяц: декабрь\n"
     ]
    }
   ],
   "source": [
    "date = int(input(\"Введите день: \"))\n",
    "month = input(\"Введите месяц: \").capitalize()"
   ]
  },
  {
   "cell_type": "code",
   "execution_count": 11,
   "metadata": {},
   "outputs": [
    {
     "name": "stdout",
     "output_type": "stream",
     "text": [
      "Ваш знак зодиака: Стрелец\n"
     ]
    }
   ],
   "source": [
    "if month not in year:\n",
    "    print('Такого месяца не существует')\n",
    "else:\n",
    "    if date > year[month][1][0] or date <= 0:\n",
    "        print('Введите существующую дату')\n",
    "    else:\n",
    "        if date < year[month][0][0]:\n",
    "            print(f'Ваш знак зодиака: {year[month][0][1]}')\n",
    "        else:\n",
    "            print(f'Ваш знак зодиака: {year[month][1][1]}')"
   ]
  },
  {
   "cell_type": "code",
   "execution_count": 12,
   "metadata": {},
   "outputs": [],
   "source": [
    "#Задание 4"
   ]
  },
  {
   "cell_type": "code",
   "execution_count": 1,
   "metadata": {},
   "outputs": [],
   "source": [
    "def choose_box(width, length, height):\n",
    "    if width < 15 and length < 15 and height < 15:\n",
    "        return 'Коробка № 1'\n",
    "    elif 15 < width < 50 or 15 < length < 50 or 15 < height < 50:\n",
    "        return 'Коробка № 2'\n",
    "    elif length > 200:\n",
    "        return 'Упаковка для лыж'\n",
    "    else:\n",
    "        return 'Стандартная коробка № 3'"
   ]
  },
  {
   "cell_type": "code",
   "execution_count": 2,
   "metadata": {},
   "outputs": [
    {
     "name": "stdout",
     "output_type": "stream",
     "text": [
      "Коробка № 2\n",
      "Коробка № 1\n",
      "Упаковка для лыж\n",
      "Стандартная коробка № 3\n"
     ]
    }
   ],
   "source": [
    "print(choose_box(10, 20, 90))\n",
    "print(choose_box(10, 5, 0))\n",
    "print(choose_box(10, 250, 90))\n",
    "print(choose_box(10, 150, 1000))"
   ]
  },
  {
   "cell_type": "code",
   "execution_count": null,
   "metadata": {},
   "outputs": [],
   "source": [
    "#Задание 5"
   ]
  },
  {
   "cell_type": "code",
   "execution_count": 7,
   "metadata": {},
   "outputs": [],
   "source": [
    "def if_happy(number):\n",
    "    happy_list = [int(x) for x in str(number)]\n",
    "    if sum(happy_list[:3]) == sum(happy_list[3:]):\n",
    "        return 'Счастливый билет'\n",
    "    else:\n",
    "        return 'Несчастливый билет'"
   ]
  },
  {
   "cell_type": "code",
   "execution_count": 8,
   "metadata": {},
   "outputs": [
    {
     "name": "stdout",
     "output_type": "stream",
     "text": [
      "Несчастливый билет\n",
      "Счастливый билет\n"
     ]
    }
   ],
   "source": [
    "print(if_happy(123456))\n",
    "print(if_happy(123321))"
   ]
  },
  {
   "cell_type": "code",
   "execution_count": null,
   "metadata": {},
   "outputs": [],
   "source": [
    "#Задание 6"
   ]
  },
  {
   "cell_type": "code",
   "execution_count": 13,
   "metadata": {},
   "outputs": [],
   "source": [
    "import math\n",
    "\n",
    "def circle_square(rad):\n",
    "    square = math.pi * (rad ** 2)\n",
    "    return round(square, 2)\n",
    "\n",
    "def triangle_square(A, B, C):\n",
    "    pp = (A + B + C) / 2\n",
    "    square = math.sqrt((pp * (pp - A) * (pp - B) * (pp - C)))\n",
    "    return round(square, 2)\n",
    "\n",
    "def rectangle_square(A, B):\n",
    "    square = A * B\n",
    "    return round(square, 2)"
   ]
  },
  {
   "cell_type": "code",
   "execution_count": 17,
   "metadata": {},
   "outputs": [
    {
     "name": "stdout",
     "output_type": "stream",
     "text": [
      "Введите тип фигуры: треугольник\n",
      "Введите длину стороны А: 4\n",
      "Введите длину стороны B: 6\n",
      "Введите длину стороны C: 4\n",
      "Площадь треугольника: 7.94\n"
     ]
    }
   ],
   "source": [
    "figure = input(\"Введите тип фигуры: \").capitalize()\n",
    "\n",
    "if figure == 'Круг':\n",
    "    rad = int(input(\"Введите радиус круга: \"))\n",
    "    print(f'Площадь круга: {circle_square(rad)}')\n",
    "elif figure == 'Треугольник':\n",
    "    A = int(input('Введите длину стороны А: '))\n",
    "    B = int(input('Введите длину стороны B: '))\n",
    "    C = int(input('Введите длину стороны C: '))\n",
    "    print(f'Площадь треугольника: {triangle_square(A, B, C)}')\n",
    "elif figure == 'Прямоугольник':\n",
    "    A = int(input('Введите длину стороны А: '))\n",
    "    B = int(input('Введите длину стороны B: '))\n",
    "    print(f'Площадь прямоугольника: {rectangle_square(A, B)}')"
   ]
  },
  {
   "cell_type": "code",
   "execution_count": null,
   "metadata": {},
   "outputs": [],
   "source": []
  }
 ],
 "metadata": {
  "kernelspec": {
   "display_name": "Python 3",
   "language": "python",
   "name": "python3"
  },
  "language_info": {
   "codemirror_mode": {
    "name": "ipython",
    "version": 3
   },
   "file_extension": ".py",
   "mimetype": "text/x-python",
   "name": "python",
   "nbconvert_exporter": "python",
   "pygments_lexer": "ipython3",
   "version": "3.8.5"
  }
 },
 "nbformat": 4,
 "nbformat_minor": 4
}
