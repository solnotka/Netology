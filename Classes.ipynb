{
 "cells": [
  {
   "cell_type": "markdown",
   "metadata": {},
   "source": [
    "## Задание 1\n",
    "\n",
    "Напишите функцию, которая возвращает название валюты (поле ‘Name’) с максимальным значением курса с помощью [сервиса](https://www.cbr-xml-daily.ru/daily_json.js)."
   ]
  },
  {
   "cell_type": "code",
   "execution_count": 151,
   "metadata": {},
   "outputs": [],
   "source": [
    "import requests"
   ]
  },
  {
   "cell_type": "code",
   "execution_count": 152,
   "metadata": {},
   "outputs": [],
   "source": [
    "SERVICE = 'https://www.cbr-xml-daily.ru/daily_json.js'\n",
    "\n",
    "def max_currency(url):\n",
    "    my_response = requests.get(url)\n",
    "    md = my_response.json()['Valute']\n",
    "    max_currency = max(md, key=lambda x: md[x]['Value'])\n",
    "    return md[max_currency]['Name']"
   ]
  },
  {
   "cell_type": "code",
   "execution_count": 153,
   "metadata": {},
   "outputs": [
    {
     "name": "stdout",
     "output_type": "stream",
     "text": [
      "СДР (специальные права заимствования)\n"
     ]
    }
   ],
   "source": [
    "print(max_currency(SERVICE))"
   ]
  },
  {
   "cell_type": "markdown",
   "metadata": {},
   "source": [
    "\n",
    "## Задание 2\n",
    "Добавьте в класс Rate параметр diff (со значениями True или False), который в случае значения True в методах курсов валют (eur, usd итд) будет возвращать не курс валюты, а изменение по сравнению в прошлым значением. Считайте, self.diff будет принимать значение True только при возврате значения курса. При отображении всей информации о валюте он не используется."
   ]
  },
  {
   "cell_type": "code",
   "execution_count": 87,
   "metadata": {},
   "outputs": [],
   "source": [
    "class Rate:\n",
    "    def __init__(self, format_='value'):\n",
    "        self.format = format_\n",
    "    \n",
    "    def exchange_rates(self):\n",
    "        \"\"\"\n",
    "        Возвращает ответ сервиса с информацией о валютах в виде:\n",
    "        \n",
    "        {\n",
    "            'AMD': {\n",
    "                'CharCode': 'AMD',\n",
    "                'ID': 'R01060',\n",
    "                'Name': 'Армянских драмов',\n",
    "                'Nominal': 100,\n",
    "                'NumCode': '051',\n",
    "                'Previous': 14.103,\n",
    "                'Value': 14.0879\n",
    "                },\n",
    "            ...\n",
    "        }\n",
    "        \"\"\"\n",
    "        self.r = requests.get('https://www.cbr-xml-daily.ru/daily_json.js')\n",
    "        return self.r.json()['Valute']\n",
    "    \n",
    "    def make_format(self, currency):\n",
    "        \"\"\"\n",
    "        Возвращает информацию о валюте currency в двух вариантах:\n",
    "        - полная информация о валюте при self.format = 'full':\n",
    "        Rate('full').make_format('EUR')\n",
    "        {\n",
    "            'CharCode': 'EUR',\n",
    "            'ID': 'R01239',\n",
    "            'Name': 'Евро',\n",
    "            'Nominal': 1,\n",
    "            'NumCode': '978',\n",
    "            'Previous': 79.6765,\n",
    "            'Value': 79.4966\n",
    "        }\n",
    "        \n",
    "        Rate('value').make_format('EUR')\n",
    "        79.4966\n",
    "        \"\"\"\n",
    "        response = self.exchange_rates()\n",
    "        \n",
    "        if currency in response:\n",
    "            if self.format == 'full':\n",
    "                return response[currency]\n",
    "            \n",
    "            if self.format == 'value':\n",
    "                return response[currency]['Value']\n",
    "        \n",
    "        return 'Error'\n",
    "    \n",
    "    def diff(self, currency):\n",
    "        \"\"\"Возвращает изменения в курсе валюты по сравнению с предыдущим значением.\"\"\"\n",
    "        response = self.exchange_rates()\n",
    "        return response[currency]['Previous'] - response[currency]['Value']\n",
    "    \n",
    "    #Добавила функцию, которая возвращает значение любой валюты по переданному аргументу.\n",
    "    def currency(self, currency, if_diff=False):\n",
    "        \"\"\"Возвращает курс валюты на сегодня в формате self.format либо изменения в курсе валюты (если if_diff=True)\"\"\"\n",
    "        if if_diff and self.format == 'value':\n",
    "            return self.diff(currency)\n",
    "        return self.make_format(currency)\n",
    "    \n",
    "    #Добавила функцию, которая выводит на экран значения валют (подсказка, какой аргумент передавать функции currency).\n",
    "    def help_currency(self):\n",
    "        response = self.exchange_rates()\n",
    "        for key in response:\n",
    "            print(f'{response[key][\"Name\"]}: {response[key][\"CharCode\"]}')\n",
    "    \n",
    "    def eur(self, if_diff=False):\n",
    "        \"\"\"Возвращает курс евро на сегодня в формате self.format либо изменения в курсе валюты (если if_diff=True)\"\"\"\n",
    "        if if_diff and self.format == 'value':\n",
    "            return self.diff('EUR')\n",
    "        return self.make_format('EUR')\n",
    "    \n",
    "    def usd(self, if_diff=False):\n",
    "        \"\"\"Возвращает курс доллара на сегодня в формате self.format либо изменения в курсе валюты (если if_diff=True)\"\"\"\n",
    "        if if_diff and self.format == 'value':\n",
    "            return self.diff('USD')\n",
    "        return self.make_format('USD')\n",
    "    \n",
    "    def brl(self, if_diff=False):\n",
    "        \"\"\"Возвращает курс бразильского реала на сегодня в формате self.format либо изменения в курсе валюты (если if_diff=True)\"\"\"\n",
    "        if if_diff and self.format == 'value':\n",
    "            return self.diff('BRL')\n",
    "        return self.make_format('BRL')"
   ]
  },
  {
   "cell_type": "code",
   "execution_count": 161,
   "metadata": {},
   "outputs": [
    {
     "name": "stdout",
     "output_type": "stream",
     "text": [
      "90.7932\n",
      "-0.11079999999999757\n",
      "73.8757\n",
      "0.0\n",
      "14.2233\n",
      "-0.04449999999999932\n",
      "****************************************************************************************************\n",
      "{'ID': 'R01239', 'NumCode': '978', 'CharCode': 'EUR', 'Nominal': 1, 'Name': 'Евро', 'Value': 90.7932, 'Previous': 90.6824}\n",
      "{'ID': 'R01239', 'NumCode': '978', 'CharCode': 'EUR', 'Nominal': 1, 'Name': 'Евро', 'Value': 90.7932, 'Previous': 90.6824}\n",
      "{'ID': 'R01235', 'NumCode': '840', 'CharCode': 'USD', 'Nominal': 1, 'Name': 'Доллар США', 'Value': 73.8757, 'Previous': 73.8757}\n",
      "{'ID': 'R01235', 'NumCode': '840', 'CharCode': 'USD', 'Nominal': 1, 'Name': 'Доллар США', 'Value': 73.8757, 'Previous': 73.8757}\n",
      "{'ID': 'R01115', 'NumCode': '986', 'CharCode': 'BRL', 'Nominal': 1, 'Name': 'Бразильский реал', 'Value': 14.2233, 'Previous': 14.1788}\n",
      "{'ID': 'R01115', 'NumCode': '986', 'CharCode': 'BRL', 'Nominal': 1, 'Name': 'Бразильский реал', 'Value': 14.2233, 'Previous': 14.1788}\n"
     ]
    }
   ],
   "source": [
    "cur = Rate()\n",
    "print(cur.eur())\n",
    "print(cur.eur(True))\n",
    "print(cur.usd())\n",
    "print(cur.usd(True))\n",
    "print(cur.brl())\n",
    "print(cur.brl(True))\n",
    "\n",
    "print('*' * 100)\n",
    "\n",
    "cur2 = Rate('full')\n",
    "print(cur2.eur())\n",
    "print(cur2.eur(True))\n",
    "print(cur2.usd())\n",
    "print(cur2.usd(True))\n",
    "print(cur2.brl())\n",
    "print(cur2.brl(True))"
   ]
  },
  {
   "cell_type": "code",
   "execution_count": 164,
   "metadata": {},
   "outputs": [
    {
     "name": "stdout",
     "output_type": "stream",
     "text": [
      "Австралийский доллар: AUD\n",
      "Азербайджанский манат: AZN\n",
      "Фунт стерлингов Соединенного королевства: GBP\n",
      "Армянских драмов: AMD\n",
      "Белорусский рубль: BYN\n",
      "Болгарский лев: BGN\n",
      "Бразильский реал: BRL\n",
      "Венгерских форинтов: HUF\n",
      "Гонконгских долларов: HKD\n",
      "Датская крона: DKK\n",
      "Доллар США: USD\n",
      "Евро: EUR\n",
      "Индийских рупий: INR\n",
      "Казахстанских тенге: KZT\n",
      "Канадский доллар: CAD\n",
      "Киргизских сомов: KGS\n",
      "Китайский юань: CNY\n",
      "Молдавских леев: MDL\n",
      "Норвежских крон: NOK\n",
      "Польский злотый: PLN\n",
      "Румынский лей: RON\n",
      "СДР (специальные права заимствования): XDR\n",
      "Сингапурский доллар: SGD\n",
      "Таджикских сомони: TJS\n",
      "Турецких лир: TRY\n",
      "Новый туркменский манат: TMT\n",
      "Узбекских сумов: UZS\n",
      "Украинских гривен: UAH\n",
      "Чешских крон: CZK\n",
      "Шведских крон: SEK\n",
      "Швейцарский франк: CHF\n",
      "Южноафриканских рэндов: ZAR\n",
      "Вон Республики Корея: KRW\n",
      "Японских иен: JPY\n",
      "****************************************************************************************************\n",
      "-0.3841999999999999\n",
      "34.6054\n",
      "71.6058\n",
      "-0.11430000000000007\n",
      "****************************************************************************************************\n",
      "{'ID': 'R01500', 'NumCode': '498', 'CharCode': 'MDL', 'Nominal': 10, 'Name': 'Молдавских леев', 'Value': 42.951, 'Previous': 42.9635}\n",
      "{'ID': 'R01500', 'NumCode': '498', 'CharCode': 'MDL', 'Nominal': 10, 'Name': 'Молдавских леев', 'Value': 42.951, 'Previous': 42.9635}\n"
     ]
    }
   ],
   "source": [
    "X = Rate()\n",
    "X.help_currency()\n",
    "print('*' * 100)\n",
    "print(X.currency('AUD', True))\n",
    "print(X.currency('CZK'))\n",
    "print(X.currency('JPY'))\n",
    "print(X.currency('JPY', True))\n",
    "print('*' * 100)\n",
    "Y = Rate('full')\n",
    "print(Y.currency('MDL'))\n",
    "print(Y.currency('MDL', True))"
   ]
  },
  {
   "cell_type": "markdown",
   "metadata": {},
   "source": [
    "## Задание 3\n",
    "Напишите класс Designer, который учитывает количество международных премий. Подсказки в коде занятия в разделе “Домашнее задание задача 3”.\n",
    "\n",
    "### Комментарий по классу Designer такой:\n",
    "Напишите класс Designer, который учитывает количество международных премий для дизайнеров (из презентации: “Повышение на 1 грейд за каждые 7 баллов. Получение международной премии – это +2 балла”). Считайте, что при выходе на работу сотрудник уже имеет две премии и их количество не меняется со стажем (конечно если хотите это можно вручную менять).\n",
    "\n",
    "Класс Designer пишется по аналогии с классом Developer из материалов занятия. Комментарий про его условия Вика написала выше: “Повышение на 1 грейд за каждые 7 баллов. Получение международной премии – это +2 балла”"
   ]
  },
  {
   "cell_type": "code",
   "execution_count": 107,
   "metadata": {},
   "outputs": [],
   "source": [
    "class Employee:\n",
    "    def __init__(self, name, seniority):\n",
    "        self.name = name\n",
    "        self.seniority = seniority\n",
    "        \n",
    "        self.grade = 1\n",
    "    \n",
    "    def grade_up(self):\n",
    "        \"\"\"Повышает уровень сотрудника\"\"\"\n",
    "        self.grade += 1\n",
    "    \n",
    "    def publish_grade(self):\n",
    "        \"\"\"Публикация результатов аккредитации сотрудников\"\"\"\n",
    "        print(self.name, self.grade)\n",
    "    \n",
    "    def check_if_it_is_time_for_upgrade(self):\n",
    "        pass"
   ]
  },
  {
   "cell_type": "code",
   "execution_count": 148,
   "metadata": {},
   "outputs": [],
   "source": [
    "class Designer(Employee):\n",
    "    def __init__(self, name, seniority=0, awards=2): \n",
    "        super().__init__(name, seniority=0)\n",
    "        \n",
    "        #Добавила отдельный счетчик для баллов за премии\n",
    "        self.awards = awards * 2\n",
    "        \n",
    "        #и общий счетчик баллов\n",
    "        self.scores = self.seniority + self.awards\n",
    "    \n",
    "    def change_scores(self):\n",
    "        \"\"\"Функция, которая изменяет общий счетчик баллов\"\"\"\n",
    "        self.scores = self.seniority + self.awards\n",
    "        return self.scores\n",
    "        \n",
    "    def check_if_it_is_time_for_upgrade(self):\n",
    "        self.seniority += 1\n",
    "        self.change_scores()\n",
    "        \n",
    "        # условие повышения сотрудника из презентации.\n",
    "        if self.scores % 7 == 0:\n",
    "            self.grade_up()\n",
    "        \n",
    "        # публикация результатов\n",
    "        return self.publish_grade()\n",
    "    \n",
    "    def if_int_award(self):\n",
    "        \"\"\"Функция для увеличения рейтинга сотрудника после получения международной премии\"\"\"\n",
    "        \n",
    "        # Для каждой премии увеличиваю показатель awards на 2 балла. После добавления каждого балла\n",
    "        # проверяю возможность повысить сотрудника.\n",
    "        for _ in range(2):\n",
    "            self.awards += 1\n",
    "            self.change_scores()\n",
    "            if self.scores % 7 == 0:\n",
    "                self.grade_up()\n",
    "                \n",
    "        # публикация результатов\n",
    "        return self.publish_grade()"
   ]
  },
  {
   "cell_type": "code",
   "execution_count": 167,
   "metadata": {},
   "outputs": [
    {
     "name": "stdout",
     "output_type": "stream",
     "text": [
      "Александр прошел аккредитацию!(4 + 1)\n",
      "Александр 1\n",
      "Александр получил международную премию! (5 + 2)\n",
      "Александр 2\n",
      "Александр прошел аккредитацию!(7 + 1)\n",
      "Александр 2\n",
      "Александр прошел аккредитацию!(8 + 1)\n",
      "Александр 2\n",
      "Александр прошел аккредитацию!(9 + 1)\n",
      "Александр 2\n",
      "Александр прошел аккредитацию!(10 + 1)\n",
      "Александр 2\n",
      "Александр прошел аккредитацию!(11 + 1)\n",
      "Александр 2\n",
      "Александр получил международную премию! (12 + 2)\n",
      "Александр 3\n",
      "Александр прошел аккредитацию!(14 + 1)\n",
      "Александр 3\n",
      "Александр прошел аккредитацию!(15 + 1)\n",
      "Александр 3\n",
      "Александр прошел аккредитацию!(16 + 1)\n",
      "Александр 3\n",
      "Александр прошел аккредитацию!(17 + 1)\n",
      "Александр 3\n",
      "Александр прошел аккредитацию!(18 + 1)\n",
      "Александр 3\n",
      "Александр получил международную премию! (19 + 2)\n",
      "Александр 4\n",
      "Александр прошел аккредитацию!(21 + 1)\n",
      "Александр 4\n"
     ]
    }
   ],
   "source": [
    "ivan = Designer('Александр')\n",
    "\n",
    "for i in range(12):\n",
    "    print(f'{ivan.name} прошел аккредитацию!({ivan.scores} + 1)')\n",
    "    ivan.check_if_it_is_time_for_upgrade()\n",
    "        \n",
    "    if i % 5 == 0:\n",
    "        print(f'{ivan.name} получил международную премию! ({ivan.scores} + 2)')\n",
    "        ivan.if_int_award()"
   ]
  },
  {
   "cell_type": "code",
   "execution_count": null,
   "metadata": {},
   "outputs": [],
   "source": []
  },
  {
   "cell_type": "code",
   "execution_count": null,
   "metadata": {},
   "outputs": [],
   "source": []
  }
 ],
 "metadata": {
  "kernelspec": {
   "display_name": "Python 3",
   "language": "python",
   "name": "python3"
  },
  "language_info": {
   "codemirror_mode": {
    "name": "ipython",
    "version": 3
   },
   "file_extension": ".py",
   "mimetype": "text/x-python",
   "name": "python",
   "nbconvert_exporter": "python",
   "pygments_lexer": "ipython3",
   "version": "3.8.5"
  }
 },
 "nbformat": 4,
 "nbformat_minor": 4
}
