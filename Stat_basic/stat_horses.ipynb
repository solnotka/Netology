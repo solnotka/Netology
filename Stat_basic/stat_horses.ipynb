{
 "cells": [
  {
   "cell_type": "markdown",
   "metadata": {},
   "source": [
    "## Обязательная часть\n",
    "\n",
    "Будем осуществлять работу с непростым [набором данных](https://raw.githubusercontent.com/obulygin/pyda_homeworks/master/statistics_basics/horse_data.csv) о состоянии здоровья лошадей, испытывающих кишечные колики. \n",
    "\n",
    "### Задание 1. Базовое изучение\n",
    "\n",
    "Изучить представленный набор данных на основе [описания его столбцов](https://raw.githubusercontent.com/obulygin/pyda_homeworks/master/statistics_basics/horse_data.names) и выбрать 8 столбцов для дальнейшего изучения (среди них должны быть как числовые, так и категориальные). Провести расчет базовых метрик для них, кратко описать результаты.\n",
    "\n",
    "### Задание 2. Работа с выбросами\n",
    "\n",
    "В выбранных числовых столбцах найти выбросы, выдвинуть гипотезы об их причинах и проинтерпретировать результаты. Принять и обосновать решение о дальнейшей работе с ними.\n",
    "\n",
    "### Задание 3. Работа с пропусками\n",
    "\n",
    "Рассчитать количество выбросов для всех выбранных столбцов. Принять и обосновать решение о методе работы с пропусками по каждому столбцу, сформировать датафрейм, в котором пропуски будут отсутствовать."
   ]
  },
  {
   "cell_type": "code",
   "execution_count": 1,
   "metadata": {},
   "outputs": [],
   "source": [
    "import pandas as pd\n",
    "import re"
   ]
  },
  {
   "cell_type": "code",
   "execution_count": 2,
   "metadata": {},
   "outputs": [],
   "source": [
    "#В исходном датафрейме нет заголовков, я их получаю из horse_data.names\n",
    "headers_list = []\n",
    "with open('horse_data.names') as f:\n",
    "    for line in f.readlines():\n",
    "        if re.match(r'\\d+:', line.strip()):\n",
    "            headers_list.append(line.strip().replace(': ', '_').replace(' ', '_'))\n",
    "\n",
    "for header in ['25_type_of_lesion', '26_type_of_lesion', '27_type_of_lesion']:\n",
    "    headers_list.insert(-1, header)\n",
    "headers_list[10] = '11_pain'"
   ]
  },
  {
   "cell_type": "code",
   "execution_count": 3,
   "metadata": {},
   "outputs": [
    {
     "name": "stdout",
     "output_type": "stream",
     "text": [
      "<class 'pandas.core.frame.DataFrame'>\n",
      "RangeIndex: 300 entries, 0 to 299\n",
      "Data columns (total 28 columns):\n",
      " #   Column                          Non-Null Count  Dtype  \n",
      "---  ------                          --------------  -----  \n",
      " 0   1__surgery?                     299 non-null    float64\n",
      " 1   2__Age                          300 non-null    int64  \n",
      " 2   3__Hospital_Number              300 non-null    int64  \n",
      " 3   4__rectal_temperature           240 non-null    float64\n",
      " 4   5__pulse                        276 non-null    float64\n",
      " 5   6__respiratory_rate             242 non-null    float64\n",
      " 6   7__temperature_of_extremities   244 non-null    float64\n",
      " 7   8__peripheral_pulse             231 non-null    float64\n",
      " 8   9__mucous_membranes             253 non-null    float64\n",
      " 9   10_capillary_refill_time        268 non-null    float64\n",
      " 10  11_pain                         245 non-null    float64\n",
      " 11  12_peristalsis                  256 non-null    float64\n",
      " 12  13_abdominal_distension         244 non-null    float64\n",
      " 13  14_nasogastric_tube             196 non-null    float64\n",
      " 14  15_nasogastric_reflux           194 non-null    float64\n",
      " 15  16_nasogastric_reflux_PH        53 non-null     float64\n",
      " 16  17_rectal_examination_-_feces   198 non-null    float64\n",
      " 17  18_abdomen                      182 non-null    float64\n",
      " 18  19_packed_cell_volume           271 non-null    float64\n",
      " 19  20_total_protein                267 non-null    float64\n",
      " 20  21_abdominocentesis_appearance  135 non-null    float64\n",
      " 21  22_abdomcentesis_total_protein  102 non-null    float64\n",
      " 22  23_outcome                      299 non-null    float64\n",
      " 23  24_surgical_lesion?             300 non-null    int64  \n",
      " 24  25_type_of_lesion               300 non-null    int64  \n",
      " 25  26_type_of_lesion               300 non-null    int64  \n",
      " 26  27_type_of_lesion               300 non-null    int64  \n",
      " 27  28_cp_data                      300 non-null    int64  \n",
      "dtypes: float64(21), int64(7)\n",
      "memory usage: 65.8 KB\n"
     ]
    }
   ],
   "source": [
    "horses = pd.read_csv('horse_data.csv', names=headers_list, na_values='?')\n",
    "horses.info()"
   ]
  },
  {
   "cell_type": "code",
   "execution_count": 4,
   "metadata": {},
   "outputs": [
    {
     "data": {
      "text/html": [
       "<div>\n",
       "<style scoped>\n",
       "    .dataframe tbody tr th:only-of-type {\n",
       "        vertical-align: middle;\n",
       "    }\n",
       "\n",
       "    .dataframe tbody tr th {\n",
       "        vertical-align: top;\n",
       "    }\n",
       "\n",
       "    .dataframe thead th {\n",
       "        text-align: right;\n",
       "    }\n",
       "</style>\n",
       "<table border=\"1\" class=\"dataframe\">\n",
       "  <thead>\n",
       "    <tr style=\"text-align: right;\">\n",
       "      <th></th>\n",
       "      <th>1__surgery?</th>\n",
       "      <th>2__Age</th>\n",
       "      <th>3__Hospital_Number</th>\n",
       "      <th>4__rectal_temperature</th>\n",
       "      <th>5__pulse</th>\n",
       "      <th>6__respiratory_rate</th>\n",
       "      <th>7__temperature_of_extremities</th>\n",
       "      <th>8__peripheral_pulse</th>\n",
       "      <th>9__mucous_membranes</th>\n",
       "      <th>10_capillary_refill_time</th>\n",
       "      <th>...</th>\n",
       "      <th>19_packed_cell_volume</th>\n",
       "      <th>20_total_protein</th>\n",
       "      <th>21_abdominocentesis_appearance</th>\n",
       "      <th>22_abdomcentesis_total_protein</th>\n",
       "      <th>23_outcome</th>\n",
       "      <th>24_surgical_lesion?</th>\n",
       "      <th>25_type_of_lesion</th>\n",
       "      <th>26_type_of_lesion</th>\n",
       "      <th>27_type_of_lesion</th>\n",
       "      <th>28_cp_data</th>\n",
       "    </tr>\n",
       "  </thead>\n",
       "  <tbody>\n",
       "    <tr>\n",
       "      <th>0</th>\n",
       "      <td>2.0</td>\n",
       "      <td>1</td>\n",
       "      <td>530101</td>\n",
       "      <td>38.5</td>\n",
       "      <td>66.0</td>\n",
       "      <td>28.0</td>\n",
       "      <td>3.0</td>\n",
       "      <td>3.0</td>\n",
       "      <td>NaN</td>\n",
       "      <td>2.0</td>\n",
       "      <td>...</td>\n",
       "      <td>45.0</td>\n",
       "      <td>8.4</td>\n",
       "      <td>NaN</td>\n",
       "      <td>NaN</td>\n",
       "      <td>2.0</td>\n",
       "      <td>2</td>\n",
       "      <td>11300</td>\n",
       "      <td>0</td>\n",
       "      <td>0</td>\n",
       "      <td>2</td>\n",
       "    </tr>\n",
       "    <tr>\n",
       "      <th>1</th>\n",
       "      <td>1.0</td>\n",
       "      <td>1</td>\n",
       "      <td>534817</td>\n",
       "      <td>39.2</td>\n",
       "      <td>88.0</td>\n",
       "      <td>20.0</td>\n",
       "      <td>NaN</td>\n",
       "      <td>NaN</td>\n",
       "      <td>4.0</td>\n",
       "      <td>1.0</td>\n",
       "      <td>...</td>\n",
       "      <td>50.0</td>\n",
       "      <td>85.0</td>\n",
       "      <td>2.0</td>\n",
       "      <td>2.0</td>\n",
       "      <td>3.0</td>\n",
       "      <td>2</td>\n",
       "      <td>2208</td>\n",
       "      <td>0</td>\n",
       "      <td>0</td>\n",
       "      <td>2</td>\n",
       "    </tr>\n",
       "    <tr>\n",
       "      <th>2</th>\n",
       "      <td>2.0</td>\n",
       "      <td>1</td>\n",
       "      <td>530334</td>\n",
       "      <td>38.3</td>\n",
       "      <td>40.0</td>\n",
       "      <td>24.0</td>\n",
       "      <td>1.0</td>\n",
       "      <td>1.0</td>\n",
       "      <td>3.0</td>\n",
       "      <td>1.0</td>\n",
       "      <td>...</td>\n",
       "      <td>33.0</td>\n",
       "      <td>6.7</td>\n",
       "      <td>NaN</td>\n",
       "      <td>NaN</td>\n",
       "      <td>1.0</td>\n",
       "      <td>2</td>\n",
       "      <td>0</td>\n",
       "      <td>0</td>\n",
       "      <td>0</td>\n",
       "      <td>1</td>\n",
       "    </tr>\n",
       "    <tr>\n",
       "      <th>3</th>\n",
       "      <td>1.0</td>\n",
       "      <td>9</td>\n",
       "      <td>5290409</td>\n",
       "      <td>39.1</td>\n",
       "      <td>164.0</td>\n",
       "      <td>84.0</td>\n",
       "      <td>4.0</td>\n",
       "      <td>1.0</td>\n",
       "      <td>6.0</td>\n",
       "      <td>2.0</td>\n",
       "      <td>...</td>\n",
       "      <td>48.0</td>\n",
       "      <td>7.2</td>\n",
       "      <td>3.0</td>\n",
       "      <td>5.3</td>\n",
       "      <td>2.0</td>\n",
       "      <td>1</td>\n",
       "      <td>2208</td>\n",
       "      <td>0</td>\n",
       "      <td>0</td>\n",
       "      <td>1</td>\n",
       "    </tr>\n",
       "    <tr>\n",
       "      <th>4</th>\n",
       "      <td>2.0</td>\n",
       "      <td>1</td>\n",
       "      <td>530255</td>\n",
       "      <td>37.3</td>\n",
       "      <td>104.0</td>\n",
       "      <td>35.0</td>\n",
       "      <td>NaN</td>\n",
       "      <td>NaN</td>\n",
       "      <td>6.0</td>\n",
       "      <td>2.0</td>\n",
       "      <td>...</td>\n",
       "      <td>74.0</td>\n",
       "      <td>7.4</td>\n",
       "      <td>NaN</td>\n",
       "      <td>NaN</td>\n",
       "      <td>2.0</td>\n",
       "      <td>2</td>\n",
       "      <td>4300</td>\n",
       "      <td>0</td>\n",
       "      <td>0</td>\n",
       "      <td>2</td>\n",
       "    </tr>\n",
       "  </tbody>\n",
       "</table>\n",
       "<p>5 rows × 28 columns</p>\n",
       "</div>"
      ],
      "text/plain": [
       "   1__surgery?  2__Age  3__Hospital_Number  4__rectal_temperature  5__pulse  \\\n",
       "0          2.0       1              530101                   38.5      66.0   \n",
       "1          1.0       1              534817                   39.2      88.0   \n",
       "2          2.0       1              530334                   38.3      40.0   \n",
       "3          1.0       9             5290409                   39.1     164.0   \n",
       "4          2.0       1              530255                   37.3     104.0   \n",
       "\n",
       "   6__respiratory_rate  7__temperature_of_extremities  8__peripheral_pulse  \\\n",
       "0                 28.0                            3.0                  3.0   \n",
       "1                 20.0                            NaN                  NaN   \n",
       "2                 24.0                            1.0                  1.0   \n",
       "3                 84.0                            4.0                  1.0   \n",
       "4                 35.0                            NaN                  NaN   \n",
       "\n",
       "   9__mucous_membranes  10_capillary_refill_time  ...  19_packed_cell_volume  \\\n",
       "0                  NaN                       2.0  ...                   45.0   \n",
       "1                  4.0                       1.0  ...                   50.0   \n",
       "2                  3.0                       1.0  ...                   33.0   \n",
       "3                  6.0                       2.0  ...                   48.0   \n",
       "4                  6.0                       2.0  ...                   74.0   \n",
       "\n",
       "   20_total_protein  21_abdominocentesis_appearance  \\\n",
       "0               8.4                             NaN   \n",
       "1              85.0                             2.0   \n",
       "2               6.7                             NaN   \n",
       "3               7.2                             3.0   \n",
       "4               7.4                             NaN   \n",
       "\n",
       "   22_abdomcentesis_total_protein  23_outcome  24_surgical_lesion?  \\\n",
       "0                             NaN         2.0                    2   \n",
       "1                             2.0         3.0                    2   \n",
       "2                             NaN         1.0                    2   \n",
       "3                             5.3         2.0                    1   \n",
       "4                             NaN         2.0                    2   \n",
       "\n",
       "   25_type_of_lesion  26_type_of_lesion  27_type_of_lesion  28_cp_data  \n",
       "0              11300                  0                  0           2  \n",
       "1               2208                  0                  0           2  \n",
       "2                  0                  0                  0           1  \n",
       "3               2208                  0                  0           1  \n",
       "4               4300                  0                  0           2  \n",
       "\n",
       "[5 rows x 28 columns]"
      ]
     },
     "execution_count": 4,
     "metadata": {},
     "output_type": "execute_result"
    }
   ],
   "source": [
    "horses.head()"
   ]
  },
  {
   "cell_type": "code",
   "execution_count": 5,
   "metadata": {},
   "outputs": [
    {
     "data": {
      "text/html": [
       "<div>\n",
       "<style scoped>\n",
       "    .dataframe tbody tr th:only-of-type {\n",
       "        vertical-align: middle;\n",
       "    }\n",
       "\n",
       "    .dataframe tbody tr th {\n",
       "        vertical-align: top;\n",
       "    }\n",
       "\n",
       "    .dataframe thead th {\n",
       "        text-align: right;\n",
       "    }\n",
       "</style>\n",
       "<table border=\"1\" class=\"dataframe\">\n",
       "  <thead>\n",
       "    <tr style=\"text-align: right;\">\n",
       "      <th></th>\n",
       "      <th>1__surgery?</th>\n",
       "      <th>2__Age</th>\n",
       "      <th>3__Hospital_Number</th>\n",
       "      <th>4__rectal_temperature</th>\n",
       "      <th>5__pulse</th>\n",
       "      <th>6__respiratory_rate</th>\n",
       "      <th>7__temperature_of_extremities</th>\n",
       "      <th>8__peripheral_pulse</th>\n",
       "      <th>9__mucous_membranes</th>\n",
       "      <th>10_capillary_refill_time</th>\n",
       "      <th>...</th>\n",
       "      <th>19_packed_cell_volume</th>\n",
       "      <th>20_total_protein</th>\n",
       "      <th>21_abdominocentesis_appearance</th>\n",
       "      <th>22_abdomcentesis_total_protein</th>\n",
       "      <th>23_outcome</th>\n",
       "      <th>24_surgical_lesion?</th>\n",
       "      <th>25_type_of_lesion</th>\n",
       "      <th>26_type_of_lesion</th>\n",
       "      <th>27_type_of_lesion</th>\n",
       "      <th>28_cp_data</th>\n",
       "    </tr>\n",
       "  </thead>\n",
       "  <tbody>\n",
       "    <tr>\n",
       "      <th>count</th>\n",
       "      <td>299.000000</td>\n",
       "      <td>300.000000</td>\n",
       "      <td>3.000000e+02</td>\n",
       "      <td>240.000000</td>\n",
       "      <td>276.000000</td>\n",
       "      <td>242.000000</td>\n",
       "      <td>244.000000</td>\n",
       "      <td>231.000000</td>\n",
       "      <td>253.000000</td>\n",
       "      <td>268.000000</td>\n",
       "      <td>...</td>\n",
       "      <td>271.000000</td>\n",
       "      <td>267.000000</td>\n",
       "      <td>135.000000</td>\n",
       "      <td>102.000000</td>\n",
       "      <td>299.000000</td>\n",
       "      <td>300.000000</td>\n",
       "      <td>300.000000</td>\n",
       "      <td>300.000000</td>\n",
       "      <td>300.000000</td>\n",
       "      <td>300.000000</td>\n",
       "    </tr>\n",
       "    <tr>\n",
       "      <th>mean</th>\n",
       "      <td>1.397993</td>\n",
       "      <td>1.640000</td>\n",
       "      <td>1.085889e+06</td>\n",
       "      <td>38.167917</td>\n",
       "      <td>71.913043</td>\n",
       "      <td>30.417355</td>\n",
       "      <td>2.348361</td>\n",
       "      <td>2.017316</td>\n",
       "      <td>2.853755</td>\n",
       "      <td>1.305970</td>\n",
       "      <td>...</td>\n",
       "      <td>46.295203</td>\n",
       "      <td>24.456929</td>\n",
       "      <td>2.037037</td>\n",
       "      <td>3.019608</td>\n",
       "      <td>1.551839</td>\n",
       "      <td>1.363333</td>\n",
       "      <td>3657.880000</td>\n",
       "      <td>90.226667</td>\n",
       "      <td>7.363333</td>\n",
       "      <td>1.670000</td>\n",
       "    </tr>\n",
       "    <tr>\n",
       "      <th>std</th>\n",
       "      <td>0.490305</td>\n",
       "      <td>2.173972</td>\n",
       "      <td>1.529801e+06</td>\n",
       "      <td>0.732289</td>\n",
       "      <td>28.630557</td>\n",
       "      <td>17.642231</td>\n",
       "      <td>1.045054</td>\n",
       "      <td>1.042428</td>\n",
       "      <td>1.620294</td>\n",
       "      <td>0.477629</td>\n",
       "      <td>...</td>\n",
       "      <td>10.419335</td>\n",
       "      <td>27.475009</td>\n",
       "      <td>0.804905</td>\n",
       "      <td>1.968567</td>\n",
       "      <td>0.737187</td>\n",
       "      <td>0.481763</td>\n",
       "      <td>5399.513513</td>\n",
       "      <td>649.569234</td>\n",
       "      <td>127.536674</td>\n",
       "      <td>0.470998</td>\n",
       "    </tr>\n",
       "    <tr>\n",
       "      <th>min</th>\n",
       "      <td>1.000000</td>\n",
       "      <td>1.000000</td>\n",
       "      <td>5.184760e+05</td>\n",
       "      <td>35.400000</td>\n",
       "      <td>30.000000</td>\n",
       "      <td>8.000000</td>\n",
       "      <td>1.000000</td>\n",
       "      <td>1.000000</td>\n",
       "      <td>1.000000</td>\n",
       "      <td>1.000000</td>\n",
       "      <td>...</td>\n",
       "      <td>23.000000</td>\n",
       "      <td>3.300000</td>\n",
       "      <td>1.000000</td>\n",
       "      <td>0.100000</td>\n",
       "      <td>1.000000</td>\n",
       "      <td>1.000000</td>\n",
       "      <td>0.000000</td>\n",
       "      <td>0.000000</td>\n",
       "      <td>0.000000</td>\n",
       "      <td>1.000000</td>\n",
       "    </tr>\n",
       "    <tr>\n",
       "      <th>25%</th>\n",
       "      <td>1.000000</td>\n",
       "      <td>1.000000</td>\n",
       "      <td>5.289040e+05</td>\n",
       "      <td>37.800000</td>\n",
       "      <td>48.000000</td>\n",
       "      <td>18.500000</td>\n",
       "      <td>1.000000</td>\n",
       "      <td>1.000000</td>\n",
       "      <td>1.000000</td>\n",
       "      <td>1.000000</td>\n",
       "      <td>...</td>\n",
       "      <td>38.000000</td>\n",
       "      <td>6.500000</td>\n",
       "      <td>1.000000</td>\n",
       "      <td>2.000000</td>\n",
       "      <td>1.000000</td>\n",
       "      <td>1.000000</td>\n",
       "      <td>2111.750000</td>\n",
       "      <td>0.000000</td>\n",
       "      <td>0.000000</td>\n",
       "      <td>1.000000</td>\n",
       "    </tr>\n",
       "    <tr>\n",
       "      <th>50%</th>\n",
       "      <td>1.000000</td>\n",
       "      <td>1.000000</td>\n",
       "      <td>5.303055e+05</td>\n",
       "      <td>38.200000</td>\n",
       "      <td>64.000000</td>\n",
       "      <td>24.500000</td>\n",
       "      <td>3.000000</td>\n",
       "      <td>2.000000</td>\n",
       "      <td>3.000000</td>\n",
       "      <td>1.000000</td>\n",
       "      <td>...</td>\n",
       "      <td>45.000000</td>\n",
       "      <td>7.500000</td>\n",
       "      <td>2.000000</td>\n",
       "      <td>2.250000</td>\n",
       "      <td>1.000000</td>\n",
       "      <td>1.000000</td>\n",
       "      <td>2673.500000</td>\n",
       "      <td>0.000000</td>\n",
       "      <td>0.000000</td>\n",
       "      <td>2.000000</td>\n",
       "    </tr>\n",
       "    <tr>\n",
       "      <th>75%</th>\n",
       "      <td>2.000000</td>\n",
       "      <td>1.000000</td>\n",
       "      <td>5.347275e+05</td>\n",
       "      <td>38.500000</td>\n",
       "      <td>88.000000</td>\n",
       "      <td>36.000000</td>\n",
       "      <td>3.000000</td>\n",
       "      <td>3.000000</td>\n",
       "      <td>4.000000</td>\n",
       "      <td>2.000000</td>\n",
       "      <td>...</td>\n",
       "      <td>52.000000</td>\n",
       "      <td>57.000000</td>\n",
       "      <td>3.000000</td>\n",
       "      <td>3.900000</td>\n",
       "      <td>2.000000</td>\n",
       "      <td>2.000000</td>\n",
       "      <td>3209.000000</td>\n",
       "      <td>0.000000</td>\n",
       "      <td>0.000000</td>\n",
       "      <td>2.000000</td>\n",
       "    </tr>\n",
       "    <tr>\n",
       "      <th>max</th>\n",
       "      <td>2.000000</td>\n",
       "      <td>9.000000</td>\n",
       "      <td>5.305629e+06</td>\n",
       "      <td>40.800000</td>\n",
       "      <td>184.000000</td>\n",
       "      <td>96.000000</td>\n",
       "      <td>4.000000</td>\n",
       "      <td>4.000000</td>\n",
       "      <td>6.000000</td>\n",
       "      <td>3.000000</td>\n",
       "      <td>...</td>\n",
       "      <td>75.000000</td>\n",
       "      <td>89.000000</td>\n",
       "      <td>3.000000</td>\n",
       "      <td>10.100000</td>\n",
       "      <td>3.000000</td>\n",
       "      <td>2.000000</td>\n",
       "      <td>41110.000000</td>\n",
       "      <td>7111.000000</td>\n",
       "      <td>2209.000000</td>\n",
       "      <td>2.000000</td>\n",
       "    </tr>\n",
       "  </tbody>\n",
       "</table>\n",
       "<p>8 rows × 28 columns</p>\n",
       "</div>"
      ],
      "text/plain": [
       "       1__surgery?      2__Age  3__Hospital_Number  4__rectal_temperature  \\\n",
       "count   299.000000  300.000000        3.000000e+02             240.000000   \n",
       "mean      1.397993    1.640000        1.085889e+06              38.167917   \n",
       "std       0.490305    2.173972        1.529801e+06               0.732289   \n",
       "min       1.000000    1.000000        5.184760e+05              35.400000   \n",
       "25%       1.000000    1.000000        5.289040e+05              37.800000   \n",
       "50%       1.000000    1.000000        5.303055e+05              38.200000   \n",
       "75%       2.000000    1.000000        5.347275e+05              38.500000   \n",
       "max       2.000000    9.000000        5.305629e+06              40.800000   \n",
       "\n",
       "         5__pulse  6__respiratory_rate  7__temperature_of_extremities  \\\n",
       "count  276.000000           242.000000                     244.000000   \n",
       "mean    71.913043            30.417355                       2.348361   \n",
       "std     28.630557            17.642231                       1.045054   \n",
       "min     30.000000             8.000000                       1.000000   \n",
       "25%     48.000000            18.500000                       1.000000   \n",
       "50%     64.000000            24.500000                       3.000000   \n",
       "75%     88.000000            36.000000                       3.000000   \n",
       "max    184.000000            96.000000                       4.000000   \n",
       "\n",
       "       8__peripheral_pulse  9__mucous_membranes  10_capillary_refill_time  \\\n",
       "count           231.000000           253.000000                268.000000   \n",
       "mean              2.017316             2.853755                  1.305970   \n",
       "std               1.042428             1.620294                  0.477629   \n",
       "min               1.000000             1.000000                  1.000000   \n",
       "25%               1.000000             1.000000                  1.000000   \n",
       "50%               2.000000             3.000000                  1.000000   \n",
       "75%               3.000000             4.000000                  2.000000   \n",
       "max               4.000000             6.000000                  3.000000   \n",
       "\n",
       "       ...  19_packed_cell_volume  20_total_protein  \\\n",
       "count  ...             271.000000        267.000000   \n",
       "mean   ...              46.295203         24.456929   \n",
       "std    ...              10.419335         27.475009   \n",
       "min    ...              23.000000          3.300000   \n",
       "25%    ...              38.000000          6.500000   \n",
       "50%    ...              45.000000          7.500000   \n",
       "75%    ...              52.000000         57.000000   \n",
       "max    ...              75.000000         89.000000   \n",
       "\n",
       "       21_abdominocentesis_appearance  22_abdomcentesis_total_protein  \\\n",
       "count                      135.000000                      102.000000   \n",
       "mean                         2.037037                        3.019608   \n",
       "std                          0.804905                        1.968567   \n",
       "min                          1.000000                        0.100000   \n",
       "25%                          1.000000                        2.000000   \n",
       "50%                          2.000000                        2.250000   \n",
       "75%                          3.000000                        3.900000   \n",
       "max                          3.000000                       10.100000   \n",
       "\n",
       "       23_outcome  24_surgical_lesion?  25_type_of_lesion  26_type_of_lesion  \\\n",
       "count  299.000000           300.000000         300.000000         300.000000   \n",
       "mean     1.551839             1.363333        3657.880000          90.226667   \n",
       "std      0.737187             0.481763        5399.513513         649.569234   \n",
       "min      1.000000             1.000000           0.000000           0.000000   \n",
       "25%      1.000000             1.000000        2111.750000           0.000000   \n",
       "50%      1.000000             1.000000        2673.500000           0.000000   \n",
       "75%      2.000000             2.000000        3209.000000           0.000000   \n",
       "max      3.000000             2.000000       41110.000000        7111.000000   \n",
       "\n",
       "       27_type_of_lesion  28_cp_data  \n",
       "count         300.000000  300.000000  \n",
       "mean            7.363333    1.670000  \n",
       "std           127.536674    0.470998  \n",
       "min             0.000000    1.000000  \n",
       "25%             0.000000    1.000000  \n",
       "50%             0.000000    2.000000  \n",
       "75%             0.000000    2.000000  \n",
       "max          2209.000000    2.000000  \n",
       "\n",
       "[8 rows x 28 columns]"
      ]
     },
     "execution_count": 5,
     "metadata": {},
     "output_type": "execute_result"
    }
   ],
   "source": [
    "horses.describe()"
   ]
  },
  {
   "cell_type": "markdown",
   "metadata": {},
   "source": [
    "## Анализ столбцов 1 - 4\n",
    "Мне показалось удобным поделить df на кусочки по 4 столбца и тупо последовательно посмотреть на каждый."
   ]
  },
  {
   "cell_type": "code",
   "execution_count": 6,
   "metadata": {},
   "outputs": [
    {
     "data": {
      "text/html": [
       "<div>\n",
       "<style scoped>\n",
       "    .dataframe tbody tr th:only-of-type {\n",
       "        vertical-align: middle;\n",
       "    }\n",
       "\n",
       "    .dataframe tbody tr th {\n",
       "        vertical-align: top;\n",
       "    }\n",
       "\n",
       "    .dataframe thead th {\n",
       "        text-align: right;\n",
       "    }\n",
       "</style>\n",
       "<table border=\"1\" class=\"dataframe\">\n",
       "  <thead>\n",
       "    <tr style=\"text-align: right;\">\n",
       "      <th></th>\n",
       "      <th>1__surgery?</th>\n",
       "      <th>2__Age</th>\n",
       "      <th>3__Hospital_Number</th>\n",
       "      <th>4__rectal_temperature</th>\n",
       "    </tr>\n",
       "  </thead>\n",
       "  <tbody>\n",
       "    <tr>\n",
       "      <th>0</th>\n",
       "      <td>2.0</td>\n",
       "      <td>1</td>\n",
       "      <td>530101</td>\n",
       "      <td>38.5</td>\n",
       "    </tr>\n",
       "    <tr>\n",
       "      <th>1</th>\n",
       "      <td>1.0</td>\n",
       "      <td>1</td>\n",
       "      <td>534817</td>\n",
       "      <td>39.2</td>\n",
       "    </tr>\n",
       "    <tr>\n",
       "      <th>2</th>\n",
       "      <td>2.0</td>\n",
       "      <td>1</td>\n",
       "      <td>530334</td>\n",
       "      <td>38.3</td>\n",
       "    </tr>\n",
       "    <tr>\n",
       "      <th>3</th>\n",
       "      <td>1.0</td>\n",
       "      <td>9</td>\n",
       "      <td>5290409</td>\n",
       "      <td>39.1</td>\n",
       "    </tr>\n",
       "    <tr>\n",
       "      <th>4</th>\n",
       "      <td>2.0</td>\n",
       "      <td>1</td>\n",
       "      <td>530255</td>\n",
       "      <td>37.3</td>\n",
       "    </tr>\n",
       "  </tbody>\n",
       "</table>\n",
       "</div>"
      ],
      "text/plain": [
       "   1__surgery?  2__Age  3__Hospital_Number  4__rectal_temperature\n",
       "0          2.0       1              530101                   38.5\n",
       "1          1.0       1              534817                   39.2\n",
       "2          2.0       1              530334                   38.3\n",
       "3          1.0       9             5290409                   39.1\n",
       "4          2.0       1              530255                   37.3"
      ]
     },
     "execution_count": 6,
     "metadata": {},
     "output_type": "execute_result"
    }
   ],
   "source": [
    "horses_four = horses[headers_list[:4]]\n",
    "horses_four.head()"
   ]
  },
  {
   "cell_type": "markdown",
   "metadata": {},
   "source": [
    "Судя по описанию и по первым строчкам, в первых трех столбцах категориальные данные, в четвертом - количественные. План действий следующий:\n",
    "* В столбцах 1 и 2, судя по описанию, возможны только 2 вида значений: 1 и 2. Соответственно, нужно просто проверить, в каком соотношении они встречаются, и нет ли ошибок (судя по тому, что в столбце Age уже видна девятка, ошибки есть).\n",
    "* В столбце 3 интересно выяснить, много ли повторяющихся значений (есть ли лошади, которые лечились несколько раз)\n",
    "* Для столбца 4 нужно рассчитать базовые метрики"
   ]
  },
  {
   "cell_type": "code",
   "execution_count": 7,
   "metadata": {},
   "outputs": [
    {
     "data": {
      "text/html": [
       "<div>\n",
       "<style scoped>\n",
       "    .dataframe tbody tr th:only-of-type {\n",
       "        vertical-align: middle;\n",
       "    }\n",
       "\n",
       "    .dataframe tbody tr th {\n",
       "        vertical-align: top;\n",
       "    }\n",
       "\n",
       "    .dataframe thead th {\n",
       "        text-align: right;\n",
       "    }\n",
       "</style>\n",
       "<table border=\"1\" class=\"dataframe\">\n",
       "  <thead>\n",
       "    <tr style=\"text-align: right;\">\n",
       "      <th></th>\n",
       "      <th></th>\n",
       "      <th>3__Hospital_Number</th>\n",
       "      <th>4__rectal_temperature</th>\n",
       "    </tr>\n",
       "    <tr>\n",
       "      <th>1__surgery?</th>\n",
       "      <th>2__Age</th>\n",
       "      <th></th>\n",
       "      <th></th>\n",
       "    </tr>\n",
       "  </thead>\n",
       "  <tbody>\n",
       "    <tr>\n",
       "      <th rowspan=\"2\" valign=\"top\">1.0</th>\n",
       "      <th>1</th>\n",
       "      <td>162</td>\n",
       "      <td>125</td>\n",
       "    </tr>\n",
       "    <tr>\n",
       "      <th>9</th>\n",
       "      <td>18</td>\n",
       "      <td>15</td>\n",
       "    </tr>\n",
       "    <tr>\n",
       "      <th rowspan=\"2\" valign=\"top\">2.0</th>\n",
       "      <th>1</th>\n",
       "      <td>113</td>\n",
       "      <td>94</td>\n",
       "    </tr>\n",
       "    <tr>\n",
       "      <th>9</th>\n",
       "      <td>6</td>\n",
       "      <td>5</td>\n",
       "    </tr>\n",
       "  </tbody>\n",
       "</table>\n",
       "</div>"
      ],
      "text/plain": [
       "                    3__Hospital_Number  4__rectal_temperature\n",
       "1__surgery? 2__Age                                           \n",
       "1.0         1                      162                    125\n",
       "            9                       18                     15\n",
       "2.0         1                      113                     94\n",
       "            9                        6                      5"
      ]
     },
     "execution_count": 7,
     "metadata": {},
     "output_type": "execute_result"
    }
   ],
   "source": [
    "horses_four.groupby(['1__surgery?', '2__Age']).count()"
   ]
  },
  {
   "cell_type": "code",
   "execution_count": 8,
   "metadata": {},
   "outputs": [
    {
     "data": {
      "text/html": [
       "<div>\n",
       "<style scoped>\n",
       "    .dataframe tbody tr th:only-of-type {\n",
       "        vertical-align: middle;\n",
       "    }\n",
       "\n",
       "    .dataframe tbody tr th {\n",
       "        vertical-align: top;\n",
       "    }\n",
       "\n",
       "    .dataframe thead th {\n",
       "        text-align: right;\n",
       "    }\n",
       "</style>\n",
       "<table border=\"1\" class=\"dataframe\">\n",
       "  <thead>\n",
       "    <tr style=\"text-align: right;\">\n",
       "      <th></th>\n",
       "      <th>1__surgery?</th>\n",
       "      <th>4__rectal_temperature</th>\n",
       "    </tr>\n",
       "    <tr>\n",
       "      <th>2__Age</th>\n",
       "      <th></th>\n",
       "      <th></th>\n",
       "    </tr>\n",
       "  </thead>\n",
       "  <tbody>\n",
       "    <tr>\n",
       "      <th>1</th>\n",
       "      <td>268</td>\n",
       "      <td>268</td>\n",
       "    </tr>\n",
       "    <tr>\n",
       "      <th>2</th>\n",
       "      <td>16</td>\n",
       "      <td>16</td>\n",
       "    </tr>\n",
       "  </tbody>\n",
       "</table>\n",
       "</div>"
      ],
      "text/plain": [
       "        1__surgery?  4__rectal_temperature\n",
       "2__Age                                    \n",
       "1               268                    268\n",
       "2                16                     16"
      ]
     },
     "execution_count": 8,
     "metadata": {},
     "output_type": "execute_result"
    }
   ],
   "source": [
    "# Смотрю, сколько в столбце 3 не уникальных ячеек\n",
    "horses_four.groupby(['3__Hospital_Number']).count().groupby(['2__Age']).count()"
   ]
  },
  {
   "cell_type": "code",
   "execution_count": 9,
   "metadata": {},
   "outputs": [
    {
     "name": "stdout",
     "output_type": "stream",
     "text": [
      "count    240.000000\n",
      "mean      38.167917\n",
      "std        0.732289\n",
      "min       35.400000\n",
      "25%       37.800000\n",
      "50%       38.200000\n",
      "75%       38.500000\n",
      "max       40.800000\n",
      "Name: 4__rectal_temperature, dtype: float64\n",
      "38.0\n",
      "38.2\n",
      "5.399999999999999\n"
     ]
    }
   ],
   "source": [
    "# Основные метрики для столбца 4\n",
    "print(horses_four['4__rectal_temperature'].describe())\n",
    "print(horses_four['4__rectal_temperature'].round(2). mode()[0])\n",
    "print(horses_four['4__rectal_temperature'].median())\n",
    "print(horses_four['4__rectal_temperature'].max() - horses_four['4__rectal_temperature'].min())"
   ]
  },
  {
   "cell_type": "code",
   "execution_count": 10,
   "metadata": {},
   "outputs": [
    {
     "name": "stdout",
     "output_type": "stream",
     "text": [
      "count    226.000000\n",
      "mean      38.169027\n",
      "std        0.571949\n",
      "min       36.800000\n",
      "25%       37.800000\n",
      "50%       38.200000\n",
      "75%       38.500000\n",
      "max       39.500000\n",
      "Name: 4__rectal_temperature, dtype: float64\n",
      "38.0\n",
      "38.2\n",
      "0.5719486606358535\n",
      "2.700000000000003\n"
     ]
    }
   ],
   "source": [
    "# Выбросы для столбца 4\n",
    "q1 = horses_four['4__rectal_temperature'].quantile(0.25)\n",
    "q3 = horses_four['4__rectal_temperature'].quantile(0.75)\n",
    "iqr = q3 - q1\n",
    "lower_bound = q1 - (1.5 * iqr)\n",
    "upper_bound = q3 + (1.5 * iqr)\n",
    "without_outliers = horses_four[horses_four['4__rectal_temperature'].between(lower_bound, upper_bound)]\n",
    "print(without_outliers['4__rectal_temperature'].describe())\n",
    "print(without_outliers['4__rectal_temperature'].round(2). mode()[0])\n",
    "print(without_outliers['4__rectal_temperature'].median())\n",
    "print(without_outliers['4__rectal_temperature'].std())\n",
    "print(without_outliers['4__rectal_temperature'].max() - without_outliers['4__rectal_temperature'].min())"
   ]
  },
  {
   "cell_type": "code",
   "execution_count": 11,
   "metadata": {},
   "outputs": [
    {
     "data": {
      "text/html": [
       "<div>\n",
       "<style scoped>\n",
       "    .dataframe tbody tr th:only-of-type {\n",
       "        vertical-align: middle;\n",
       "    }\n",
       "\n",
       "    .dataframe tbody tr th {\n",
       "        vertical-align: top;\n",
       "    }\n",
       "\n",
       "    .dataframe thead th {\n",
       "        text-align: right;\n",
       "    }\n",
       "</style>\n",
       "<table border=\"1\" class=\"dataframe\">\n",
       "  <thead>\n",
       "    <tr style=\"text-align: right;\">\n",
       "      <th></th>\n",
       "      <th>1__surgery?</th>\n",
       "      <th>2__Age</th>\n",
       "      <th>3__Hospital_Number</th>\n",
       "      <th>4__rectal_temperature</th>\n",
       "    </tr>\n",
       "  </thead>\n",
       "  <tbody>\n",
       "    <tr>\n",
       "      <th>20</th>\n",
       "      <td>1.0</td>\n",
       "      <td>1</td>\n",
       "      <td>530157</td>\n",
       "      <td>39.9</td>\n",
       "    </tr>\n",
       "    <tr>\n",
       "      <th>44</th>\n",
       "      <td>1.0</td>\n",
       "      <td>1</td>\n",
       "      <td>535407</td>\n",
       "      <td>35.4</td>\n",
       "    </tr>\n",
       "    <tr>\n",
       "      <th>75</th>\n",
       "      <td>1.0</td>\n",
       "      <td>9</td>\n",
       "      <td>534092</td>\n",
       "      <td>39.7</td>\n",
       "    </tr>\n",
       "    <tr>\n",
       "      <th>80</th>\n",
       "      <td>1.0</td>\n",
       "      <td>1</td>\n",
       "      <td>527518</td>\n",
       "      <td>36.4</td>\n",
       "    </tr>\n",
       "    <tr>\n",
       "      <th>99</th>\n",
       "      <td>2.0</td>\n",
       "      <td>1</td>\n",
       "      <td>530002</td>\n",
       "      <td>39.6</td>\n",
       "    </tr>\n",
       "    <tr>\n",
       "      <th>118</th>\n",
       "      <td>1.0</td>\n",
       "      <td>1</td>\n",
       "      <td>533983</td>\n",
       "      <td>36.5</td>\n",
       "    </tr>\n",
       "    <tr>\n",
       "      <th>141</th>\n",
       "      <td>2.0</td>\n",
       "      <td>1</td>\n",
       "      <td>522979</td>\n",
       "      <td>36.0</td>\n",
       "    </tr>\n",
       "    <tr>\n",
       "      <th>238</th>\n",
       "      <td>2.0</td>\n",
       "      <td>1</td>\n",
       "      <td>528702</td>\n",
       "      <td>36.1</td>\n",
       "    </tr>\n",
       "    <tr>\n",
       "      <th>251</th>\n",
       "      <td>2.0</td>\n",
       "      <td>1</td>\n",
       "      <td>527940</td>\n",
       "      <td>36.6</td>\n",
       "    </tr>\n",
       "    <tr>\n",
       "      <th>259</th>\n",
       "      <td>1.0</td>\n",
       "      <td>1</td>\n",
       "      <td>527734</td>\n",
       "      <td>40.8</td>\n",
       "    </tr>\n",
       "    <tr>\n",
       "      <th>281</th>\n",
       "      <td>2.0</td>\n",
       "      <td>1</td>\n",
       "      <td>530624</td>\n",
       "      <td>40.0</td>\n",
       "    </tr>\n",
       "    <tr>\n",
       "      <th>298</th>\n",
       "      <td>1.0</td>\n",
       "      <td>1</td>\n",
       "      <td>530612</td>\n",
       "      <td>36.5</td>\n",
       "    </tr>\n",
       "  </tbody>\n",
       "</table>\n",
       "</div>"
      ],
      "text/plain": [
       "     1__surgery?  2__Age  3__Hospital_Number  4__rectal_temperature\n",
       "20           1.0       1              530157                   39.9\n",
       "44           1.0       1              535407                   35.4\n",
       "75           1.0       9              534092                   39.7\n",
       "80           1.0       1              527518                   36.4\n",
       "99           2.0       1              530002                   39.6\n",
       "118          1.0       1              533983                   36.5\n",
       "141          2.0       1              522979                   36.0\n",
       "238          2.0       1              528702                   36.1\n",
       "251          2.0       1              527940                   36.6\n",
       "259          1.0       1              527734                   40.8\n",
       "281          2.0       1              530624                   40.0\n",
       "298          1.0       1              530612                   36.5"
      ]
     },
     "execution_count": 11,
     "metadata": {},
     "output_type": "execute_result"
    }
   ],
   "source": [
    "pd.concat([horses_four, without_outliers]).drop_duplicates(keep=False).dropna(subset=['4__rectal_temperature'])"
   ]
  },
  {
   "cell_type": "markdown",
   "metadata": {},
   "source": [
    "### Предварительные выводы по столбцам 1 - 4\n",
    "1. Данные столбца surgery?, видимо, надо смотреть в сочетании с другими столбцами. Пока ничего определенного сказать нельзя.\n",
    "2. В столбце Age вместо 2 (согласно описанию) почему-то используется 9. Скорее всего, это новое обозначение для молодых лошадей (их же не может вообще не быть, если они заявлены?), но полной уверенности у меня нет.\n",
    "3. В столбце 3 найдено всего 16 повторяющихся значений, ни одна лошадь не наблюдалась больше двух раз. Соответственно, каждый случай можно рассматривать как уникальный.\n",
    "4. Средние значения данных в столбце 4 составляют 38.0 - 38.2 градуса. Эти значения лишь незначительно меняются при удалении выбросов. Норма, согласно описанию, составляет 37.8 градусов. Таким образом, температура заболевших лошадей слегка повышена (это соответствует информации в описании)."
   ]
  },
  {
   "cell_type": "markdown",
   "metadata": {},
   "source": [
    "## Анализ столбцов 5 - 8"
   ]
  },
  {
   "cell_type": "code",
   "execution_count": 12,
   "metadata": {},
   "outputs": [
    {
     "data": {
      "text/html": [
       "<div>\n",
       "<style scoped>\n",
       "    .dataframe tbody tr th:only-of-type {\n",
       "        vertical-align: middle;\n",
       "    }\n",
       "\n",
       "    .dataframe tbody tr th {\n",
       "        vertical-align: top;\n",
       "    }\n",
       "\n",
       "    .dataframe thead th {\n",
       "        text-align: right;\n",
       "    }\n",
       "</style>\n",
       "<table border=\"1\" class=\"dataframe\">\n",
       "  <thead>\n",
       "    <tr style=\"text-align: right;\">\n",
       "      <th></th>\n",
       "      <th>3__Hospital_Number</th>\n",
       "      <th>5__pulse</th>\n",
       "      <th>6__respiratory_rate</th>\n",
       "      <th>7__temperature_of_extremities</th>\n",
       "      <th>8__peripheral_pulse</th>\n",
       "    </tr>\n",
       "  </thead>\n",
       "  <tbody>\n",
       "    <tr>\n",
       "      <th>0</th>\n",
       "      <td>530101</td>\n",
       "      <td>66.0</td>\n",
       "      <td>28.0</td>\n",
       "      <td>3.0</td>\n",
       "      <td>3.0</td>\n",
       "    </tr>\n",
       "    <tr>\n",
       "      <th>1</th>\n",
       "      <td>534817</td>\n",
       "      <td>88.0</td>\n",
       "      <td>20.0</td>\n",
       "      <td>NaN</td>\n",
       "      <td>NaN</td>\n",
       "    </tr>\n",
       "    <tr>\n",
       "      <th>2</th>\n",
       "      <td>530334</td>\n",
       "      <td>40.0</td>\n",
       "      <td>24.0</td>\n",
       "      <td>1.0</td>\n",
       "      <td>1.0</td>\n",
       "    </tr>\n",
       "    <tr>\n",
       "      <th>3</th>\n",
       "      <td>5290409</td>\n",
       "      <td>164.0</td>\n",
       "      <td>84.0</td>\n",
       "      <td>4.0</td>\n",
       "      <td>1.0</td>\n",
       "    </tr>\n",
       "    <tr>\n",
       "      <th>4</th>\n",
       "      <td>530255</td>\n",
       "      <td>104.0</td>\n",
       "      <td>35.0</td>\n",
       "      <td>NaN</td>\n",
       "      <td>NaN</td>\n",
       "    </tr>\n",
       "  </tbody>\n",
       "</table>\n",
       "</div>"
      ],
      "text/plain": [
       "   3__Hospital_Number  5__pulse  6__respiratory_rate  \\\n",
       "0              530101      66.0                 28.0   \n",
       "1              534817      88.0                 20.0   \n",
       "2              530334      40.0                 24.0   \n",
       "3             5290409     164.0                 84.0   \n",
       "4              530255     104.0                 35.0   \n",
       "\n",
       "   7__temperature_of_extremities  8__peripheral_pulse  \n",
       "0                            3.0                  3.0  \n",
       "1                            NaN                  NaN  \n",
       "2                            1.0                  1.0  \n",
       "3                            4.0                  1.0  \n",
       "4                            NaN                  NaN  "
      ]
     },
     "execution_count": 12,
     "metadata": {},
     "output_type": "execute_result"
    }
   ],
   "source": [
    "# В каждую следующую группу я добавляю столбец 3, потому что в нем точно нет пропусков и удобно делать по нему группировку.\n",
    "horses_eight = horses[[headers_list[2]] + headers_list[4:8]]\n",
    "horses_eight.head()"
   ]
  },
  {
   "cell_type": "code",
   "execution_count": 13,
   "metadata": {},
   "outputs": [
    {
     "name": "stdout",
     "output_type": "stream",
     "text": [
      "<class 'pandas.core.frame.DataFrame'>\n",
      "RangeIndex: 300 entries, 0 to 299\n",
      "Data columns (total 5 columns):\n",
      " #   Column                         Non-Null Count  Dtype  \n",
      "---  ------                         --------------  -----  \n",
      " 0   3__Hospital_Number             300 non-null    int64  \n",
      " 1   5__pulse                       276 non-null    float64\n",
      " 2   6__respiratory_rate            242 non-null    float64\n",
      " 3   7__temperature_of_extremities  244 non-null    float64\n",
      " 4   8__peripheral_pulse            231 non-null    float64\n",
      "dtypes: float64(4), int64(1)\n",
      "memory usage: 11.8 KB\n"
     ]
    }
   ],
   "source": [
    "horses_eight.info()"
   ]
  },
  {
   "cell_type": "markdown",
   "metadata": {},
   "source": [
    "### План действий:\n",
    "* Для столбцов 5 и 6 рассчитать базовые метрики\n",
    "* Для столбцов 7 и 8 сделать группировку данных, найти самое частое значение"
   ]
  },
  {
   "cell_type": "code",
   "execution_count": 14,
   "metadata": {},
   "outputs": [
    {
     "name": "stdout",
     "output_type": "stream",
     "text": [
      "count    276.000000\n",
      "mean      71.913043\n",
      "std       28.630557\n",
      "min       30.000000\n",
      "25%       48.000000\n",
      "50%       64.000000\n",
      "75%       88.000000\n",
      "max      184.000000\n",
      "Name: 5__pulse, dtype: float64\n",
      "48.0\n",
      "64.0\n",
      "154.0\n"
     ]
    }
   ],
   "source": [
    "# Основные метрики для столбца 5\n",
    "print(horses_eight['5__pulse'].describe())\n",
    "print(horses_eight['5__pulse'].round(2). mode()[0])\n",
    "print(horses_eight['5__pulse'].median())\n",
    "print(horses_eight['5__pulse'].max() - horses_eight['5__pulse'].min())"
   ]
  },
  {
   "cell_type": "code",
   "execution_count": 15,
   "metadata": {},
   "outputs": [
    {
     "name": "stdout",
     "output_type": "stream",
     "text": [
      "count    271.000000\n",
      "mean      70.258303\n",
      "std       26.082484\n",
      "min       30.000000\n",
      "25%       48.000000\n",
      "50%       64.000000\n",
      "75%       88.000000\n",
      "max      146.000000\n",
      "Name: 5__pulse, dtype: float64\n",
      "48.0\n",
      "64.0\n",
      "116.0\n"
     ]
    }
   ],
   "source": [
    "# Выбросы для столбца 5\n",
    "q1 = horses_eight['5__pulse'].quantile(0.25)\n",
    "q3 = horses_eight['5__pulse'].quantile(0.75)\n",
    "iqr = q3 - q1\n",
    "lower_bound = q1 - (1.5 * iqr)\n",
    "upper_bound = q3 + (1.5 * iqr)\n",
    "without_outliers = horses_eight[horses_eight['5__pulse'].between(lower_bound, upper_bound)]\n",
    "print(without_outliers['5__pulse'].describe())\n",
    "print(without_outliers['5__pulse'].round(2). mode()[0])\n",
    "print(without_outliers['5__pulse'].median())\n",
    "print(without_outliers['5__pulse'].max() - without_outliers['5__pulse'].min())"
   ]
  },
  {
   "cell_type": "code",
   "execution_count": 16,
   "metadata": {},
   "outputs": [
    {
     "data": {
      "text/html": [
       "<div>\n",
       "<style scoped>\n",
       "    .dataframe tbody tr th:only-of-type {\n",
       "        vertical-align: middle;\n",
       "    }\n",
       "\n",
       "    .dataframe tbody tr th {\n",
       "        vertical-align: top;\n",
       "    }\n",
       "\n",
       "    .dataframe thead th {\n",
       "        text-align: right;\n",
       "    }\n",
       "</style>\n",
       "<table border=\"1\" class=\"dataframe\">\n",
       "  <thead>\n",
       "    <tr style=\"text-align: right;\">\n",
       "      <th></th>\n",
       "      <th>3__Hospital_Number</th>\n",
       "      <th>5__pulse</th>\n",
       "      <th>6__respiratory_rate</th>\n",
       "      <th>7__temperature_of_extremities</th>\n",
       "      <th>8__peripheral_pulse</th>\n",
       "    </tr>\n",
       "  </thead>\n",
       "  <tbody>\n",
       "    <tr>\n",
       "      <th>3</th>\n",
       "      <td>5290409</td>\n",
       "      <td>164.0</td>\n",
       "      <td>84.0</td>\n",
       "      <td>4.0</td>\n",
       "      <td>1.0</td>\n",
       "    </tr>\n",
       "    <tr>\n",
       "      <th>41</th>\n",
       "      <td>5288249</td>\n",
       "      <td>150.0</td>\n",
       "      <td>72.0</td>\n",
       "      <td>NaN</td>\n",
       "      <td>NaN</td>\n",
       "    </tr>\n",
       "    <tr>\n",
       "      <th>55</th>\n",
       "      <td>5282839</td>\n",
       "      <td>160.0</td>\n",
       "      <td>20.0</td>\n",
       "      <td>3.0</td>\n",
       "      <td>NaN</td>\n",
       "    </tr>\n",
       "    <tr>\n",
       "      <th>255</th>\n",
       "      <td>5294539</td>\n",
       "      <td>184.0</td>\n",
       "      <td>84.0</td>\n",
       "      <td>1.0</td>\n",
       "      <td>NaN</td>\n",
       "    </tr>\n",
       "    <tr>\n",
       "      <th>275</th>\n",
       "      <td>5297159</td>\n",
       "      <td>150.0</td>\n",
       "      <td>50.0</td>\n",
       "      <td>1.0</td>\n",
       "      <td>3.0</td>\n",
       "    </tr>\n",
       "  </tbody>\n",
       "</table>\n",
       "</div>"
      ],
      "text/plain": [
       "     3__Hospital_Number  5__pulse  6__respiratory_rate  \\\n",
       "3               5290409     164.0                 84.0   \n",
       "41              5288249     150.0                 72.0   \n",
       "55              5282839     160.0                 20.0   \n",
       "255             5294539     184.0                 84.0   \n",
       "275             5297159     150.0                 50.0   \n",
       "\n",
       "     7__temperature_of_extremities  8__peripheral_pulse  \n",
       "3                              4.0                  1.0  \n",
       "41                             NaN                  NaN  \n",
       "55                             3.0                  NaN  \n",
       "255                            1.0                  NaN  \n",
       "275                            1.0                  3.0  "
      ]
     },
     "execution_count": 16,
     "metadata": {},
     "output_type": "execute_result"
    }
   ],
   "source": [
    "pd.concat([horses_eight, without_outliers]).drop_duplicates(keep=False).dropna(subset=['5__pulse'])"
   ]
  },
  {
   "cell_type": "code",
   "execution_count": 17,
   "metadata": {},
   "outputs": [
    {
     "name": "stdout",
     "output_type": "stream",
     "text": [
      "count    242.000000\n",
      "mean      30.417355\n",
      "std       17.642231\n",
      "min        8.000000\n",
      "25%       18.500000\n",
      "50%       24.500000\n",
      "75%       36.000000\n",
      "max       96.000000\n",
      "Name: 6__respiratory_rate, dtype: float64\n",
      "20.0\n",
      "24.5\n",
      "66.0\n"
     ]
    }
   ],
   "source": [
    "# Основные метрики для столбца 6\n",
    "print(horses_eight['6__respiratory_rate'].describe())\n",
    "print(horses_eight['6__respiratory_rate'].round(2). mode()[0])\n",
    "print(horses_eight['6__respiratory_rate'].median())\n",
    "print(horses_eight['6__respiratory_rate'].max() - horses_eight['5__pulse'].min())"
   ]
  },
  {
   "cell_type": "code",
   "execution_count": 18,
   "metadata": {},
   "outputs": [
    {
     "name": "stdout",
     "output_type": "stream",
     "text": [
      "count    225.000000\n",
      "mean      26.715556\n",
      "std       11.461464\n",
      "min        8.000000\n",
      "25%       18.000000\n",
      "50%       24.000000\n",
      "75%       35.000000\n",
      "max       60.000000\n",
      "Name: 6__respiratory_rate, dtype: float64\n",
      "20.0\n",
      "24.0\n",
      "52.0\n"
     ]
    }
   ],
   "source": [
    "# Выбросы для столбца 6\n",
    "q1 = horses_eight['6__respiratory_rate'].quantile(0.25)\n",
    "q3 = horses_eight['6__respiratory_rate'].quantile(0.75)\n",
    "iqr = q3 - q1\n",
    "lower_bound = q1 - (1.5 * iqr)\n",
    "upper_bound = q3 + (1.5 * iqr)\n",
    "without_outliers = horses_eight[horses_eight['6__respiratory_rate'].between(lower_bound, upper_bound)]\n",
    "print(without_outliers['6__respiratory_rate'].describe())\n",
    "print(without_outliers['6__respiratory_rate'].round(2). mode()[0])\n",
    "print(without_outliers['6__respiratory_rate'].median())\n",
    "print(without_outliers['6__respiratory_rate'].max() - without_outliers['6__respiratory_rate'].min())"
   ]
  },
  {
   "cell_type": "code",
   "execution_count": 19,
   "metadata": {},
   "outputs": [
    {
     "data": {
      "text/html": [
       "<div>\n",
       "<style scoped>\n",
       "    .dataframe tbody tr th:only-of-type {\n",
       "        vertical-align: middle;\n",
       "    }\n",
       "\n",
       "    .dataframe tbody tr th {\n",
       "        vertical-align: top;\n",
       "    }\n",
       "\n",
       "    .dataframe thead th {\n",
       "        text-align: right;\n",
       "    }\n",
       "</style>\n",
       "<table border=\"1\" class=\"dataframe\">\n",
       "  <thead>\n",
       "    <tr style=\"text-align: right;\">\n",
       "      <th></th>\n",
       "      <th>3__Hospital_Number</th>\n",
       "      <th>5__pulse</th>\n",
       "      <th>6__respiratory_rate</th>\n",
       "      <th>7__temperature_of_extremities</th>\n",
       "      <th>8__peripheral_pulse</th>\n",
       "    </tr>\n",
       "  </thead>\n",
       "  <tbody>\n",
       "    <tr>\n",
       "      <th>3</th>\n",
       "      <td>5290409</td>\n",
       "      <td>164.0</td>\n",
       "      <td>84.0</td>\n",
       "      <td>4.0</td>\n",
       "      <td>1.0</td>\n",
       "    </tr>\n",
       "    <tr>\n",
       "      <th>39</th>\n",
       "      <td>5277409</td>\n",
       "      <td>146.0</td>\n",
       "      <td>96.0</td>\n",
       "      <td>NaN</td>\n",
       "      <td>NaN</td>\n",
       "    </tr>\n",
       "    <tr>\n",
       "      <th>41</th>\n",
       "      <td>5288249</td>\n",
       "      <td>150.0</td>\n",
       "      <td>72.0</td>\n",
       "      <td>NaN</td>\n",
       "      <td>NaN</td>\n",
       "    </tr>\n",
       "    <tr>\n",
       "      <th>82</th>\n",
       "      <td>5290759</td>\n",
       "      <td>100.0</td>\n",
       "      <td>80.0</td>\n",
       "      <td>3.0</td>\n",
       "      <td>1.0</td>\n",
       "    </tr>\n",
       "    <tr>\n",
       "      <th>84</th>\n",
       "      <td>529849</td>\n",
       "      <td>60.0</td>\n",
       "      <td>80.0</td>\n",
       "      <td>1.0</td>\n",
       "      <td>3.0</td>\n",
       "    </tr>\n",
       "    <tr>\n",
       "      <th>103</th>\n",
       "      <td>5292489</td>\n",
       "      <td>140.0</td>\n",
       "      <td>68.0</td>\n",
       "      <td>1.0</td>\n",
       "      <td>1.0</td>\n",
       "    </tr>\n",
       "    <tr>\n",
       "      <th>106</th>\n",
       "      <td>528668</td>\n",
       "      <td>52.0</td>\n",
       "      <td>96.0</td>\n",
       "      <td>NaN</td>\n",
       "      <td>3.0</td>\n",
       "    </tr>\n",
       "    <tr>\n",
       "      <th>120</th>\n",
       "      <td>528682</td>\n",
       "      <td>54.0</td>\n",
       "      <td>66.0</td>\n",
       "      <td>1.0</td>\n",
       "      <td>1.0</td>\n",
       "    </tr>\n",
       "    <tr>\n",
       "      <th>125</th>\n",
       "      <td>528461</td>\n",
       "      <td>42.0</td>\n",
       "      <td>68.0</td>\n",
       "      <td>4.0</td>\n",
       "      <td>1.0</td>\n",
       "    </tr>\n",
       "    <tr>\n",
       "      <th>186</th>\n",
       "      <td>5278331</td>\n",
       "      <td>64.0</td>\n",
       "      <td>90.0</td>\n",
       "      <td>2.0</td>\n",
       "      <td>3.0</td>\n",
       "    </tr>\n",
       "    <tr>\n",
       "      <th>208</th>\n",
       "      <td>535338</td>\n",
       "      <td>88.0</td>\n",
       "      <td>80.0</td>\n",
       "      <td>3.0</td>\n",
       "      <td>3.0</td>\n",
       "    </tr>\n",
       "    <tr>\n",
       "      <th>229</th>\n",
       "      <td>534597</td>\n",
       "      <td>120.0</td>\n",
       "      <td>70.0</td>\n",
       "      <td>NaN</td>\n",
       "      <td>NaN</td>\n",
       "    </tr>\n",
       "    <tr>\n",
       "      <th>244</th>\n",
       "      <td>5291409</td>\n",
       "      <td>124.0</td>\n",
       "      <td>88.0</td>\n",
       "      <td>1.0</td>\n",
       "      <td>3.0</td>\n",
       "    </tr>\n",
       "    <tr>\n",
       "      <th>255</th>\n",
       "      <td>5294539</td>\n",
       "      <td>184.0</td>\n",
       "      <td>84.0</td>\n",
       "      <td>1.0</td>\n",
       "      <td>NaN</td>\n",
       "    </tr>\n",
       "    <tr>\n",
       "      <th>265</th>\n",
       "      <td>528590</td>\n",
       "      <td>56.0</td>\n",
       "      <td>68.0</td>\n",
       "      <td>3.0</td>\n",
       "      <td>1.0</td>\n",
       "    </tr>\n",
       "    <tr>\n",
       "      <th>269</th>\n",
       "      <td>527883</td>\n",
       "      <td>64.0</td>\n",
       "      <td>90.0</td>\n",
       "      <td>2.0</td>\n",
       "      <td>3.0</td>\n",
       "    </tr>\n",
       "    <tr>\n",
       "      <th>295</th>\n",
       "      <td>533886</td>\n",
       "      <td>120.0</td>\n",
       "      <td>70.0</td>\n",
       "      <td>4.0</td>\n",
       "      <td>NaN</td>\n",
       "    </tr>\n",
       "  </tbody>\n",
       "</table>\n",
       "</div>"
      ],
      "text/plain": [
       "     3__Hospital_Number  5__pulse  6__respiratory_rate  \\\n",
       "3               5290409     164.0                 84.0   \n",
       "39              5277409     146.0                 96.0   \n",
       "41              5288249     150.0                 72.0   \n",
       "82              5290759     100.0                 80.0   \n",
       "84               529849      60.0                 80.0   \n",
       "103             5292489     140.0                 68.0   \n",
       "106              528668      52.0                 96.0   \n",
       "120              528682      54.0                 66.0   \n",
       "125              528461      42.0                 68.0   \n",
       "186             5278331      64.0                 90.0   \n",
       "208              535338      88.0                 80.0   \n",
       "229              534597     120.0                 70.0   \n",
       "244             5291409     124.0                 88.0   \n",
       "255             5294539     184.0                 84.0   \n",
       "265              528590      56.0                 68.0   \n",
       "269              527883      64.0                 90.0   \n",
       "295              533886     120.0                 70.0   \n",
       "\n",
       "     7__temperature_of_extremities  8__peripheral_pulse  \n",
       "3                              4.0                  1.0  \n",
       "39                             NaN                  NaN  \n",
       "41                             NaN                  NaN  \n",
       "82                             3.0                  1.0  \n",
       "84                             1.0                  3.0  \n",
       "103                            1.0                  1.0  \n",
       "106                            NaN                  3.0  \n",
       "120                            1.0                  1.0  \n",
       "125                            4.0                  1.0  \n",
       "186                            2.0                  3.0  \n",
       "208                            3.0                  3.0  \n",
       "229                            NaN                  NaN  \n",
       "244                            1.0                  3.0  \n",
       "255                            1.0                  NaN  \n",
       "265                            3.0                  1.0  \n",
       "269                            2.0                  3.0  \n",
       "295                            4.0                  NaN  "
      ]
     },
     "execution_count": 19,
     "metadata": {},
     "output_type": "execute_result"
    }
   ],
   "source": [
    "pd.concat([horses_eight, without_outliers]).drop_duplicates(keep=False).dropna(subset=['6__respiratory_rate'])"
   ]
  },
  {
   "cell_type": "code",
   "execution_count": 20,
   "metadata": {},
   "outputs": [
    {
     "data": {
      "text/plain": [
       "7__temperature_of_extremities\n",
       "1.0     78\n",
       "2.0     30\n",
       "3.0    109\n",
       "4.0     27\n",
       "Name: 3__Hospital_Number, dtype: int64"
      ]
     },
     "execution_count": 20,
     "metadata": {},
     "output_type": "execute_result"
    }
   ],
   "source": [
    "horses_eight.groupby(['7__temperature_of_extremities']).count()['3__Hospital_Number']"
   ]
  },
  {
   "cell_type": "code",
   "execution_count": 21,
   "metadata": {},
   "outputs": [
    {
     "data": {
      "text/plain": [
       "8__peripheral_pulse\n",
       "1.0    115\n",
       "2.0      5\n",
       "3.0    103\n",
       "4.0      8\n",
       "Name: 3__Hospital_Number, dtype: int64"
      ]
     },
     "execution_count": 21,
     "metadata": {},
     "output_type": "execute_result"
    }
   ],
   "source": [
    "horses_eight.groupby(['8__peripheral_pulse']).count()['3__Hospital_Number']"
   ]
  },
  {
   "cell_type": "markdown",
   "metadata": {},
   "source": [
    "### Предварительные выводы по столбцам 5 - 8\n",
    "1. В столбце 5 минимальное значение соответствует нижней границе нормы (30-40). В описании сказано, что у некоторых лошадей (\"athletic horses\") нормальное значение может быть ниже нормы. То есть в данной выборке есть тенденция к увеличению пульса. Выбросы есть только верхние, довольно значительные. В целом они выглядят логичными: можно предположить, что при коликах пульс лошади в целом увеличивается, а иногда увеличивается очень сильно.\n",
    "2. Показатель \"Частота дыхания\" имеет в описании пометку \"Полезность под сомнением из-за большого разброса данных\". В целом картина та же, что для столбца 6: минимальное значение совпадает с нижней границей нормы (8). Средние значения значительно выше нормы (20-30 без выбросов). Выбросы идут только вверх. Так же возникает ощущение, что эти выбросы - естественные: разрыва в значениях нет.\n",
    "3. Обычно отмечается нормальная или сниженная температура конечностей, нормальный или сниженный периферический пульс. Остальные значения встречаются значительно реже."
   ]
  },
  {
   "cell_type": "markdown",
   "metadata": {},
   "source": [
    "## Анализ столбцов 9 - 12"
   ]
  },
  {
   "cell_type": "code",
   "execution_count": 22,
   "metadata": {},
   "outputs": [
    {
     "data": {
      "text/html": [
       "<div>\n",
       "<style scoped>\n",
       "    .dataframe tbody tr th:only-of-type {\n",
       "        vertical-align: middle;\n",
       "    }\n",
       "\n",
       "    .dataframe tbody tr th {\n",
       "        vertical-align: top;\n",
       "    }\n",
       "\n",
       "    .dataframe thead th {\n",
       "        text-align: right;\n",
       "    }\n",
       "</style>\n",
       "<table border=\"1\" class=\"dataframe\">\n",
       "  <thead>\n",
       "    <tr style=\"text-align: right;\">\n",
       "      <th></th>\n",
       "      <th>3__Hospital_Number</th>\n",
       "      <th>9__mucous_membranes</th>\n",
       "      <th>10_capillary_refill_time</th>\n",
       "      <th>11_pain</th>\n",
       "      <th>12_peristalsis</th>\n",
       "    </tr>\n",
       "  </thead>\n",
       "  <tbody>\n",
       "    <tr>\n",
       "      <th>0</th>\n",
       "      <td>530101</td>\n",
       "      <td>NaN</td>\n",
       "      <td>2.0</td>\n",
       "      <td>5.0</td>\n",
       "      <td>4.0</td>\n",
       "    </tr>\n",
       "    <tr>\n",
       "      <th>1</th>\n",
       "      <td>534817</td>\n",
       "      <td>4.0</td>\n",
       "      <td>1.0</td>\n",
       "      <td>3.0</td>\n",
       "      <td>4.0</td>\n",
       "    </tr>\n",
       "    <tr>\n",
       "      <th>2</th>\n",
       "      <td>530334</td>\n",
       "      <td>3.0</td>\n",
       "      <td>1.0</td>\n",
       "      <td>3.0</td>\n",
       "      <td>3.0</td>\n",
       "    </tr>\n",
       "    <tr>\n",
       "      <th>3</th>\n",
       "      <td>5290409</td>\n",
       "      <td>6.0</td>\n",
       "      <td>2.0</td>\n",
       "      <td>2.0</td>\n",
       "      <td>4.0</td>\n",
       "    </tr>\n",
       "    <tr>\n",
       "      <th>4</th>\n",
       "      <td>530255</td>\n",
       "      <td>6.0</td>\n",
       "      <td>2.0</td>\n",
       "      <td>NaN</td>\n",
       "      <td>NaN</td>\n",
       "    </tr>\n",
       "  </tbody>\n",
       "</table>\n",
       "</div>"
      ],
      "text/plain": [
       "   3__Hospital_Number  9__mucous_membranes  10_capillary_refill_time  11_pain  \\\n",
       "0              530101                  NaN                       2.0      5.0   \n",
       "1              534817                  4.0                       1.0      3.0   \n",
       "2              530334                  3.0                       1.0      3.0   \n",
       "3             5290409                  6.0                       2.0      2.0   \n",
       "4              530255                  6.0                       2.0      NaN   \n",
       "\n",
       "   12_peristalsis  \n",
       "0             4.0  \n",
       "1             4.0  \n",
       "2             3.0  \n",
       "3             4.0  \n",
       "4             NaN  "
      ]
     },
     "execution_count": 22,
     "metadata": {},
     "output_type": "execute_result"
    }
   ],
   "source": [
    "horses_twelve = horses[[headers_list[2]] + headers_list[8:12]]\n",
    "horses_twelve.head()"
   ]
  },
  {
   "cell_type": "code",
   "execution_count": 23,
   "metadata": {},
   "outputs": [
    {
     "name": "stdout",
     "output_type": "stream",
     "text": [
      "<class 'pandas.core.frame.DataFrame'>\n",
      "RangeIndex: 300 entries, 0 to 299\n",
      "Data columns (total 5 columns):\n",
      " #   Column                    Non-Null Count  Dtype  \n",
      "---  ------                    --------------  -----  \n",
      " 0   3__Hospital_Number        300 non-null    int64  \n",
      " 1   9__mucous_membranes       253 non-null    float64\n",
      " 2   10_capillary_refill_time  268 non-null    float64\n",
      " 3   11_pain                   245 non-null    float64\n",
      " 4   12_peristalsis            256 non-null    float64\n",
      "dtypes: float64(4), int64(1)\n",
      "memory usage: 11.8 KB\n"
     ]
    }
   ],
   "source": [
    "horses_twelve.info()"
   ]
  },
  {
   "cell_type": "markdown",
   "metadata": {},
   "source": [
    "В этом блоке все столбцы категориальные, с ограниченным набором значений. Поэтому просто сделаю группировки и посмотрю, какие значения встречаются чаще, а какие - реже."
   ]
  },
  {
   "cell_type": "code",
   "execution_count": 24,
   "metadata": {},
   "outputs": [
    {
     "data": {
      "text/plain": [
       "9__mucous_membranes\n",
       "1.0    79\n",
       "2.0    30\n",
       "3.0    58\n",
       "4.0    41\n",
       "5.0    25\n",
       "6.0    20\n",
       "Name: 3__Hospital_Number, dtype: int64"
      ]
     },
     "execution_count": 24,
     "metadata": {},
     "output_type": "execute_result"
    }
   ],
   "source": [
    "horses_twelve.groupby(['9__mucous_membranes']).count()['3__Hospital_Number']"
   ]
  },
  {
   "cell_type": "code",
   "execution_count": 25,
   "metadata": {},
   "outputs": [
    {
     "data": {
      "text/plain": [
       "10_capillary_refill_time\n",
       "1.0    188\n",
       "2.0     78\n",
       "3.0      2\n",
       "Name: 3__Hospital_Number, dtype: int64"
      ]
     },
     "execution_count": 25,
     "metadata": {},
     "output_type": "execute_result"
    }
   ],
   "source": [
    "horses_twelve.groupby(['10_capillary_refill_time']).count()['3__Hospital_Number']"
   ]
  },
  {
   "cell_type": "code",
   "execution_count": 26,
   "metadata": {},
   "outputs": [
    {
     "data": {
      "text/plain": [
       "11_pain\n",
       "1.0    38\n",
       "2.0    59\n",
       "3.0    67\n",
       "4.0    39\n",
       "5.0    42\n",
       "Name: 3__Hospital_Number, dtype: int64"
      ]
     },
     "execution_count": 26,
     "metadata": {},
     "output_type": "execute_result"
    }
   ],
   "source": [
    "horses_twelve.groupby(['11_pain']).count()['3__Hospital_Number']"
   ]
  },
  {
   "cell_type": "code",
   "execution_count": 27,
   "metadata": {},
   "outputs": [
    {
     "data": {
      "text/plain": [
       "12_peristalsis\n",
       "1.0     39\n",
       "2.0     16\n",
       "3.0    128\n",
       "4.0     73\n",
       "Name: 3__Hospital_Number, dtype: int64"
      ]
     },
     "execution_count": 27,
     "metadata": {},
     "output_type": "execute_result"
    }
   ],
   "source": [
    "horses_twelve.groupby(['12_peristalsis']).count()['3__Hospital_Number']"
   ]
  },
  {
   "cell_type": "markdown",
   "metadata": {},
   "source": [
    "### Предварительные выводы по столбцам 9 - 12\n",
    "1. В столбцах 9 и 11 данные распределены достаточно равномерно. Лидирующие значения: в столбце 9 - 1 (слизистые оболочки нормального розового цвета), в столбце 11 - 3 (периодическая умеренная боль).\n",
    "2. В столбце 10 (время наполнения капилляров) преобладает значение 1(быстрое, соответствует норме). Появляются два значения 3, не указанные в описании. Вероятно, это ошибка: граница между значениями 1 и 2 - 3 секунды, легко ошибиться и поставить цифру 3 вместо 2.\n",
    "3. В столбце 12 (перистальтика) превалирует значение 3 (сниженная подвижность). В описании, насколько я смогла понять, сказано, что этот показатель характерен для колик."
   ]
  },
  {
   "cell_type": "markdown",
   "metadata": {},
   "source": [
    "## Анализ столбцов 13 - 16"
   ]
  },
  {
   "cell_type": "code",
   "execution_count": 28,
   "metadata": {},
   "outputs": [
    {
     "data": {
      "text/html": [
       "<div>\n",
       "<style scoped>\n",
       "    .dataframe tbody tr th:only-of-type {\n",
       "        vertical-align: middle;\n",
       "    }\n",
       "\n",
       "    .dataframe tbody tr th {\n",
       "        vertical-align: top;\n",
       "    }\n",
       "\n",
       "    .dataframe thead th {\n",
       "        text-align: right;\n",
       "    }\n",
       "</style>\n",
       "<table border=\"1\" class=\"dataframe\">\n",
       "  <thead>\n",
       "    <tr style=\"text-align: right;\">\n",
       "      <th></th>\n",
       "      <th>3__Hospital_Number</th>\n",
       "      <th>13_abdominal_distension</th>\n",
       "      <th>14_nasogastric_tube</th>\n",
       "      <th>15_nasogastric_reflux</th>\n",
       "      <th>16_nasogastric_reflux_PH</th>\n",
       "    </tr>\n",
       "  </thead>\n",
       "  <tbody>\n",
       "    <tr>\n",
       "      <th>0</th>\n",
       "      <td>530101</td>\n",
       "      <td>4.0</td>\n",
       "      <td>NaN</td>\n",
       "      <td>NaN</td>\n",
       "      <td>NaN</td>\n",
       "    </tr>\n",
       "    <tr>\n",
       "      <th>1</th>\n",
       "      <td>534817</td>\n",
       "      <td>2.0</td>\n",
       "      <td>NaN</td>\n",
       "      <td>NaN</td>\n",
       "      <td>NaN</td>\n",
       "    </tr>\n",
       "    <tr>\n",
       "      <th>2</th>\n",
       "      <td>530334</td>\n",
       "      <td>1.0</td>\n",
       "      <td>NaN</td>\n",
       "      <td>NaN</td>\n",
       "      <td>NaN</td>\n",
       "    </tr>\n",
       "    <tr>\n",
       "      <th>3</th>\n",
       "      <td>5290409</td>\n",
       "      <td>4.0</td>\n",
       "      <td>1.0</td>\n",
       "      <td>2.0</td>\n",
       "      <td>5.0</td>\n",
       "    </tr>\n",
       "    <tr>\n",
       "      <th>4</th>\n",
       "      <td>530255</td>\n",
       "      <td>NaN</td>\n",
       "      <td>NaN</td>\n",
       "      <td>NaN</td>\n",
       "      <td>NaN</td>\n",
       "    </tr>\n",
       "  </tbody>\n",
       "</table>\n",
       "</div>"
      ],
      "text/plain": [
       "   3__Hospital_Number  13_abdominal_distension  14_nasogastric_tube  \\\n",
       "0              530101                      4.0                  NaN   \n",
       "1              534817                      2.0                  NaN   \n",
       "2              530334                      1.0                  NaN   \n",
       "3             5290409                      4.0                  1.0   \n",
       "4              530255                      NaN                  NaN   \n",
       "\n",
       "   15_nasogastric_reflux  16_nasogastric_reflux_PH  \n",
       "0                    NaN                       NaN  \n",
       "1                    NaN                       NaN  \n",
       "2                    NaN                       NaN  \n",
       "3                    2.0                       5.0  \n",
       "4                    NaN                       NaN  "
      ]
     },
     "execution_count": 28,
     "metadata": {},
     "output_type": "execute_result"
    }
   ],
   "source": [
    "horses_16 = horses[[headers_list[2]] + headers_list[12:16]]\n",
    "horses_16.head()"
   ]
  },
  {
   "cell_type": "code",
   "execution_count": 29,
   "metadata": {},
   "outputs": [
    {
     "name": "stdout",
     "output_type": "stream",
     "text": [
      "<class 'pandas.core.frame.DataFrame'>\n",
      "RangeIndex: 300 entries, 0 to 299\n",
      "Data columns (total 5 columns):\n",
      " #   Column                    Non-Null Count  Dtype  \n",
      "---  ------                    --------------  -----  \n",
      " 0   3__Hospital_Number        300 non-null    int64  \n",
      " 1   13_abdominal_distension   244 non-null    float64\n",
      " 2   14_nasogastric_tube       196 non-null    float64\n",
      " 3   15_nasogastric_reflux     194 non-null    float64\n",
      " 4   16_nasogastric_reflux_PH  53 non-null     float64\n",
      "dtypes: float64(4), int64(1)\n",
      "memory usage: 11.8 KB\n"
     ]
    }
   ],
   "source": [
    "horses_16.info()"
   ]
  },
  {
   "cell_type": "markdown",
   "metadata": {},
   "source": [
    "В этой группе числовые данные только в столбце 16. Это столбец с самым большим количеством пропусков, в нем всего 53 значения. Но я все-таки попытаюсь получить для него метрики."
   ]
  },
  {
   "cell_type": "code",
   "execution_count": 30,
   "metadata": {},
   "outputs": [
    {
     "data": {
      "text/plain": [
       "13_abdominal_distension\n",
       "1.0    76\n",
       "2.0    65\n",
       "3.0    65\n",
       "4.0    38\n",
       "Name: 3__Hospital_Number, dtype: int64"
      ]
     },
     "execution_count": 30,
     "metadata": {},
     "output_type": "execute_result"
    }
   ],
   "source": [
    "horses_16.groupby(['13_abdominal_distension']).count()['3__Hospital_Number']"
   ]
  },
  {
   "cell_type": "code",
   "execution_count": 31,
   "metadata": {},
   "outputs": [
    {
     "data": {
      "text/plain": [
       "14_nasogastric_tube\n",
       "1.0     71\n",
       "2.0    102\n",
       "3.0     23\n",
       "Name: 3__Hospital_Number, dtype: int64"
      ]
     },
     "execution_count": 31,
     "metadata": {},
     "output_type": "execute_result"
    }
   ],
   "source": [
    "horses_16.groupby(['14_nasogastric_tube']).count()['3__Hospital_Number']"
   ]
  },
  {
   "cell_type": "code",
   "execution_count": 32,
   "metadata": {},
   "outputs": [
    {
     "data": {
      "text/plain": [
       "15_nasogastric_reflux\n",
       "1.0    120\n",
       "2.0     35\n",
       "3.0     39\n",
       "Name: 3__Hospital_Number, dtype: int64"
      ]
     },
     "execution_count": 32,
     "metadata": {},
     "output_type": "execute_result"
    }
   ],
   "source": [
    "horses_16.groupby(['15_nasogastric_reflux']).count()['3__Hospital_Number']"
   ]
  },
  {
   "cell_type": "code",
   "execution_count": 33,
   "metadata": {},
   "outputs": [
    {
     "data": {
      "text/plain": [
       "16_nasogastric_reflux_PH\n",
       "1.0    2\n",
       "1.5    1\n",
       "2.0    9\n",
       "3.0    3\n",
       "3.5    1\n",
       "4.0    3\n",
       "4.3    1\n",
       "4.4    1\n",
       "4.5    3\n",
       "5.0    4\n",
       "5.3    1\n",
       "5.4    1\n",
       "5.5    4\n",
       "5.7    1\n",
       "6.0    1\n",
       "6.2    1\n",
       "6.5    5\n",
       "7.0    8\n",
       "7.2    1\n",
       "7.5    2\n",
       "Name: 3__Hospital_Number, dtype: int64"
      ]
     },
     "execution_count": 33,
     "metadata": {},
     "output_type": "execute_result"
    }
   ],
   "source": [
    "horses_16.groupby(['16_nasogastric_reflux_PH']).count()['3__Hospital_Number']"
   ]
  },
  {
   "cell_type": "code",
   "execution_count": 34,
   "metadata": {},
   "outputs": [
    {
     "name": "stdout",
     "output_type": "stream",
     "text": [
      "count    53.000000\n",
      "mean      4.707547\n",
      "std       1.982311\n",
      "min       1.000000\n",
      "25%       3.000000\n",
      "50%       5.000000\n",
      "75%       6.500000\n",
      "max       7.500000\n",
      "Name: 16_nasogastric_reflux_PH, dtype: float64\n",
      "2.0\n",
      "5.0\n",
      "6.5\n"
     ]
    }
   ],
   "source": [
    "# Основные метрики для столбца 16\n",
    "print(horses_16['16_nasogastric_reflux_PH'].describe())\n",
    "print(horses_16['16_nasogastric_reflux_PH'].round(2). mode()[0])\n",
    "print(horses_16['16_nasogastric_reflux_PH'].median())\n",
    "print(horses_16['16_nasogastric_reflux_PH'].max() - horses_16['16_nasogastric_reflux_PH'].min())"
   ]
  },
  {
   "cell_type": "code",
   "execution_count": 35,
   "metadata": {},
   "outputs": [
    {
     "name": "stdout",
     "output_type": "stream",
     "text": [
      "count    53.000000\n",
      "mean      4.707547\n",
      "std       1.982311\n",
      "min       1.000000\n",
      "25%       3.000000\n",
      "50%       5.000000\n",
      "75%       6.500000\n",
      "max       7.500000\n",
      "Name: 16_nasogastric_reflux_PH, dtype: float64\n",
      "2.0\n",
      "5.0\n",
      "6.5\n"
     ]
    }
   ],
   "source": [
    "# Выбросы для столбца 16\n",
    "q1 = horses_16['16_nasogastric_reflux_PH'].quantile(0.25)\n",
    "q3 = horses_16['16_nasogastric_reflux_PH'].quantile(0.75)\n",
    "iqr = q3 - q1\n",
    "lower_bound = q1 - (1.5 * iqr)\n",
    "upper_bound = q3 + (1.5 * iqr)\n",
    "without_outliers = horses_16[horses_16['16_nasogastric_reflux_PH'].between(lower_bound, upper_bound)]\n",
    "print(without_outliers['16_nasogastric_reflux_PH'].describe())\n",
    "print(without_outliers['16_nasogastric_reflux_PH'].round(2). mode()[0])\n",
    "print(without_outliers['16_nasogastric_reflux_PH'].median())\n",
    "print(without_outliers['16_nasogastric_reflux_PH'].max() - without_outliers['16_nasogastric_reflux_PH'].min())"
   ]
  },
  {
   "cell_type": "markdown",
   "metadata": {},
   "source": [
    "### Предварительные выводы по столбцам 13 - 16\n",
    "1. В пункте 13 (в описании указано, что это важный параметр) данные распределились равномерно: примерно с одинаковой частотой встречается нулевое, легкое и среднее вздутие живота. Сильное вздутие наблюдается несколько реже.\n",
    "2. В столбце 14 чаще всего встречаются значения \"воздух не выходит из зонда\" и \"выходит небольшое количество воздуха\". В столбце 15 самое частое значение - 1 (отсутствие назогастрального рефлюкса). Видимо, этот рефлюкс появляется только в самых тяжелых случаях.\n",
    "3. Про столбец 16 интересны два факта. Во-первых, в описании указано, что значения проставляются по шкале от 0 до 14, а представлены только значения от 1 до 7,5. Во-вторых, совсем нет выбросов. Но это какая-то темная информация, столбец очень плохо заполнен, и информацию использовать было бы сложно."
   ]
  },
  {
   "cell_type": "markdown",
   "metadata": {},
   "source": [
    "## Анализ столбцов 17 - 20"
   ]
  },
  {
   "cell_type": "code",
   "execution_count": 36,
   "metadata": {},
   "outputs": [
    {
     "data": {
      "text/html": [
       "<div>\n",
       "<style scoped>\n",
       "    .dataframe tbody tr th:only-of-type {\n",
       "        vertical-align: middle;\n",
       "    }\n",
       "\n",
       "    .dataframe tbody tr th {\n",
       "        vertical-align: top;\n",
       "    }\n",
       "\n",
       "    .dataframe thead th {\n",
       "        text-align: right;\n",
       "    }\n",
       "</style>\n",
       "<table border=\"1\" class=\"dataframe\">\n",
       "  <thead>\n",
       "    <tr style=\"text-align: right;\">\n",
       "      <th></th>\n",
       "      <th>3__Hospital_Number</th>\n",
       "      <th>17_rectal_examination_-_feces</th>\n",
       "      <th>18_abdomen</th>\n",
       "      <th>19_packed_cell_volume</th>\n",
       "      <th>20_total_protein</th>\n",
       "    </tr>\n",
       "  </thead>\n",
       "  <tbody>\n",
       "    <tr>\n",
       "      <th>0</th>\n",
       "      <td>530101</td>\n",
       "      <td>3.0</td>\n",
       "      <td>5.0</td>\n",
       "      <td>45.0</td>\n",
       "      <td>8.4</td>\n",
       "    </tr>\n",
       "    <tr>\n",
       "      <th>1</th>\n",
       "      <td>534817</td>\n",
       "      <td>4.0</td>\n",
       "      <td>2.0</td>\n",
       "      <td>50.0</td>\n",
       "      <td>85.0</td>\n",
       "    </tr>\n",
       "    <tr>\n",
       "      <th>2</th>\n",
       "      <td>530334</td>\n",
       "      <td>1.0</td>\n",
       "      <td>1.0</td>\n",
       "      <td>33.0</td>\n",
       "      <td>6.7</td>\n",
       "    </tr>\n",
       "    <tr>\n",
       "      <th>3</th>\n",
       "      <td>5290409</td>\n",
       "      <td>3.0</td>\n",
       "      <td>NaN</td>\n",
       "      <td>48.0</td>\n",
       "      <td>7.2</td>\n",
       "    </tr>\n",
       "    <tr>\n",
       "      <th>4</th>\n",
       "      <td>530255</td>\n",
       "      <td>NaN</td>\n",
       "      <td>NaN</td>\n",
       "      <td>74.0</td>\n",
       "      <td>7.4</td>\n",
       "    </tr>\n",
       "  </tbody>\n",
       "</table>\n",
       "</div>"
      ],
      "text/plain": [
       "   3__Hospital_Number  17_rectal_examination_-_feces  18_abdomen  \\\n",
       "0              530101                            3.0         5.0   \n",
       "1              534817                            4.0         2.0   \n",
       "2              530334                            1.0         1.0   \n",
       "3             5290409                            3.0         NaN   \n",
       "4              530255                            NaN         NaN   \n",
       "\n",
       "   19_packed_cell_volume  20_total_protein  \n",
       "0                   45.0               8.4  \n",
       "1                   50.0              85.0  \n",
       "2                   33.0               6.7  \n",
       "3                   48.0               7.2  \n",
       "4                   74.0               7.4  "
      ]
     },
     "execution_count": 36,
     "metadata": {},
     "output_type": "execute_result"
    }
   ],
   "source": [
    "horses_20 = horses[[headers_list[2]] + headers_list[16:20]]\n",
    "horses_20.head()"
   ]
  },
  {
   "cell_type": "code",
   "execution_count": 37,
   "metadata": {},
   "outputs": [
    {
     "name": "stdout",
     "output_type": "stream",
     "text": [
      "<class 'pandas.core.frame.DataFrame'>\n",
      "RangeIndex: 300 entries, 0 to 299\n",
      "Data columns (total 5 columns):\n",
      " #   Column                         Non-Null Count  Dtype  \n",
      "---  ------                         --------------  -----  \n",
      " 0   3__Hospital_Number             300 non-null    int64  \n",
      " 1   17_rectal_examination_-_feces  198 non-null    float64\n",
      " 2   18_abdomen                     182 non-null    float64\n",
      " 3   19_packed_cell_volume          271 non-null    float64\n",
      " 4   20_total_protein               267 non-null    float64\n",
      "dtypes: float64(4), int64(1)\n",
      "memory usage: 11.8 KB\n"
     ]
    }
   ],
   "source": [
    "horses_20.info()"
   ]
  },
  {
   "cell_type": "markdown",
   "metadata": {},
   "source": [
    "В этой группе два столбца с категориальными показателями (17 и 18) и два столбца с количественными показателями (19 и 20)."
   ]
  },
  {
   "cell_type": "code",
   "execution_count": 38,
   "metadata": {},
   "outputs": [
    {
     "data": {
      "text/plain": [
       "17_rectal_examination_-_feces\n",
       "1.0    57\n",
       "2.0    13\n",
       "3.0    49\n",
       "4.0    79\n",
       "Name: 3__Hospital_Number, dtype: int64"
      ]
     },
     "execution_count": 38,
     "metadata": {},
     "output_type": "execute_result"
    }
   ],
   "source": [
    "horses_20.groupby(['17_rectal_examination_-_feces']).count()['3__Hospital_Number']"
   ]
  },
  {
   "cell_type": "code",
   "execution_count": 39,
   "metadata": {},
   "outputs": [
    {
     "data": {
      "text/plain": [
       "18_abdomen\n",
       "1.0    28\n",
       "2.0    19\n",
       "3.0    13\n",
       "4.0    43\n",
       "5.0    79\n",
       "Name: 3__Hospital_Number, dtype: int64"
      ]
     },
     "execution_count": 39,
     "metadata": {},
     "output_type": "execute_result"
    }
   ],
   "source": [
    "horses_20.groupby(['18_abdomen']).count()['3__Hospital_Number']"
   ]
  },
  {
   "cell_type": "code",
   "execution_count": 40,
   "metadata": {},
   "outputs": [
    {
     "name": "stdout",
     "output_type": "stream",
     "text": [
      "count    271.000000\n",
      "mean      46.295203\n",
      "std       10.419335\n",
      "min       23.000000\n",
      "25%       38.000000\n",
      "50%       45.000000\n",
      "75%       52.000000\n",
      "max       75.000000\n",
      "Name: 19_packed_cell_volume, dtype: float64\n",
      "37.0\n",
      "45.0\n",
      "52.0\n"
     ]
    }
   ],
   "source": [
    "# Основные метрики для столбца 19\n",
    "print(horses_20['19_packed_cell_volume'].describe())\n",
    "print(horses_20['19_packed_cell_volume'].round(2). mode()[0])\n",
    "print(horses_20['19_packed_cell_volume'].median())\n",
    "print(horses_20['19_packed_cell_volume'].max() - horses_20['19_packed_cell_volume'].min())"
   ]
  },
  {
   "cell_type": "code",
   "execution_count": 41,
   "metadata": {},
   "outputs": [
    {
     "name": "stdout",
     "output_type": "stream",
     "text": [
      "count    268.000000\n",
      "mean      45.977612\n",
      "std       10.031666\n",
      "min       23.000000\n",
      "25%       38.000000\n",
      "50%       44.500000\n",
      "75%       51.250000\n",
      "max       73.000000\n",
      "Name: 19_packed_cell_volume, dtype: float64\n",
      "37.0\n",
      "44.5\n",
      "50.0\n"
     ]
    }
   ],
   "source": [
    "# Выбросы для столбца 19\n",
    "q1 = horses_20['19_packed_cell_volume'].quantile(0.25)\n",
    "q3 = horses_20['19_packed_cell_volume'].quantile(0.75)\n",
    "iqr = q3 - q1\n",
    "lower_bound = q1 - (1.5 * iqr)\n",
    "upper_bound = q3 + (1.5 * iqr)\n",
    "without_outliers = horses_20[horses_20['19_packed_cell_volume'].between(lower_bound, upper_bound)]\n",
    "print(without_outliers['19_packed_cell_volume'].describe())\n",
    "print(without_outliers['19_packed_cell_volume'].round(2). mode()[0])\n",
    "print(without_outliers['19_packed_cell_volume'].median())\n",
    "print(without_outliers['19_packed_cell_volume'].max() - without_outliers['19_packed_cell_volume'].min())"
   ]
  },
  {
   "cell_type": "code",
   "execution_count": 42,
   "metadata": {},
   "outputs": [
    {
     "data": {
      "text/html": [
       "<div>\n",
       "<style scoped>\n",
       "    .dataframe tbody tr th:only-of-type {\n",
       "        vertical-align: middle;\n",
       "    }\n",
       "\n",
       "    .dataframe tbody tr th {\n",
       "        vertical-align: top;\n",
       "    }\n",
       "\n",
       "    .dataframe thead th {\n",
       "        text-align: right;\n",
       "    }\n",
       "</style>\n",
       "<table border=\"1\" class=\"dataframe\">\n",
       "  <thead>\n",
       "    <tr style=\"text-align: right;\">\n",
       "      <th></th>\n",
       "      <th>3__Hospital_Number</th>\n",
       "      <th>17_rectal_examination_-_feces</th>\n",
       "      <th>18_abdomen</th>\n",
       "      <th>19_packed_cell_volume</th>\n",
       "      <th>20_total_protein</th>\n",
       "    </tr>\n",
       "  </thead>\n",
       "  <tbody>\n",
       "    <tr>\n",
       "      <th>4</th>\n",
       "      <td>530255</td>\n",
       "      <td>NaN</td>\n",
       "      <td>NaN</td>\n",
       "      <td>74.0</td>\n",
       "      <td>7.4</td>\n",
       "    </tr>\n",
       "    <tr>\n",
       "      <th>144</th>\n",
       "      <td>534519</td>\n",
       "      <td>4.0</td>\n",
       "      <td>5.0</td>\n",
       "      <td>75.0</td>\n",
       "      <td>81.0</td>\n",
       "    </tr>\n",
       "    <tr>\n",
       "      <th>151</th>\n",
       "      <td>529399</td>\n",
       "      <td>4.0</td>\n",
       "      <td>4.0</td>\n",
       "      <td>75.0</td>\n",
       "      <td>NaN</td>\n",
       "    </tr>\n",
       "  </tbody>\n",
       "</table>\n",
       "</div>"
      ],
      "text/plain": [
       "     3__Hospital_Number  17_rectal_examination_-_feces  18_abdomen  \\\n",
       "4                530255                            NaN         NaN   \n",
       "144              534519                            4.0         5.0   \n",
       "151              529399                            4.0         4.0   \n",
       "\n",
       "     19_packed_cell_volume  20_total_protein  \n",
       "4                     74.0               7.4  \n",
       "144                   75.0              81.0  \n",
       "151                   75.0               NaN  "
      ]
     },
     "execution_count": 42,
     "metadata": {},
     "output_type": "execute_result"
    }
   ],
   "source": [
    "pd.concat([horses_20, without_outliers]).drop_duplicates(keep=False).dropna(subset=['19_packed_cell_volume'])"
   ]
  },
  {
   "cell_type": "code",
   "execution_count": 43,
   "metadata": {},
   "outputs": [
    {
     "name": "stdout",
     "output_type": "stream",
     "text": [
      "count    267.000000\n",
      "mean      24.456929\n",
      "std       27.475009\n",
      "min        3.300000\n",
      "25%        6.500000\n",
      "50%        7.500000\n",
      "75%       57.000000\n",
      "max       89.000000\n",
      "Name: 20_total_protein, dtype: float64\n",
      "6.5\n",
      "7.5\n",
      "85.7\n"
     ]
    }
   ],
   "source": [
    "# Основные метрики для столбца 20\n",
    "print(horses_20['20_total_protein'].describe())\n",
    "print(horses_20['20_total_protein'].round(2). mode()[0])\n",
    "print(horses_20['20_total_protein'].median())\n",
    "print(horses_20['20_total_protein'].max() - horses_20['20_total_protein'].min())"
   ]
  },
  {
   "cell_type": "code",
   "execution_count": 44,
   "metadata": {},
   "outputs": [
    {
     "name": "stdout",
     "output_type": "stream",
     "text": [
      "count    267.000000\n",
      "mean      24.456929\n",
      "std       27.475009\n",
      "min        3.300000\n",
      "25%        6.500000\n",
      "50%        7.500000\n",
      "75%       57.000000\n",
      "max       89.000000\n",
      "Name: 20_total_protein, dtype: float64\n",
      "6.5\n",
      "7.5\n",
      "85.7\n"
     ]
    }
   ],
   "source": [
    "# Выбросы для столбца 20\n",
    "q1 = horses_20['20_total_protein'].quantile(0.25)\n",
    "q3 = horses_20['20_total_protein'].quantile(0.75)\n",
    "iqr = q3 - q1\n",
    "lower_bound = q1 - (1.5 * iqr)\n",
    "upper_bound = q3 + (1.5 * iqr)\n",
    "without_outliers = horses_20[horses_20['20_total_protein'].between(lower_bound, upper_bound)]\n",
    "print(without_outliers['20_total_protein'].describe())\n",
    "print(without_outliers['20_total_protein'].round(2). mode()[0])\n",
    "print(without_outliers['20_total_protein'].median())\n",
    "print(without_outliers['20_total_protein'].max() - without_outliers['20_total_protein'].min())"
   ]
  },
  {
   "cell_type": "markdown",
   "metadata": {},
   "source": [
    "### Предварительные выводы по столбцам 17 - 20\n",
    "1. В столбце 17 значения распределяются более-менее равномерно. Значительно реже остальных встречается значение 2 (много кала в кишечнике).\n",
    "2. В столбце 18 значительно чаще остальных встречаются значения 4 и 5. Согласно описанию, это индикаторы необходимости хирургического вмешательства.\n",
    "3. В столбце 19 средние значения соответствуют норме (согласно описанию, 30-50). Выбросы незначительные, встречаются только сверху. Согласно описанию, уровень эритроцитов повышается при обезвоживании или нарушении кровообращения, т. е. увеличение этого показателя является тревожным симптомом.\n",
    "4. В столбце 20 нет выбросов, но очень большой разброс между средними значениями. Мода и медиана соответствуют норме, а среднее значение значительно превышает норму. Можно задуматься о стремительном увеличении этого показателя (уровень белка) при заболевании."
   ]
  },
  {
   "cell_type": "markdown",
   "metadata": {},
   "source": [
    "## Анализ столбцов 21 - 24"
   ]
  },
  {
   "cell_type": "code",
   "execution_count": 45,
   "metadata": {},
   "outputs": [
    {
     "data": {
      "text/html": [
       "<div>\n",
       "<style scoped>\n",
       "    .dataframe tbody tr th:only-of-type {\n",
       "        vertical-align: middle;\n",
       "    }\n",
       "\n",
       "    .dataframe tbody tr th {\n",
       "        vertical-align: top;\n",
       "    }\n",
       "\n",
       "    .dataframe thead th {\n",
       "        text-align: right;\n",
       "    }\n",
       "</style>\n",
       "<table border=\"1\" class=\"dataframe\">\n",
       "  <thead>\n",
       "    <tr style=\"text-align: right;\">\n",
       "      <th></th>\n",
       "      <th>3__Hospital_Number</th>\n",
       "      <th>21_abdominocentesis_appearance</th>\n",
       "      <th>22_abdomcentesis_total_protein</th>\n",
       "      <th>23_outcome</th>\n",
       "      <th>24_surgical_lesion?</th>\n",
       "    </tr>\n",
       "  </thead>\n",
       "  <tbody>\n",
       "    <tr>\n",
       "      <th>0</th>\n",
       "      <td>530101</td>\n",
       "      <td>NaN</td>\n",
       "      <td>NaN</td>\n",
       "      <td>2.0</td>\n",
       "      <td>2</td>\n",
       "    </tr>\n",
       "    <tr>\n",
       "      <th>1</th>\n",
       "      <td>534817</td>\n",
       "      <td>2.0</td>\n",
       "      <td>2.0</td>\n",
       "      <td>3.0</td>\n",
       "      <td>2</td>\n",
       "    </tr>\n",
       "    <tr>\n",
       "      <th>2</th>\n",
       "      <td>530334</td>\n",
       "      <td>NaN</td>\n",
       "      <td>NaN</td>\n",
       "      <td>1.0</td>\n",
       "      <td>2</td>\n",
       "    </tr>\n",
       "    <tr>\n",
       "      <th>3</th>\n",
       "      <td>5290409</td>\n",
       "      <td>3.0</td>\n",
       "      <td>5.3</td>\n",
       "      <td>2.0</td>\n",
       "      <td>1</td>\n",
       "    </tr>\n",
       "    <tr>\n",
       "      <th>4</th>\n",
       "      <td>530255</td>\n",
       "      <td>NaN</td>\n",
       "      <td>NaN</td>\n",
       "      <td>2.0</td>\n",
       "      <td>2</td>\n",
       "    </tr>\n",
       "  </tbody>\n",
       "</table>\n",
       "</div>"
      ],
      "text/plain": [
       "   3__Hospital_Number  21_abdominocentesis_appearance  \\\n",
       "0              530101                             NaN   \n",
       "1              534817                             2.0   \n",
       "2              530334                             NaN   \n",
       "3             5290409                             3.0   \n",
       "4              530255                             NaN   \n",
       "\n",
       "   22_abdomcentesis_total_protein  23_outcome  24_surgical_lesion?  \n",
       "0                             NaN         2.0                    2  \n",
       "1                             2.0         3.0                    2  \n",
       "2                             NaN         1.0                    2  \n",
       "3                             5.3         2.0                    1  \n",
       "4                             NaN         2.0                    2  "
      ]
     },
     "execution_count": 45,
     "metadata": {},
     "output_type": "execute_result"
    }
   ],
   "source": [
    "horses_24 = horses[[headers_list[2]] + headers_list[20:24]]\n",
    "horses_24.head()"
   ]
  },
  {
   "cell_type": "code",
   "execution_count": 46,
   "metadata": {},
   "outputs": [
    {
     "name": "stdout",
     "output_type": "stream",
     "text": [
      "<class 'pandas.core.frame.DataFrame'>\n",
      "RangeIndex: 300 entries, 0 to 299\n",
      "Data columns (total 5 columns):\n",
      " #   Column                          Non-Null Count  Dtype  \n",
      "---  ------                          --------------  -----  \n",
      " 0   3__Hospital_Number              300 non-null    int64  \n",
      " 1   21_abdominocentesis_appearance  135 non-null    float64\n",
      " 2   22_abdomcentesis_total_protein  102 non-null    float64\n",
      " 3   23_outcome                      299 non-null    float64\n",
      " 4   24_surgical_lesion?             300 non-null    int64  \n",
      "dtypes: float64(3), int64(2)\n",
      "memory usage: 11.8 KB\n"
     ]
    }
   ],
   "source": [
    "horses_24.info()"
   ]
  },
  {
   "cell_type": "markdown",
   "metadata": {},
   "source": [
    "В этой группе только один столбец с числовыми показателями: 22 (общий белок в брюшной полости). Очень важный столбец - 23 (исход болезни), его можно будет использовать при заполнении пропусков."
   ]
  },
  {
   "cell_type": "code",
   "execution_count": 47,
   "metadata": {},
   "outputs": [
    {
     "data": {
      "text/plain": [
       "21_abdominocentesis_appearance\n",
       "1.0    41\n",
       "2.0    48\n",
       "3.0    46\n",
       "Name: 3__Hospital_Number, dtype: int64"
      ]
     },
     "execution_count": 47,
     "metadata": {},
     "output_type": "execute_result"
    }
   ],
   "source": [
    "horses_24.groupby(['21_abdominocentesis_appearance']).count()['3__Hospital_Number']"
   ]
  },
  {
   "cell_type": "code",
   "execution_count": 48,
   "metadata": {},
   "outputs": [
    {
     "name": "stdout",
     "output_type": "stream",
     "text": [
      "count    102.000000\n",
      "mean       3.019608\n",
      "std        1.968567\n",
      "min        0.100000\n",
      "25%        2.000000\n",
      "50%        2.250000\n",
      "75%        3.900000\n",
      "max       10.100000\n",
      "Name: 22_abdomcentesis_total_protein, dtype: float64\n",
      "2.0\n",
      "2.25\n",
      "10.0\n"
     ]
    }
   ],
   "source": [
    "# Основные метрики для столбца 22\n",
    "print(horses_24['22_abdomcentesis_total_protein'].describe())\n",
    "print(horses_24['22_abdomcentesis_total_protein'].round(2). mode()[0])\n",
    "print(horses_24['22_abdomcentesis_total_protein'].median())\n",
    "print(horses_24['22_abdomcentesis_total_protein'].max() - horses_24['22_abdomcentesis_total_protein'].min())"
   ]
  },
  {
   "cell_type": "code",
   "execution_count": 49,
   "metadata": {},
   "outputs": [
    {
     "name": "stdout",
     "output_type": "stream",
     "text": [
      "count    95.000000\n",
      "mean      2.647368\n",
      "std       1.413675\n",
      "min       0.100000\n",
      "25%       2.000000\n",
      "50%       2.000000\n",
      "75%       3.600000\n",
      "max       6.600000\n",
      "Name: 22_abdomcentesis_total_protein, dtype: float64\n",
      "2.0\n",
      "2.0\n",
      "6.5\n"
     ]
    }
   ],
   "source": [
    "# Выбросы для столбца 22\n",
    "q1 = horses_24['22_abdomcentesis_total_protein'].quantile(0.25)\n",
    "q3 = horses_24['22_abdomcentesis_total_protein'].quantile(0.75)\n",
    "iqr = q3 - q1\n",
    "lower_bound = q1 - (1.5 * iqr)\n",
    "upper_bound = q3 + (1.5 * iqr)\n",
    "without_outliers = horses_24[horses_24['22_abdomcentesis_total_protein'].between(lower_bound, upper_bound)]\n",
    "print(without_outliers['22_abdomcentesis_total_protein'].describe())\n",
    "print(without_outliers['22_abdomcentesis_total_protein'].round(2). mode()[0])\n",
    "print(without_outliers['22_abdomcentesis_total_protein'].median())\n",
    "print(without_outliers['22_abdomcentesis_total_protein'].max() - without_outliers['22_abdomcentesis_total_protein'].min())"
   ]
  },
  {
   "cell_type": "code",
   "execution_count": 50,
   "metadata": {},
   "outputs": [
    {
     "data": {
      "text/html": [
       "<div>\n",
       "<style scoped>\n",
       "    .dataframe tbody tr th:only-of-type {\n",
       "        vertical-align: middle;\n",
       "    }\n",
       "\n",
       "    .dataframe tbody tr th {\n",
       "        vertical-align: top;\n",
       "    }\n",
       "\n",
       "    .dataframe thead th {\n",
       "        text-align: right;\n",
       "    }\n",
       "</style>\n",
       "<table border=\"1\" class=\"dataframe\">\n",
       "  <thead>\n",
       "    <tr style=\"text-align: right;\">\n",
       "      <th></th>\n",
       "      <th>3__Hospital_Number</th>\n",
       "      <th>21_abdominocentesis_appearance</th>\n",
       "      <th>22_abdomcentesis_total_protein</th>\n",
       "      <th>23_outcome</th>\n",
       "      <th>24_surgical_lesion?</th>\n",
       "    </tr>\n",
       "  </thead>\n",
       "  <tbody>\n",
       "    <tr>\n",
       "      <th>31</th>\n",
       "      <td>530242</td>\n",
       "      <td>3.0</td>\n",
       "      <td>7.4</td>\n",
       "      <td>3.0</td>\n",
       "      <td>1</td>\n",
       "    </tr>\n",
       "    <tr>\n",
       "      <th>113</th>\n",
       "      <td>527933</td>\n",
       "      <td>NaN</td>\n",
       "      <td>10.0</td>\n",
       "      <td>2.0</td>\n",
       "      <td>1</td>\n",
       "    </tr>\n",
       "    <tr>\n",
       "      <th>211</th>\n",
       "      <td>529893</td>\n",
       "      <td>1.0</td>\n",
       "      <td>10.1</td>\n",
       "      <td>2.0</td>\n",
       "      <td>1</td>\n",
       "    </tr>\n",
       "    <tr>\n",
       "      <th>225</th>\n",
       "      <td>528931</td>\n",
       "      <td>1.0</td>\n",
       "      <td>8.0</td>\n",
       "      <td>1.0</td>\n",
       "      <td>2</td>\n",
       "    </tr>\n",
       "    <tr>\n",
       "      <th>284</th>\n",
       "      <td>530439</td>\n",
       "      <td>2.0</td>\n",
       "      <td>7.0</td>\n",
       "      <td>1.0</td>\n",
       "      <td>2</td>\n",
       "    </tr>\n",
       "  </tbody>\n",
       "</table>\n",
       "</div>"
      ],
      "text/plain": [
       "     3__Hospital_Number  21_abdominocentesis_appearance  \\\n",
       "31               530242                             3.0   \n",
       "113              527933                             NaN   \n",
       "211              529893                             1.0   \n",
       "225              528931                             1.0   \n",
       "284              530439                             2.0   \n",
       "\n",
       "     22_abdomcentesis_total_protein  23_outcome  24_surgical_lesion?  \n",
       "31                              7.4         3.0                    1  \n",
       "113                            10.0         2.0                    1  \n",
       "211                            10.1         2.0                    1  \n",
       "225                             8.0         1.0                    2  \n",
       "284                             7.0         1.0                    2  "
      ]
     },
     "execution_count": 50,
     "metadata": {},
     "output_type": "execute_result"
    }
   ],
   "source": [
    "pd.concat([horses_24, without_outliers]).drop_duplicates(keep=False).dropna(subset=['22_abdomcentesis_total_protein'])"
   ]
  },
  {
   "cell_type": "code",
   "execution_count": 51,
   "metadata": {},
   "outputs": [
    {
     "data": {
      "text/plain": [
       "23_outcome\n",
       "1.0    178\n",
       "2.0     77\n",
       "3.0     44\n",
       "Name: 3__Hospital_Number, dtype: int64"
      ]
     },
     "execution_count": 51,
     "metadata": {},
     "output_type": "execute_result"
    }
   ],
   "source": [
    "horses_24.groupby(['23_outcome']).count()['3__Hospital_Number']"
   ]
  },
  {
   "cell_type": "code",
   "execution_count": 52,
   "metadata": {},
   "outputs": [
    {
     "data": {
      "text/plain": [
       "24_surgical_lesion?\n",
       "1    191\n",
       "2    109\n",
       "Name: 3__Hospital_Number, dtype: int64"
      ]
     },
     "execution_count": 52,
     "metadata": {},
     "output_type": "execute_result"
    }
   ],
   "source": [
    "horses_24.groupby(['24_surgical_lesion?']).count()['3__Hospital_Number']"
   ]
  },
  {
   "cell_type": "markdown",
   "metadata": {},
   "source": [
    "### Предварительные выводы по столбцам 21 - 24\n",
    "1. Столбцы 23 и 24 показывают что 2/3 лошадей выживают и 2/3 лошадей нужно было хирургическое вмешательство. Эвтаназия является самым редким исходом болезни (хотя один случай из шести это довольно много).\n",
    "2. В столбце 21 (загазованность брюшной полости) значения распределены равномерно. Но этот столбец заполнен примерно на треть, так что выборка вряд ли репрезентативна.\n",
    "3. В столбце 22(общий белок в брюшной полости) также много пропущенных данных. Выбросы идут только вверх, средние значения довольно близко к нижней части графика. В описании сказано, что чем выше этот показатель, тем хуже. Вероятно, высокие значения белка свидетельствуют о неблагоприятном течении заболевания."
   ]
  },
  {
   "cell_type": "markdown",
   "metadata": {},
   "source": [
    "## Анализ столбцов 25 - 28"
   ]
  },
  {
   "cell_type": "code",
   "execution_count": 53,
   "metadata": {},
   "outputs": [
    {
     "data": {
      "text/html": [
       "<div>\n",
       "<style scoped>\n",
       "    .dataframe tbody tr th:only-of-type {\n",
       "        vertical-align: middle;\n",
       "    }\n",
       "\n",
       "    .dataframe tbody tr th {\n",
       "        vertical-align: top;\n",
       "    }\n",
       "\n",
       "    .dataframe thead th {\n",
       "        text-align: right;\n",
       "    }\n",
       "</style>\n",
       "<table border=\"1\" class=\"dataframe\">\n",
       "  <thead>\n",
       "    <tr style=\"text-align: right;\">\n",
       "      <th></th>\n",
       "      <th>3__Hospital_Number</th>\n",
       "      <th>25_type_of_lesion</th>\n",
       "      <th>26_type_of_lesion</th>\n",
       "      <th>27_type_of_lesion</th>\n",
       "      <th>28_cp_data</th>\n",
       "    </tr>\n",
       "  </thead>\n",
       "  <tbody>\n",
       "    <tr>\n",
       "      <th>0</th>\n",
       "      <td>530101</td>\n",
       "      <td>11300</td>\n",
       "      <td>0</td>\n",
       "      <td>0</td>\n",
       "      <td>2</td>\n",
       "    </tr>\n",
       "    <tr>\n",
       "      <th>1</th>\n",
       "      <td>534817</td>\n",
       "      <td>2208</td>\n",
       "      <td>0</td>\n",
       "      <td>0</td>\n",
       "      <td>2</td>\n",
       "    </tr>\n",
       "    <tr>\n",
       "      <th>2</th>\n",
       "      <td>530334</td>\n",
       "      <td>0</td>\n",
       "      <td>0</td>\n",
       "      <td>0</td>\n",
       "      <td>1</td>\n",
       "    </tr>\n",
       "    <tr>\n",
       "      <th>3</th>\n",
       "      <td>5290409</td>\n",
       "      <td>2208</td>\n",
       "      <td>0</td>\n",
       "      <td>0</td>\n",
       "      <td>1</td>\n",
       "    </tr>\n",
       "    <tr>\n",
       "      <th>4</th>\n",
       "      <td>530255</td>\n",
       "      <td>4300</td>\n",
       "      <td>0</td>\n",
       "      <td>0</td>\n",
       "      <td>2</td>\n",
       "    </tr>\n",
       "  </tbody>\n",
       "</table>\n",
       "</div>"
      ],
      "text/plain": [
       "   3__Hospital_Number  25_type_of_lesion  26_type_of_lesion  \\\n",
       "0              530101              11300                  0   \n",
       "1              534817               2208                  0   \n",
       "2              530334                  0                  0   \n",
       "3             5290409               2208                  0   \n",
       "4              530255               4300                  0   \n",
       "\n",
       "   27_type_of_lesion  28_cp_data  \n",
       "0                  0           2  \n",
       "1                  0           2  \n",
       "2                  0           1  \n",
       "3                  0           1  \n",
       "4                  0           2  "
      ]
     },
     "execution_count": 53,
     "metadata": {},
     "output_type": "execute_result"
    }
   ],
   "source": [
    "horses_28 = horses[[headers_list[2]] + headers_list[24:28]]\n",
    "horses_28.head()"
   ]
  },
  {
   "cell_type": "markdown",
   "metadata": {},
   "source": [
    "Эти столбцы вообще не хочется смотреть. У столбцов 25-27 описание какое-то мутное, одно на троих и почему-то много нулей. Столбец 28 в описании назван нерепрезентативным. Но можно посмотреть, какие встречаются значения и можно ли получить какую-либо интересную информацию из столбцов 25-27."
   ]
  },
  {
   "cell_type": "code",
   "execution_count": 54,
   "metadata": {},
   "outputs": [
    {
     "name": "stdout",
     "output_type": "stream",
     "text": [
      "<class 'pandas.core.frame.DataFrame'>\n",
      "RangeIndex: 300 entries, 0 to 299\n",
      "Data columns (total 5 columns):\n",
      " #   Column              Non-Null Count  Dtype\n",
      "---  ------              --------------  -----\n",
      " 0   3__Hospital_Number  300 non-null    int64\n",
      " 1   25_type_of_lesion   300 non-null    int64\n",
      " 2   26_type_of_lesion   300 non-null    int64\n",
      " 3   27_type_of_lesion   300 non-null    int64\n",
      " 4   28_cp_data          300 non-null    int64\n",
      "dtypes: int64(5)\n",
      "memory usage: 11.8 KB\n"
     ]
    }
   ],
   "source": [
    "horses_28.info()"
   ]
  },
  {
   "cell_type": "code",
   "execution_count": 55,
   "metadata": {},
   "outputs": [
    {
     "data": {
      "text/plain": [
       "25_type_of_lesion\n",
       "0        56\n",
       "300       1\n",
       "400       5\n",
       "1111      1\n",
       "1124      1\n",
       "         ..\n",
       "11400     1\n",
       "12208     1\n",
       "21110     1\n",
       "31110     7\n",
       "41110     1\n",
       "Name: 3__Hospital_Number, Length: 61, dtype: int64"
      ]
     },
     "execution_count": 55,
     "metadata": {},
     "output_type": "execute_result"
    }
   ],
   "source": [
    "horses_28.groupby(['25_type_of_lesion']).count()['3__Hospital_Number']"
   ]
  },
  {
   "cell_type": "code",
   "execution_count": 56,
   "metadata": {},
   "outputs": [
    {
     "data": {
      "text/plain": [
       "26_type_of_lesion\n",
       "0       293\n",
       "1400      1\n",
       "3111      3\n",
       "3112      1\n",
       "6112      1\n",
       "7111      1\n",
       "Name: 3__Hospital_Number, dtype: int64"
      ]
     },
     "execution_count": 56,
     "metadata": {},
     "output_type": "execute_result"
    }
   ],
   "source": [
    "horses_28.groupby(['26_type_of_lesion']).count()['3__Hospital_Number']"
   ]
  },
  {
   "cell_type": "code",
   "execution_count": 57,
   "metadata": {},
   "outputs": [
    {
     "data": {
      "text/plain": [
       "27_type_of_lesion\n",
       "0       299\n",
       "2209      1\n",
       "Name: 3__Hospital_Number, dtype: int64"
      ]
     },
     "execution_count": 57,
     "metadata": {},
     "output_type": "execute_result"
    }
   ],
   "source": [
    "horses_28.groupby(['27_type_of_lesion']).count()['3__Hospital_Number']"
   ]
  },
  {
   "cell_type": "code",
   "execution_count": 58,
   "metadata": {},
   "outputs": [
    {
     "data": {
      "text/plain": [
       "25_type_of_lesion  26_type_of_lesion  27_type_of_lesion\n",
       "0                  0                  0                    56\n",
       "300                0                  0                     1\n",
       "400                0                  0                     5\n",
       "1111               0                  0                     1\n",
       "1124               0                  0                     1\n",
       "1400               0                  0                     8\n",
       "2111               0                  0                     3\n",
       "2112               0                  0                     5\n",
       "2113               0                  0                     6\n",
       "2124               0                  0                     9\n",
       "2205               0                  0                    13\n",
       "2206               0                  0                     4\n",
       "2207               0                  0                     3\n",
       "2208               0                  0                    20\n",
       "2209               0                  0                    10\n",
       "                   1400               0                     1\n",
       "2300               0                  0                     1\n",
       "2305               0                  0                     1\n",
       "2322               0                  0                     2\n",
       "3025               0                  0                     2\n",
       "3111               0                  0                    32\n",
       "                   7111               0                     1\n",
       "3112               0                  0                     2\n",
       "                   6112               0                     1\n",
       "3113               0                  0                     1\n",
       "3115               0                  0                     1\n",
       "3124               0                  0                     2\n",
       "3133               0                  0                     1\n",
       "3205               0                  0                    28\n",
       "                   3111               0                     1\n",
       "3207               0                  0                     1\n",
       "3209               0                  0                     4\n",
       "3300               0                  0                     1\n",
       "3400               0                  0                     1\n",
       "4111               0                  0                     1\n",
       "4122               0                  0                     1\n",
       "4124               0                  0                     3\n",
       "4205               0                  0                    10\n",
       "                   3111               2209                  1\n",
       "4206               0                  0                     1\n",
       "4207               0                  0                     1\n",
       "4300               0                  0                     4\n",
       "5000               0                  0                     1\n",
       "5111               0                  0                     2\n",
       "5124               0                  0                     2\n",
       "5205               0                  0                     1\n",
       "5206               0                  0                     2\n",
       "5400               0                  0                     4\n",
       "6111               3111               0                     1\n",
       "                   3112               0                     1\n",
       "Name: 3__Hospital_Number, dtype: int64"
      ]
     },
     "execution_count": 58,
     "metadata": {},
     "output_type": "execute_result"
    }
   ],
   "source": [
    "horses_28.groupby(['25_type_of_lesion', '26_type_of_lesion', '27_type_of_lesion']).count()['3__Hospital_Number'].head(50)"
   ]
  },
  {
   "cell_type": "code",
   "execution_count": 59,
   "metadata": {},
   "outputs": [
    {
     "data": {
      "text/plain": [
       "25_type_of_lesion  26_type_of_lesion  27_type_of_lesion\n",
       "5400               0                  0                    4\n",
       "6111               3111               0                    1\n",
       "                   3112               0                    1\n",
       "6112               0                  0                    2\n",
       "6209               0                  0                    1\n",
       "7111               0                  0                    7\n",
       "7113               0                  0                    1\n",
       "7209               0                  0                    3\n",
       "7400               0                  0                    1\n",
       "8300               0                  0                    1\n",
       "8400               0                  0                    2\n",
       "9000               0                  0                    1\n",
       "9400               0                  0                    2\n",
       "11124              0                  0                    2\n",
       "11300              0                  0                    1\n",
       "11400              0                  0                    1\n",
       "12208              0                  0                    1\n",
       "21110              0                  0                    1\n",
       "31110              0                  0                    7\n",
       "41110              0                  0                    1\n",
       "Name: 3__Hospital_Number, dtype: int64"
      ]
     },
     "execution_count": 59,
     "metadata": {},
     "output_type": "execute_result"
    }
   ],
   "source": [
    "horses_28.groupby(['25_type_of_lesion', '26_type_of_lesion', '27_type_of_lesion']).count()['3__Hospital_Number'].tail(20)"
   ]
  },
  {
   "cell_type": "code",
   "execution_count": 60,
   "metadata": {},
   "outputs": [
    {
     "data": {
      "text/plain": [
       "28_cp_data\n",
       "1     99\n",
       "2    201\n",
       "Name: 3__Hospital_Number, dtype: int64"
      ]
     },
     "execution_count": 60,
     "metadata": {},
     "output_type": "execute_result"
    }
   ],
   "source": [
    "horses_28.groupby(['28_cp_data']).count()['3__Hospital_Number']"
   ]
  },
  {
   "cell_type": "markdown",
   "metadata": {},
   "source": [
    "### Предварительные выводы по столбцам 25 - 28\n",
    "1. Про столбцы 25-28 по-прежнему ничего непонятно. Предполагаю, что так могут отмечать сочетания болезней. Это единственные столбцы, где пропуски отображаются как нули. Но это видимо сделано намеренно и отражено в описании, так что ничего трогать не буду.\n",
    "2. В столбце 28 преобладает второе значение (патология отсутствует)."
   ]
  },
  {
   "cell_type": "markdown",
   "metadata": {},
   "source": [
    "## Пропуски"
   ]
  },
  {
   "cell_type": "code",
   "execution_count": 61,
   "metadata": {},
   "outputs": [
    {
     "name": "stdout",
     "output_type": "stream",
     "text": [
      "<class 'pandas.core.frame.DataFrame'>\n",
      "RangeIndex: 300 entries, 0 to 299\n",
      "Data columns (total 28 columns):\n",
      " #   Column                          Non-Null Count  Dtype  \n",
      "---  ------                          --------------  -----  \n",
      " 0   1__surgery?                     299 non-null    float64\n",
      " 1   2__Age                          300 non-null    int64  \n",
      " 2   3__Hospital_Number              300 non-null    int64  \n",
      " 3   4__rectal_temperature           240 non-null    float64\n",
      " 4   5__pulse                        276 non-null    float64\n",
      " 5   6__respiratory_rate             242 non-null    float64\n",
      " 6   7__temperature_of_extremities   244 non-null    float64\n",
      " 7   8__peripheral_pulse             231 non-null    float64\n",
      " 8   9__mucous_membranes             253 non-null    float64\n",
      " 9   10_capillary_refill_time        268 non-null    float64\n",
      " 10  11_pain                         245 non-null    float64\n",
      " 11  12_peristalsis                  256 non-null    float64\n",
      " 12  13_abdominal_distension         244 non-null    float64\n",
      " 13  14_nasogastric_tube             196 non-null    float64\n",
      " 14  15_nasogastric_reflux           194 non-null    float64\n",
      " 15  16_nasogastric_reflux_PH        53 non-null     float64\n",
      " 16  17_rectal_examination_-_feces   198 non-null    float64\n",
      " 17  18_abdomen                      182 non-null    float64\n",
      " 18  19_packed_cell_volume           271 non-null    float64\n",
      " 19  20_total_protein                267 non-null    float64\n",
      " 20  21_abdominocentesis_appearance  135 non-null    float64\n",
      " 21  22_abdomcentesis_total_protein  102 non-null    float64\n",
      " 22  23_outcome                      299 non-null    float64\n",
      " 23  24_surgical_lesion?             300 non-null    int64  \n",
      " 24  25_type_of_lesion               300 non-null    int64  \n",
      " 25  26_type_of_lesion               300 non-null    int64  \n",
      " 26  27_type_of_lesion               300 non-null    int64  \n",
      " 27  28_cp_data                      300 non-null    int64  \n",
      "dtypes: float64(21), int64(7)\n",
      "memory usage: 65.8 KB\n"
     ]
    }
   ],
   "source": [
    "horses.info()"
   ]
  },
  {
   "cell_type": "markdown",
   "metadata": {},
   "source": [
    "1. В столбцах surgery и outcome по одному пропуску. Можно его заменить на самое популярное значение.\n",
    "2. В столбцах 25-27 пропуски уже заменены константой (0). Можно так и оставить.\n",
    "3. Столбец 16 слишком неинформативен. Его можно вообще удалить.\n",
    "4. Категориальные столбцы заполню модой с распределением по outcome и surgical_lesion?. В этих столбцах нет пропусков, приводится информация, чем закончилась болезнь и как надо было ее лечить. Чисто интуитивно интересно было бы посмотреть, какие симптомы чаще всего наблюдаются при том или ином сочетании этих двух показателей.\n",
    "5. В числовых столбцах заполню пропуски медианой, предварительно проверю различия по по outcome и surgical_lesion?.\n",
    "6. В столбце 21 слишком мало данных, поэтому пропуски заполню константой. Со столбцом 22 этот номер не пройдет, потому что там данные числовые. Текстовую константу нельзя подставить, потому что изменится тип данных в столбце, а 0 нельзя подставить, потому что это отразится на вычислениях. Поэтому заполню столбец медианой по общему правилу."
   ]
  },
  {
   "cell_type": "code",
   "execution_count": 62,
   "metadata": {},
   "outputs": [
    {
     "name": "stdout",
     "output_type": "stream",
     "text": [
      "<class 'pandas.core.frame.DataFrame'>\n",
      "RangeIndex: 300 entries, 0 to 299\n",
      "Data columns (total 27 columns):\n",
      " #   Column                          Non-Null Count  Dtype  \n",
      "---  ------                          --------------  -----  \n",
      " 0   1__surgery?                     300 non-null    float64\n",
      " 1   2__Age                          300 non-null    int64  \n",
      " 2   3__Hospital_Number              300 non-null    int64  \n",
      " 3   4__rectal_temperature           240 non-null    float64\n",
      " 4   5__pulse                        276 non-null    float64\n",
      " 5   6__respiratory_rate             242 non-null    float64\n",
      " 6   7__temperature_of_extremities   244 non-null    float64\n",
      " 7   8__peripheral_pulse             231 non-null    float64\n",
      " 8   9__mucous_membranes             253 non-null    float64\n",
      " 9   10_capillary_refill_time        268 non-null    float64\n",
      " 10  11_pain                         245 non-null    float64\n",
      " 11  12_peristalsis                  256 non-null    float64\n",
      " 12  13_abdominal_distension         244 non-null    float64\n",
      " 13  14_nasogastric_tube             196 non-null    float64\n",
      " 14  15_nasogastric_reflux           194 non-null    float64\n",
      " 15  17_rectal_examination_-_feces   198 non-null    float64\n",
      " 16  18_abdomen                      182 non-null    float64\n",
      " 17  19_packed_cell_volume           271 non-null    float64\n",
      " 18  20_total_protein                267 non-null    float64\n",
      " 19  21_abdominocentesis_appearance  135 non-null    float64\n",
      " 20  22_abdomcentesis_total_protein  102 non-null    float64\n",
      " 21  23_outcome                      300 non-null    float64\n",
      " 22  24_surgical_lesion?             300 non-null    int64  \n",
      " 23  25_type_of_lesion               300 non-null    int64  \n",
      " 24  26_type_of_lesion               300 non-null    int64  \n",
      " 25  27_type_of_lesion               300 non-null    int64  \n",
      " 26  28_cp_data                      300 non-null    int64  \n",
      "dtypes: float64(20), int64(7)\n",
      "memory usage: 63.4 KB\n"
     ]
    }
   ],
   "source": [
    "#Сразу заполняю пропуски в столбцах 1 и 23 и избавляюсь от столбца 16\n",
    "horses['1__surgery?'] = horses['1__surgery?'].fillna(1)\n",
    "horses['23_outcome'] = horses['23_outcome'].fillna(1)\n",
    "horses.drop(['16_nasogastric_reflux_PH'], axis=1, inplace=True)\n",
    "horses.info()"
   ]
  },
  {
   "cell_type": "code",
   "execution_count": 63,
   "metadata": {},
   "outputs": [
    {
     "data": {
      "text/plain": [
       "2__Age\n",
       "1    276\n",
       "2     24\n",
       "Name: 3__Hospital_Number, dtype: int64"
      ]
     },
     "execution_count": 63,
     "metadata": {},
     "output_type": "execute_result"
    }
   ],
   "source": [
    "# Столбец 2: заменяю 9 на 2, чтобы значения соответствовали описанию.\n",
    "horses['2__Age'].replace(9, 2, inplace=True)\n",
    "horses.groupby('2__Age').count()['3__Hospital_Number']"
   ]
  },
  {
   "cell_type": "code",
   "execution_count": 64,
   "metadata": {},
   "outputs": [
    {
     "data": {
      "text/html": [
       "<div>\n",
       "<style scoped>\n",
       "    .dataframe tbody tr th:only-of-type {\n",
       "        vertical-align: middle;\n",
       "    }\n",
       "\n",
       "    .dataframe tbody tr th {\n",
       "        vertical-align: top;\n",
       "    }\n",
       "\n",
       "    .dataframe thead th {\n",
       "        text-align: right;\n",
       "    }\n",
       "</style>\n",
       "<table border=\"1\" class=\"dataframe\">\n",
       "  <thead>\n",
       "    <tr style=\"text-align: right;\">\n",
       "      <th></th>\n",
       "      <th></th>\n",
       "      <th>4__rectal_temperature</th>\n",
       "    </tr>\n",
       "    <tr>\n",
       "      <th>23_outcome</th>\n",
       "      <th>24_surgical_lesion?</th>\n",
       "      <th></th>\n",
       "    </tr>\n",
       "  </thead>\n",
       "  <tbody>\n",
       "    <tr>\n",
       "      <th rowspan=\"2\" valign=\"top\">1.0</th>\n",
       "      <th>1</th>\n",
       "      <td>38.20</td>\n",
       "    </tr>\n",
       "    <tr>\n",
       "      <th>2</th>\n",
       "      <td>38.20</td>\n",
       "    </tr>\n",
       "    <tr>\n",
       "      <th rowspan=\"2\" valign=\"top\">2.0</th>\n",
       "      <th>1</th>\n",
       "      <td>38.10</td>\n",
       "    </tr>\n",
       "    <tr>\n",
       "      <th>2</th>\n",
       "      <td>37.65</td>\n",
       "    </tr>\n",
       "    <tr>\n",
       "      <th rowspan=\"2\" valign=\"top\">3.0</th>\n",
       "      <th>1</th>\n",
       "      <td>37.80</td>\n",
       "    </tr>\n",
       "    <tr>\n",
       "      <th>2</th>\n",
       "      <td>38.30</td>\n",
       "    </tr>\n",
       "  </tbody>\n",
       "</table>\n",
       "</div>"
      ],
      "text/plain": [
       "                                4__rectal_temperature\n",
       "23_outcome 24_surgical_lesion?                       \n",
       "1.0        1                                    38.20\n",
       "           2                                    38.20\n",
       "2.0        1                                    38.10\n",
       "           2                                    37.65\n",
       "3.0        1                                    37.80\n",
       "           2                                    38.30"
      ]
     },
     "execution_count": 64,
     "metadata": {},
     "output_type": "execute_result"
    }
   ],
   "source": [
    "# Столбец 4\n",
    "horses.groupby(['23_outcome', '24_surgical_lesion?']).agg({'4__rectal_temperature': lambda x: x.median()})"
   ]
  },
  {
   "cell_type": "code",
   "execution_count": 65,
   "metadata": {},
   "outputs": [
    {
     "name": "stdout",
     "output_type": "stream",
     "text": [
      "<class 'pandas.core.frame.DataFrame'>\n",
      "RangeIndex: 300 entries, 0 to 299\n",
      "Data columns (total 27 columns):\n",
      " #   Column                          Non-Null Count  Dtype  \n",
      "---  ------                          --------------  -----  \n",
      " 0   1__surgery?                     300 non-null    float64\n",
      " 1   2__Age                          300 non-null    int64  \n",
      " 2   3__Hospital_Number              300 non-null    int64  \n",
      " 3   4__rectal_temperature           300 non-null    float64\n",
      " 4   5__pulse                        276 non-null    float64\n",
      " 5   6__respiratory_rate             242 non-null    float64\n",
      " 6   7__temperature_of_extremities   244 non-null    float64\n",
      " 7   8__peripheral_pulse             231 non-null    float64\n",
      " 8   9__mucous_membranes             253 non-null    float64\n",
      " 9   10_capillary_refill_time        268 non-null    float64\n",
      " 10  11_pain                         245 non-null    float64\n",
      " 11  12_peristalsis                  256 non-null    float64\n",
      " 12  13_abdominal_distension         244 non-null    float64\n",
      " 13  14_nasogastric_tube             196 non-null    float64\n",
      " 14  15_nasogastric_reflux           194 non-null    float64\n",
      " 15  17_rectal_examination_-_feces   198 non-null    float64\n",
      " 16  18_abdomen                      182 non-null    float64\n",
      " 17  19_packed_cell_volume           271 non-null    float64\n",
      " 18  20_total_protein                267 non-null    float64\n",
      " 19  21_abdominocentesis_appearance  135 non-null    float64\n",
      " 20  22_abdomcentesis_total_protein  102 non-null    float64\n",
      " 21  23_outcome                      300 non-null    float64\n",
      " 22  24_surgical_lesion?             300 non-null    int64  \n",
      " 23  25_type_of_lesion               300 non-null    int64  \n",
      " 24  26_type_of_lesion               300 non-null    int64  \n",
      " 25  27_type_of_lesion               300 non-null    int64  \n",
      " 26  28_cp_data                      300 non-null    int64  \n",
      "dtypes: float64(20), int64(7)\n",
      "memory usage: 63.4 KB\n"
     ]
    }
   ],
   "source": [
    "# Различия незначительные, значит, пропуски заполняю медианой без детализации\n",
    "horses['4__rectal_temperature'].fillna(horses['4__rectal_temperature'].median(), inplace=True)\n",
    "horses.info()"
   ]
  },
  {
   "cell_type": "code",
   "execution_count": 66,
   "metadata": {},
   "outputs": [
    {
     "data": {
      "text/html": [
       "<div>\n",
       "<style scoped>\n",
       "    .dataframe tbody tr th:only-of-type {\n",
       "        vertical-align: middle;\n",
       "    }\n",
       "\n",
       "    .dataframe tbody tr th {\n",
       "        vertical-align: top;\n",
       "    }\n",
       "\n",
       "    .dataframe thead th {\n",
       "        text-align: right;\n",
       "    }\n",
       "</style>\n",
       "<table border=\"1\" class=\"dataframe\">\n",
       "  <thead>\n",
       "    <tr style=\"text-align: right;\">\n",
       "      <th></th>\n",
       "      <th></th>\n",
       "      <th>5__pulse</th>\n",
       "    </tr>\n",
       "    <tr>\n",
       "      <th>23_outcome</th>\n",
       "      <th>24_surgical_lesion?</th>\n",
       "      <th></th>\n",
       "    </tr>\n",
       "  </thead>\n",
       "  <tbody>\n",
       "    <tr>\n",
       "      <th rowspan=\"2\" valign=\"top\">1.0</th>\n",
       "      <th>1</th>\n",
       "      <td>64.0</td>\n",
       "    </tr>\n",
       "    <tr>\n",
       "      <th>2</th>\n",
       "      <td>48.0</td>\n",
       "    </tr>\n",
       "    <tr>\n",
       "      <th rowspan=\"2\" valign=\"top\">2.0</th>\n",
       "      <th>1</th>\n",
       "      <td>86.0</td>\n",
       "    </tr>\n",
       "    <tr>\n",
       "      <th>2</th>\n",
       "      <td>92.0</td>\n",
       "    </tr>\n",
       "    <tr>\n",
       "      <th rowspan=\"2\" valign=\"top\">3.0</th>\n",
       "      <th>1</th>\n",
       "      <td>74.0</td>\n",
       "    </tr>\n",
       "    <tr>\n",
       "      <th>2</th>\n",
       "      <td>88.0</td>\n",
       "    </tr>\n",
       "  </tbody>\n",
       "</table>\n",
       "</div>"
      ],
      "text/plain": [
       "                                5__pulse\n",
       "23_outcome 24_surgical_lesion?          \n",
       "1.0        1                        64.0\n",
       "           2                        48.0\n",
       "2.0        1                        86.0\n",
       "           2                        92.0\n",
       "3.0        1                        74.0\n",
       "           2                        88.0"
      ]
     },
     "execution_count": 66,
     "metadata": {},
     "output_type": "execute_result"
    }
   ],
   "source": [
    "#Столбец 5\n",
    "horses.groupby(['23_outcome', '24_surgical_lesion?']).agg({'5__pulse': lambda x: x.median()})"
   ]
  },
  {
   "cell_type": "code",
   "execution_count": 67,
   "metadata": {},
   "outputs": [
    {
     "name": "stdout",
     "output_type": "stream",
     "text": [
      "<class 'pandas.core.frame.DataFrame'>\n",
      "RangeIndex: 300 entries, 0 to 299\n",
      "Data columns (total 27 columns):\n",
      " #   Column                          Non-Null Count  Dtype  \n",
      "---  ------                          --------------  -----  \n",
      " 0   1__surgery?                     300 non-null    float64\n",
      " 1   2__Age                          300 non-null    int64  \n",
      " 2   3__Hospital_Number              300 non-null    int64  \n",
      " 3   4__rectal_temperature           300 non-null    float64\n",
      " 4   5__pulse                        300 non-null    float64\n",
      " 5   6__respiratory_rate             242 non-null    float64\n",
      " 6   7__temperature_of_extremities   244 non-null    float64\n",
      " 7   8__peripheral_pulse             231 non-null    float64\n",
      " 8   9__mucous_membranes             253 non-null    float64\n",
      " 9   10_capillary_refill_time        268 non-null    float64\n",
      " 10  11_pain                         245 non-null    float64\n",
      " 11  12_peristalsis                  256 non-null    float64\n",
      " 12  13_abdominal_distension         244 non-null    float64\n",
      " 13  14_nasogastric_tube             196 non-null    float64\n",
      " 14  15_nasogastric_reflux           194 non-null    float64\n",
      " 15  17_rectal_examination_-_feces   198 non-null    float64\n",
      " 16  18_abdomen                      182 non-null    float64\n",
      " 17  19_packed_cell_volume           271 non-null    float64\n",
      " 18  20_total_protein                267 non-null    float64\n",
      " 19  21_abdominocentesis_appearance  135 non-null    float64\n",
      " 20  22_abdomcentesis_total_protein  102 non-null    float64\n",
      " 21  23_outcome                      300 non-null    float64\n",
      " 22  24_surgical_lesion?             300 non-null    int64  \n",
      " 23  25_type_of_lesion               300 non-null    int64  \n",
      " 24  26_type_of_lesion               300 non-null    int64  \n",
      " 25  27_type_of_lesion               300 non-null    int64  \n",
      " 26  28_cp_data                      300 non-null    int64  \n",
      "dtypes: float64(20), int64(7)\n",
      "memory usage: 63.4 KB\n"
     ]
    }
   ],
   "source": [
    "# Различия значительные, значит, заполняю пропуски детализированной медианой\n",
    "horses['5__pulse'].fillna(horses.groupby(['23_outcome', '24_surgical_lesion?'])['5__pulse'].transform('median'), inplace=True)\n",
    "horses.info()"
   ]
  },
  {
   "cell_type": "code",
   "execution_count": 68,
   "metadata": {},
   "outputs": [
    {
     "data": {
      "text/html": [
       "<div>\n",
       "<style scoped>\n",
       "    .dataframe tbody tr th:only-of-type {\n",
       "        vertical-align: middle;\n",
       "    }\n",
       "\n",
       "    .dataframe tbody tr th {\n",
       "        vertical-align: top;\n",
       "    }\n",
       "\n",
       "    .dataframe thead th {\n",
       "        text-align: right;\n",
       "    }\n",
       "</style>\n",
       "<table border=\"1\" class=\"dataframe\">\n",
       "  <thead>\n",
       "    <tr style=\"text-align: right;\">\n",
       "      <th></th>\n",
       "      <th></th>\n",
       "      <th>6__respiratory_rate</th>\n",
       "    </tr>\n",
       "    <tr>\n",
       "      <th>23_outcome</th>\n",
       "      <th>24_surgical_lesion?</th>\n",
       "      <th></th>\n",
       "    </tr>\n",
       "  </thead>\n",
       "  <tbody>\n",
       "    <tr>\n",
       "      <th rowspan=\"2\" valign=\"top\">1.0</th>\n",
       "      <th>1</th>\n",
       "      <td>30.0</td>\n",
       "    </tr>\n",
       "    <tr>\n",
       "      <th>2</th>\n",
       "      <td>20.0</td>\n",
       "    </tr>\n",
       "    <tr>\n",
       "      <th rowspan=\"2\" valign=\"top\">2.0</th>\n",
       "      <th>1</th>\n",
       "      <td>30.0</td>\n",
       "    </tr>\n",
       "    <tr>\n",
       "      <th>2</th>\n",
       "      <td>30.0</td>\n",
       "    </tr>\n",
       "    <tr>\n",
       "      <th rowspan=\"2\" valign=\"top\">3.0</th>\n",
       "      <th>1</th>\n",
       "      <td>24.0</td>\n",
       "    </tr>\n",
       "    <tr>\n",
       "      <th>2</th>\n",
       "      <td>20.0</td>\n",
       "    </tr>\n",
       "  </tbody>\n",
       "</table>\n",
       "</div>"
      ],
      "text/plain": [
       "                                6__respiratory_rate\n",
       "23_outcome 24_surgical_lesion?                     \n",
       "1.0        1                                   30.0\n",
       "           2                                   20.0\n",
       "2.0        1                                   30.0\n",
       "           2                                   30.0\n",
       "3.0        1                                   24.0\n",
       "           2                                   20.0"
      ]
     },
     "execution_count": 68,
     "metadata": {},
     "output_type": "execute_result"
    }
   ],
   "source": [
    "# Столбец 6\n",
    "horses.groupby(['23_outcome', '24_surgical_lesion?']).agg({'6__respiratory_rate': lambda x: x.median()})"
   ]
  },
  {
   "cell_type": "code",
   "execution_count": 69,
   "metadata": {},
   "outputs": [
    {
     "name": "stdout",
     "output_type": "stream",
     "text": [
      "<class 'pandas.core.frame.DataFrame'>\n",
      "RangeIndex: 300 entries, 0 to 299\n",
      "Data columns (total 27 columns):\n",
      " #   Column                          Non-Null Count  Dtype  \n",
      "---  ------                          --------------  -----  \n",
      " 0   1__surgery?                     300 non-null    float64\n",
      " 1   2__Age                          300 non-null    int64  \n",
      " 2   3__Hospital_Number              300 non-null    int64  \n",
      " 3   4__rectal_temperature           300 non-null    float64\n",
      " 4   5__pulse                        300 non-null    float64\n",
      " 5   6__respiratory_rate             300 non-null    float64\n",
      " 6   7__temperature_of_extremities   244 non-null    float64\n",
      " 7   8__peripheral_pulse             231 non-null    float64\n",
      " 8   9__mucous_membranes             253 non-null    float64\n",
      " 9   10_capillary_refill_time        268 non-null    float64\n",
      " 10  11_pain                         245 non-null    float64\n",
      " 11  12_peristalsis                  256 non-null    float64\n",
      " 12  13_abdominal_distension         244 non-null    float64\n",
      " 13  14_nasogastric_tube             196 non-null    float64\n",
      " 14  15_nasogastric_reflux           194 non-null    float64\n",
      " 15  17_rectal_examination_-_feces   198 non-null    float64\n",
      " 16  18_abdomen                      182 non-null    float64\n",
      " 17  19_packed_cell_volume           271 non-null    float64\n",
      " 18  20_total_protein                267 non-null    float64\n",
      " 19  21_abdominocentesis_appearance  135 non-null    float64\n",
      " 20  22_abdomcentesis_total_protein  102 non-null    float64\n",
      " 21  23_outcome                      300 non-null    float64\n",
      " 22  24_surgical_lesion?             300 non-null    int64  \n",
      " 23  25_type_of_lesion               300 non-null    int64  \n",
      " 24  26_type_of_lesion               300 non-null    int64  \n",
      " 25  27_type_of_lesion               300 non-null    int64  \n",
      " 26  28_cp_data                      300 non-null    int64  \n",
      "dtypes: float64(20), int64(7)\n",
      "memory usage: 63.4 KB\n"
     ]
    }
   ],
   "source": [
    "horses['6__respiratory_rate'].fillna(horses.groupby(['23_outcome',\n",
    "                                                     '24_surgical_lesion?'])['6__respiratory_rate'].transform('median'),\n",
    "                                     inplace=True)\n",
    "horses.info()"
   ]
  },
  {
   "cell_type": "code",
   "execution_count": 70,
   "metadata": {},
   "outputs": [
    {
     "data": {
      "text/html": [
       "<div>\n",
       "<style scoped>\n",
       "    .dataframe tbody tr th:only-of-type {\n",
       "        vertical-align: middle;\n",
       "    }\n",
       "\n",
       "    .dataframe tbody tr th {\n",
       "        vertical-align: top;\n",
       "    }\n",
       "\n",
       "    .dataframe thead th {\n",
       "        text-align: right;\n",
       "    }\n",
       "</style>\n",
       "<table border=\"1\" class=\"dataframe\">\n",
       "  <thead>\n",
       "    <tr style=\"text-align: right;\">\n",
       "      <th></th>\n",
       "      <th></th>\n",
       "      <th>7__temperature_of_extremities</th>\n",
       "    </tr>\n",
       "    <tr>\n",
       "      <th>23_outcome</th>\n",
       "      <th>24_surgical_lesion?</th>\n",
       "      <th></th>\n",
       "    </tr>\n",
       "  </thead>\n",
       "  <tbody>\n",
       "    <tr>\n",
       "      <th rowspan=\"2\" valign=\"top\">1.0</th>\n",
       "      <th>1</th>\n",
       "      <td>3.0</td>\n",
       "    </tr>\n",
       "    <tr>\n",
       "      <th>2</th>\n",
       "      <td>1.0</td>\n",
       "    </tr>\n",
       "    <tr>\n",
       "      <th rowspan=\"2\" valign=\"top\">2.0</th>\n",
       "      <th>1</th>\n",
       "      <td>3.0</td>\n",
       "    </tr>\n",
       "    <tr>\n",
       "      <th>2</th>\n",
       "      <td>3.0</td>\n",
       "    </tr>\n",
       "    <tr>\n",
       "      <th rowspan=\"2\" valign=\"top\">3.0</th>\n",
       "      <th>1</th>\n",
       "      <td>3.0</td>\n",
       "    </tr>\n",
       "    <tr>\n",
       "      <th>2</th>\n",
       "      <td>3.0</td>\n",
       "    </tr>\n",
       "  </tbody>\n",
       "</table>\n",
       "</div>"
      ],
      "text/plain": [
       "                                7__temperature_of_extremities\n",
       "23_outcome 24_surgical_lesion?                               \n",
       "1.0        1                                              3.0\n",
       "           2                                              1.0\n",
       "2.0        1                                              3.0\n",
       "           2                                              3.0\n",
       "3.0        1                                              3.0\n",
       "           2                                              3.0"
      ]
     },
     "execution_count": 70,
     "metadata": {},
     "output_type": "execute_result"
    }
   ],
   "source": [
    "# Столбец 7\n",
    "horses.groupby(['23_outcome', '24_surgical_lesion?']).agg({'7__temperature_of_extremities': lambda x: x.mode()[0]})"
   ]
  },
  {
   "cell_type": "code",
   "execution_count": 71,
   "metadata": {},
   "outputs": [
    {
     "name": "stdout",
     "output_type": "stream",
     "text": [
      "<class 'pandas.core.frame.DataFrame'>\n",
      "RangeIndex: 300 entries, 0 to 299\n",
      "Data columns (total 27 columns):\n",
      " #   Column                          Non-Null Count  Dtype  \n",
      "---  ------                          --------------  -----  \n",
      " 0   1__surgery?                     300 non-null    float64\n",
      " 1   2__Age                          300 non-null    int64  \n",
      " 2   3__Hospital_Number              300 non-null    int64  \n",
      " 3   4__rectal_temperature           300 non-null    float64\n",
      " 4   5__pulse                        300 non-null    float64\n",
      " 5   6__respiratory_rate             300 non-null    float64\n",
      " 6   7__temperature_of_extremities   300 non-null    float64\n",
      " 7   8__peripheral_pulse             231 non-null    float64\n",
      " 8   9__mucous_membranes             253 non-null    float64\n",
      " 9   10_capillary_refill_time        268 non-null    float64\n",
      " 10  11_pain                         245 non-null    float64\n",
      " 11  12_peristalsis                  256 non-null    float64\n",
      " 12  13_abdominal_distension         244 non-null    float64\n",
      " 13  14_nasogastric_tube             196 non-null    float64\n",
      " 14  15_nasogastric_reflux           194 non-null    float64\n",
      " 15  17_rectal_examination_-_feces   198 non-null    float64\n",
      " 16  18_abdomen                      182 non-null    float64\n",
      " 17  19_packed_cell_volume           271 non-null    float64\n",
      " 18  20_total_protein                267 non-null    float64\n",
      " 19  21_abdominocentesis_appearance  135 non-null    float64\n",
      " 20  22_abdomcentesis_total_protein  102 non-null    float64\n",
      " 21  23_outcome                      300 non-null    float64\n",
      " 22  24_surgical_lesion?             300 non-null    int64  \n",
      " 23  25_type_of_lesion               300 non-null    int64  \n",
      " 24  26_type_of_lesion               300 non-null    int64  \n",
      " 25  27_type_of_lesion               300 non-null    int64  \n",
      " 26  28_cp_data                      300 non-null    int64  \n",
      "dtypes: float64(20), int64(7)\n",
      "memory usage: 63.4 KB\n"
     ]
    }
   ],
   "source": [
    "# Значение моды меняется: при хорошем исходе и отсутствии необходимости в хирургическом вмешательстве температура\n",
    "# конечностей нормальная, а в остальных случаях - сниженная. Значит, проставляю моду детализированно\n",
    "horses['7__temperature_of_extremities'].fillna(horses.groupby(['23_outcome', '24_surgical_lesion?'])\n",
    "                                               ['7__temperature_of_extremities'].transform(lambda x: x.mode()[0]), inplace=True)\n",
    "horses.info()"
   ]
  },
  {
   "cell_type": "code",
   "execution_count": 72,
   "metadata": {},
   "outputs": [
    {
     "data": {
      "text/html": [
       "<div>\n",
       "<style scoped>\n",
       "    .dataframe tbody tr th:only-of-type {\n",
       "        vertical-align: middle;\n",
       "    }\n",
       "\n",
       "    .dataframe tbody tr th {\n",
       "        vertical-align: top;\n",
       "    }\n",
       "\n",
       "    .dataframe thead th {\n",
       "        text-align: right;\n",
       "    }\n",
       "</style>\n",
       "<table border=\"1\" class=\"dataframe\">\n",
       "  <thead>\n",
       "    <tr style=\"text-align: right;\">\n",
       "      <th></th>\n",
       "      <th></th>\n",
       "      <th>8__peripheral_pulse</th>\n",
       "    </tr>\n",
       "    <tr>\n",
       "      <th>23_outcome</th>\n",
       "      <th>24_surgical_lesion?</th>\n",
       "      <th></th>\n",
       "    </tr>\n",
       "  </thead>\n",
       "  <tbody>\n",
       "    <tr>\n",
       "      <th rowspan=\"2\" valign=\"top\">1.0</th>\n",
       "      <th>1</th>\n",
       "      <td>1.0</td>\n",
       "    </tr>\n",
       "    <tr>\n",
       "      <th>2</th>\n",
       "      <td>1.0</td>\n",
       "    </tr>\n",
       "    <tr>\n",
       "      <th rowspan=\"2\" valign=\"top\">2.0</th>\n",
       "      <th>1</th>\n",
       "      <td>3.0</td>\n",
       "    </tr>\n",
       "    <tr>\n",
       "      <th>2</th>\n",
       "      <td>3.0</td>\n",
       "    </tr>\n",
       "    <tr>\n",
       "      <th rowspan=\"2\" valign=\"top\">3.0</th>\n",
       "      <th>1</th>\n",
       "      <td>3.0</td>\n",
       "    </tr>\n",
       "    <tr>\n",
       "      <th>2</th>\n",
       "      <td>3.0</td>\n",
       "    </tr>\n",
       "  </tbody>\n",
       "</table>\n",
       "</div>"
      ],
      "text/plain": [
       "                                8__peripheral_pulse\n",
       "23_outcome 24_surgical_lesion?                     \n",
       "1.0        1                                    1.0\n",
       "           2                                    1.0\n",
       "2.0        1                                    3.0\n",
       "           2                                    3.0\n",
       "3.0        1                                    3.0\n",
       "           2                                    3.0"
      ]
     },
     "execution_count": 72,
     "metadata": {},
     "output_type": "execute_result"
    }
   ],
   "source": [
    "#Столбец 8\n",
    "horses.groupby(['23_outcome', '24_surgical_lesion?']).agg({'8__peripheral_pulse': lambda x: x.mode()[0]})"
   ]
  },
  {
   "cell_type": "code",
   "execution_count": 73,
   "metadata": {},
   "outputs": [
    {
     "name": "stdout",
     "output_type": "stream",
     "text": [
      "<class 'pandas.core.frame.DataFrame'>\n",
      "RangeIndex: 300 entries, 0 to 299\n",
      "Data columns (total 27 columns):\n",
      " #   Column                          Non-Null Count  Dtype  \n",
      "---  ------                          --------------  -----  \n",
      " 0   1__surgery?                     300 non-null    float64\n",
      " 1   2__Age                          300 non-null    int64  \n",
      " 2   3__Hospital_Number              300 non-null    int64  \n",
      " 3   4__rectal_temperature           300 non-null    float64\n",
      " 4   5__pulse                        300 non-null    float64\n",
      " 5   6__respiratory_rate             300 non-null    float64\n",
      " 6   7__temperature_of_extremities   300 non-null    float64\n",
      " 7   8__peripheral_pulse             300 non-null    float64\n",
      " 8   9__mucous_membranes             253 non-null    float64\n",
      " 9   10_capillary_refill_time        268 non-null    float64\n",
      " 10  11_pain                         245 non-null    float64\n",
      " 11  12_peristalsis                  256 non-null    float64\n",
      " 12  13_abdominal_distension         244 non-null    float64\n",
      " 13  14_nasogastric_tube             196 non-null    float64\n",
      " 14  15_nasogastric_reflux           194 non-null    float64\n",
      " 15  17_rectal_examination_-_feces   198 non-null    float64\n",
      " 16  18_abdomen                      182 non-null    float64\n",
      " 17  19_packed_cell_volume           271 non-null    float64\n",
      " 18  20_total_protein                267 non-null    float64\n",
      " 19  21_abdominocentesis_appearance  135 non-null    float64\n",
      " 20  22_abdomcentesis_total_protein  102 non-null    float64\n",
      " 21  23_outcome                      300 non-null    float64\n",
      " 22  24_surgical_lesion?             300 non-null    int64  \n",
      " 23  25_type_of_lesion               300 non-null    int64  \n",
      " 24  26_type_of_lesion               300 non-null    int64  \n",
      " 25  27_type_of_lesion               300 non-null    int64  \n",
      " 26  28_cp_data                      300 non-null    int64  \n",
      "dtypes: float64(20), int64(7)\n",
      "memory usage: 63.4 KB\n"
     ]
    }
   ],
   "source": [
    "horses['8__peripheral_pulse'].fillna(horses.groupby('23_outcome')\n",
    "                                               ['8__peripheral_pulse'].transform(lambda x: x.mode()[0]), inplace=True)\n",
    "horses.info()"
   ]
  },
  {
   "cell_type": "code",
   "execution_count": 74,
   "metadata": {},
   "outputs": [
    {
     "data": {
      "text/html": [
       "<div>\n",
       "<style scoped>\n",
       "    .dataframe tbody tr th:only-of-type {\n",
       "        vertical-align: middle;\n",
       "    }\n",
       "\n",
       "    .dataframe tbody tr th {\n",
       "        vertical-align: top;\n",
       "    }\n",
       "\n",
       "    .dataframe thead th {\n",
       "        text-align: right;\n",
       "    }\n",
       "</style>\n",
       "<table border=\"1\" class=\"dataframe\">\n",
       "  <thead>\n",
       "    <tr style=\"text-align: right;\">\n",
       "      <th></th>\n",
       "      <th></th>\n",
       "      <th>9__mucous_membranes</th>\n",
       "    </tr>\n",
       "    <tr>\n",
       "      <th>23_outcome</th>\n",
       "      <th>24_surgical_lesion?</th>\n",
       "      <th></th>\n",
       "    </tr>\n",
       "  </thead>\n",
       "  <tbody>\n",
       "    <tr>\n",
       "      <th rowspan=\"2\" valign=\"top\">1.0</th>\n",
       "      <th>1</th>\n",
       "      <td>1.0</td>\n",
       "    </tr>\n",
       "    <tr>\n",
       "      <th>2</th>\n",
       "      <td>1.0</td>\n",
       "    </tr>\n",
       "    <tr>\n",
       "      <th rowspan=\"2\" valign=\"top\">2.0</th>\n",
       "      <th>1</th>\n",
       "      <td>3.0</td>\n",
       "    </tr>\n",
       "    <tr>\n",
       "      <th>2</th>\n",
       "      <td>5.0</td>\n",
       "    </tr>\n",
       "    <tr>\n",
       "      <th rowspan=\"2\" valign=\"top\">3.0</th>\n",
       "      <th>1</th>\n",
       "      <td>4.0</td>\n",
       "    </tr>\n",
       "    <tr>\n",
       "      <th>2</th>\n",
       "      <td>5.0</td>\n",
       "    </tr>\n",
       "  </tbody>\n",
       "</table>\n",
       "</div>"
      ],
      "text/plain": [
       "                                9__mucous_membranes\n",
       "23_outcome 24_surgical_lesion?                     \n",
       "1.0        1                                    1.0\n",
       "           2                                    1.0\n",
       "2.0        1                                    3.0\n",
       "           2                                    5.0\n",
       "3.0        1                                    4.0\n",
       "           2                                    5.0"
      ]
     },
     "execution_count": 74,
     "metadata": {},
     "output_type": "execute_result"
    }
   ],
   "source": [
    "# Столбец 9\n",
    "horses.groupby(['23_outcome', '24_surgical_lesion?']).agg({'9__mucous_membranes': lambda x: x.mode()[0]})"
   ]
  },
  {
   "cell_type": "code",
   "execution_count": 75,
   "metadata": {},
   "outputs": [
    {
     "name": "stdout",
     "output_type": "stream",
     "text": [
      "<class 'pandas.core.frame.DataFrame'>\n",
      "RangeIndex: 300 entries, 0 to 299\n",
      "Data columns (total 27 columns):\n",
      " #   Column                          Non-Null Count  Dtype  \n",
      "---  ------                          --------------  -----  \n",
      " 0   1__surgery?                     300 non-null    float64\n",
      " 1   2__Age                          300 non-null    int64  \n",
      " 2   3__Hospital_Number              300 non-null    int64  \n",
      " 3   4__rectal_temperature           300 non-null    float64\n",
      " 4   5__pulse                        300 non-null    float64\n",
      " 5   6__respiratory_rate             300 non-null    float64\n",
      " 6   7__temperature_of_extremities   300 non-null    float64\n",
      " 7   8__peripheral_pulse             300 non-null    float64\n",
      " 8   9__mucous_membranes             300 non-null    float64\n",
      " 9   10_capillary_refill_time        268 non-null    float64\n",
      " 10  11_pain                         245 non-null    float64\n",
      " 11  12_peristalsis                  256 non-null    float64\n",
      " 12  13_abdominal_distension         244 non-null    float64\n",
      " 13  14_nasogastric_tube             196 non-null    float64\n",
      " 14  15_nasogastric_reflux           194 non-null    float64\n",
      " 15  17_rectal_examination_-_feces   198 non-null    float64\n",
      " 16  18_abdomen                      182 non-null    float64\n",
      " 17  19_packed_cell_volume           271 non-null    float64\n",
      " 18  20_total_protein                267 non-null    float64\n",
      " 19  21_abdominocentesis_appearance  135 non-null    float64\n",
      " 20  22_abdomcentesis_total_protein  102 non-null    float64\n",
      " 21  23_outcome                      300 non-null    float64\n",
      " 22  24_surgical_lesion?             300 non-null    int64  \n",
      " 23  25_type_of_lesion               300 non-null    int64  \n",
      " 24  26_type_of_lesion               300 non-null    int64  \n",
      " 25  27_type_of_lesion               300 non-null    int64  \n",
      " 26  28_cp_data                      300 non-null    int64  \n",
      "dtypes: float64(20), int64(7)\n",
      "memory usage: 63.4 KB\n"
     ]
    }
   ],
   "source": [
    "horses['9__mucous_membranes'].fillna(horses.groupby(['23_outcome', '24_surgical_lesion?'])\n",
    "                                               ['9__mucous_membranes'].transform(lambda x: x.mode()[0]), inplace=True)\n",
    "horses.info()"
   ]
  },
  {
   "cell_type": "code",
   "execution_count": 76,
   "metadata": {},
   "outputs": [
    {
     "data": {
      "text/html": [
       "<div>\n",
       "<style scoped>\n",
       "    .dataframe tbody tr th:only-of-type {\n",
       "        vertical-align: middle;\n",
       "    }\n",
       "\n",
       "    .dataframe tbody tr th {\n",
       "        vertical-align: top;\n",
       "    }\n",
       "\n",
       "    .dataframe thead th {\n",
       "        text-align: right;\n",
       "    }\n",
       "</style>\n",
       "<table border=\"1\" class=\"dataframe\">\n",
       "  <thead>\n",
       "    <tr style=\"text-align: right;\">\n",
       "      <th></th>\n",
       "      <th></th>\n",
       "      <th>10_capillary_refill_time</th>\n",
       "    </tr>\n",
       "    <tr>\n",
       "      <th>23_outcome</th>\n",
       "      <th>24_surgical_lesion?</th>\n",
       "      <th></th>\n",
       "    </tr>\n",
       "  </thead>\n",
       "  <tbody>\n",
       "    <tr>\n",
       "      <th rowspan=\"2\" valign=\"top\">1.0</th>\n",
       "      <th>1</th>\n",
       "      <td>1.0</td>\n",
       "    </tr>\n",
       "    <tr>\n",
       "      <th>2</th>\n",
       "      <td>1.0</td>\n",
       "    </tr>\n",
       "    <tr>\n",
       "      <th rowspan=\"2\" valign=\"top\">2.0</th>\n",
       "      <th>1</th>\n",
       "      <td>1.0</td>\n",
       "    </tr>\n",
       "    <tr>\n",
       "      <th>2</th>\n",
       "      <td>2.0</td>\n",
       "    </tr>\n",
       "    <tr>\n",
       "      <th rowspan=\"2\" valign=\"top\">3.0</th>\n",
       "      <th>1</th>\n",
       "      <td>2.0</td>\n",
       "    </tr>\n",
       "    <tr>\n",
       "      <th>2</th>\n",
       "      <td>1.0</td>\n",
       "    </tr>\n",
       "  </tbody>\n",
       "</table>\n",
       "</div>"
      ],
      "text/plain": [
       "                                10_capillary_refill_time\n",
       "23_outcome 24_surgical_lesion?                          \n",
       "1.0        1                                         1.0\n",
       "           2                                         1.0\n",
       "2.0        1                                         1.0\n",
       "           2                                         2.0\n",
       "3.0        1                                         2.0\n",
       "           2                                         1.0"
      ]
     },
     "execution_count": 76,
     "metadata": {},
     "output_type": "execute_result"
    }
   ],
   "source": [
    "# Столбец 10\n",
    "horses.groupby(['23_outcome', '24_surgical_lesion?']).agg({'10_capillary_refill_time': lambda x: x.mode()[0]})"
   ]
  },
  {
   "cell_type": "code",
   "execution_count": 77,
   "metadata": {},
   "outputs": [
    {
     "data": {
      "text/plain": [
       "10_capillary_refill_time\n",
       "1.0    188\n",
       "2.0     78\n",
       "3.0      2\n",
       "Name: 3__Hospital_Number, dtype: int64"
      ]
     },
     "execution_count": 77,
     "metadata": {},
     "output_type": "execute_result"
    }
   ],
   "source": [
    "horses.groupby('10_capillary_refill_time').count()['3__Hospital_Number']"
   ]
  },
  {
   "cell_type": "code",
   "execution_count": 78,
   "metadata": {},
   "outputs": [
    {
     "data": {
      "text/plain": [
       "10_capillary_refill_time\n",
       "1.0    188\n",
       "2.0     80\n",
       "Name: 3__Hospital_Number, dtype: int64"
      ]
     },
     "execution_count": 78,
     "metadata": {},
     "output_type": "execute_result"
    }
   ],
   "source": [
    "# Есть ощущение, что тройки - это человеческая ошибка (тройка как 3 секунды).\n",
    "# Поэтому я меняю их не на самое популярное значение, а на 2\n",
    "\n",
    "horses['10_capillary_refill_time'].replace(3, 2, inplace=True)\n",
    "horses.groupby('10_capillary_refill_time').count()['3__Hospital_Number']"
   ]
  },
  {
   "cell_type": "code",
   "execution_count": 79,
   "metadata": {},
   "outputs": [
    {
     "name": "stdout",
     "output_type": "stream",
     "text": [
      "<class 'pandas.core.frame.DataFrame'>\n",
      "RangeIndex: 300 entries, 0 to 299\n",
      "Data columns (total 27 columns):\n",
      " #   Column                          Non-Null Count  Dtype  \n",
      "---  ------                          --------------  -----  \n",
      " 0   1__surgery?                     300 non-null    float64\n",
      " 1   2__Age                          300 non-null    int64  \n",
      " 2   3__Hospital_Number              300 non-null    int64  \n",
      " 3   4__rectal_temperature           300 non-null    float64\n",
      " 4   5__pulse                        300 non-null    float64\n",
      " 5   6__respiratory_rate             300 non-null    float64\n",
      " 6   7__temperature_of_extremities   300 non-null    float64\n",
      " 7   8__peripheral_pulse             300 non-null    float64\n",
      " 8   9__mucous_membranes             300 non-null    float64\n",
      " 9   10_capillary_refill_time        300 non-null    float64\n",
      " 10  11_pain                         245 non-null    float64\n",
      " 11  12_peristalsis                  256 non-null    float64\n",
      " 12  13_abdominal_distension         244 non-null    float64\n",
      " 13  14_nasogastric_tube             196 non-null    float64\n",
      " 14  15_nasogastric_reflux           194 non-null    float64\n",
      " 15  17_rectal_examination_-_feces   198 non-null    float64\n",
      " 16  18_abdomen                      182 non-null    float64\n",
      " 17  19_packed_cell_volume           271 non-null    float64\n",
      " 18  20_total_protein                267 non-null    float64\n",
      " 19  21_abdominocentesis_appearance  135 non-null    float64\n",
      " 20  22_abdomcentesis_total_protein  102 non-null    float64\n",
      " 21  23_outcome                      300 non-null    float64\n",
      " 22  24_surgical_lesion?             300 non-null    int64  \n",
      " 23  25_type_of_lesion               300 non-null    int64  \n",
      " 24  26_type_of_lesion               300 non-null    int64  \n",
      " 25  27_type_of_lesion               300 non-null    int64  \n",
      " 26  28_cp_data                      300 non-null    int64  \n",
      "dtypes: float64(20), int64(7)\n",
      "memory usage: 63.4 KB\n"
     ]
    }
   ],
   "source": [
    "# Пропуски заполняю модой в разрезе двух столбцов.\n",
    "horses['10_capillary_refill_time'].fillna(horses.groupby(['23_outcome', '24_surgical_lesion?'])\n",
    "                                               ['10_capillary_refill_time'].transform(lambda x: x.mode()[0]), inplace=True)\n",
    "horses.info()"
   ]
  },
  {
   "cell_type": "code",
   "execution_count": 80,
   "metadata": {},
   "outputs": [
    {
     "data": {
      "text/html": [
       "<div>\n",
       "<style scoped>\n",
       "    .dataframe tbody tr th:only-of-type {\n",
       "        vertical-align: middle;\n",
       "    }\n",
       "\n",
       "    .dataframe tbody tr th {\n",
       "        vertical-align: top;\n",
       "    }\n",
       "\n",
       "    .dataframe thead th {\n",
       "        text-align: right;\n",
       "    }\n",
       "</style>\n",
       "<table border=\"1\" class=\"dataframe\">\n",
       "  <thead>\n",
       "    <tr style=\"text-align: right;\">\n",
       "      <th></th>\n",
       "      <th></th>\n",
       "      <th>11_pain</th>\n",
       "    </tr>\n",
       "    <tr>\n",
       "      <th>23_outcome</th>\n",
       "      <th>24_surgical_lesion?</th>\n",
       "      <th></th>\n",
       "    </tr>\n",
       "  </thead>\n",
       "  <tbody>\n",
       "    <tr>\n",
       "      <th rowspan=\"2\" valign=\"top\">1.0</th>\n",
       "      <th>1</th>\n",
       "      <td>3.0</td>\n",
       "    </tr>\n",
       "    <tr>\n",
       "      <th>2</th>\n",
       "      <td>1.0</td>\n",
       "    </tr>\n",
       "    <tr>\n",
       "      <th rowspan=\"2\" valign=\"top\">2.0</th>\n",
       "      <th>1</th>\n",
       "      <td>5.0</td>\n",
       "    </tr>\n",
       "    <tr>\n",
       "      <th>2</th>\n",
       "      <td>4.0</td>\n",
       "    </tr>\n",
       "    <tr>\n",
       "      <th rowspan=\"2\" valign=\"top\">3.0</th>\n",
       "      <th>1</th>\n",
       "      <td>4.0</td>\n",
       "    </tr>\n",
       "    <tr>\n",
       "      <th>2</th>\n",
       "      <td>2.0</td>\n",
       "    </tr>\n",
       "  </tbody>\n",
       "</table>\n",
       "</div>"
      ],
      "text/plain": [
       "                                11_pain\n",
       "23_outcome 24_surgical_lesion?         \n",
       "1.0        1                        3.0\n",
       "           2                        1.0\n",
       "2.0        1                        5.0\n",
       "           2                        4.0\n",
       "3.0        1                        4.0\n",
       "           2                        2.0"
      ]
     },
     "execution_count": 80,
     "metadata": {},
     "output_type": "execute_result"
    }
   ],
   "source": [
    "# Столбец 11\n",
    "horses.groupby(['23_outcome', '24_surgical_lesion?']).agg({'11_pain': lambda x: x.mode()[0]})"
   ]
  },
  {
   "cell_type": "code",
   "execution_count": 81,
   "metadata": {},
   "outputs": [
    {
     "name": "stdout",
     "output_type": "stream",
     "text": [
      "<class 'pandas.core.frame.DataFrame'>\n",
      "RangeIndex: 300 entries, 0 to 299\n",
      "Data columns (total 27 columns):\n",
      " #   Column                          Non-Null Count  Dtype  \n",
      "---  ------                          --------------  -----  \n",
      " 0   1__surgery?                     300 non-null    float64\n",
      " 1   2__Age                          300 non-null    int64  \n",
      " 2   3__Hospital_Number              300 non-null    int64  \n",
      " 3   4__rectal_temperature           300 non-null    float64\n",
      " 4   5__pulse                        300 non-null    float64\n",
      " 5   6__respiratory_rate             300 non-null    float64\n",
      " 6   7__temperature_of_extremities   300 non-null    float64\n",
      " 7   8__peripheral_pulse             300 non-null    float64\n",
      " 8   9__mucous_membranes             300 non-null    float64\n",
      " 9   10_capillary_refill_time        300 non-null    float64\n",
      " 10  11_pain                         300 non-null    float64\n",
      " 11  12_peristalsis                  256 non-null    float64\n",
      " 12  13_abdominal_distension         244 non-null    float64\n",
      " 13  14_nasogastric_tube             196 non-null    float64\n",
      " 14  15_nasogastric_reflux           194 non-null    float64\n",
      " 15  17_rectal_examination_-_feces   198 non-null    float64\n",
      " 16  18_abdomen                      182 non-null    float64\n",
      " 17  19_packed_cell_volume           271 non-null    float64\n",
      " 18  20_total_protein                267 non-null    float64\n",
      " 19  21_abdominocentesis_appearance  135 non-null    float64\n",
      " 20  22_abdomcentesis_total_protein  102 non-null    float64\n",
      " 21  23_outcome                      300 non-null    float64\n",
      " 22  24_surgical_lesion?             300 non-null    int64  \n",
      " 23  25_type_of_lesion               300 non-null    int64  \n",
      " 24  26_type_of_lesion               300 non-null    int64  \n",
      " 25  27_type_of_lesion               300 non-null    int64  \n",
      " 26  28_cp_data                      300 non-null    int64  \n",
      "dtypes: float64(20), int64(7)\n",
      "memory usage: 63.4 KB\n"
     ]
    }
   ],
   "source": [
    "horses['11_pain'].fillna(horses.groupby(['23_outcome', '24_surgical_lesion?'])\n",
    "                                               ['11_pain'].transform(lambda x: x.mode()[0]), inplace=True)\n",
    "horses.info()"
   ]
  },
  {
   "cell_type": "code",
   "execution_count": 82,
   "metadata": {},
   "outputs": [
    {
     "data": {
      "text/html": [
       "<div>\n",
       "<style scoped>\n",
       "    .dataframe tbody tr th:only-of-type {\n",
       "        vertical-align: middle;\n",
       "    }\n",
       "\n",
       "    .dataframe tbody tr th {\n",
       "        vertical-align: top;\n",
       "    }\n",
       "\n",
       "    .dataframe thead th {\n",
       "        text-align: right;\n",
       "    }\n",
       "</style>\n",
       "<table border=\"1\" class=\"dataframe\">\n",
       "  <thead>\n",
       "    <tr style=\"text-align: right;\">\n",
       "      <th></th>\n",
       "      <th></th>\n",
       "      <th>12_peristalsis</th>\n",
       "    </tr>\n",
       "    <tr>\n",
       "      <th>23_outcome</th>\n",
       "      <th>24_surgical_lesion?</th>\n",
       "      <th></th>\n",
       "    </tr>\n",
       "  </thead>\n",
       "  <tbody>\n",
       "    <tr>\n",
       "      <th rowspan=\"2\" valign=\"top\">1.0</th>\n",
       "      <th>1</th>\n",
       "      <td>3.0</td>\n",
       "    </tr>\n",
       "    <tr>\n",
       "      <th>2</th>\n",
       "      <td>3.0</td>\n",
       "    </tr>\n",
       "    <tr>\n",
       "      <th rowspan=\"2\" valign=\"top\">2.0</th>\n",
       "      <th>1</th>\n",
       "      <td>3.0</td>\n",
       "    </tr>\n",
       "    <tr>\n",
       "      <th>2</th>\n",
       "      <td>4.0</td>\n",
       "    </tr>\n",
       "    <tr>\n",
       "      <th rowspan=\"2\" valign=\"top\">3.0</th>\n",
       "      <th>1</th>\n",
       "      <td>4.0</td>\n",
       "    </tr>\n",
       "    <tr>\n",
       "      <th>2</th>\n",
       "      <td>3.0</td>\n",
       "    </tr>\n",
       "  </tbody>\n",
       "</table>\n",
       "</div>"
      ],
      "text/plain": [
       "                                12_peristalsis\n",
       "23_outcome 24_surgical_lesion?                \n",
       "1.0        1                               3.0\n",
       "           2                               3.0\n",
       "2.0        1                               3.0\n",
       "           2                               4.0\n",
       "3.0        1                               4.0\n",
       "           2                               3.0"
      ]
     },
     "execution_count": 82,
     "metadata": {},
     "output_type": "execute_result"
    }
   ],
   "source": [
    "# Столбец 12\n",
    "horses.groupby(['23_outcome', '24_surgical_lesion?']).agg({'12_peristalsis': lambda x: x.mode()[0]})"
   ]
  },
  {
   "cell_type": "code",
   "execution_count": 83,
   "metadata": {},
   "outputs": [
    {
     "name": "stdout",
     "output_type": "stream",
     "text": [
      "<class 'pandas.core.frame.DataFrame'>\n",
      "RangeIndex: 300 entries, 0 to 299\n",
      "Data columns (total 27 columns):\n",
      " #   Column                          Non-Null Count  Dtype  \n",
      "---  ------                          --------------  -----  \n",
      " 0   1__surgery?                     300 non-null    float64\n",
      " 1   2__Age                          300 non-null    int64  \n",
      " 2   3__Hospital_Number              300 non-null    int64  \n",
      " 3   4__rectal_temperature           300 non-null    float64\n",
      " 4   5__pulse                        300 non-null    float64\n",
      " 5   6__respiratory_rate             300 non-null    float64\n",
      " 6   7__temperature_of_extremities   300 non-null    float64\n",
      " 7   8__peripheral_pulse             300 non-null    float64\n",
      " 8   9__mucous_membranes             300 non-null    float64\n",
      " 9   10_capillary_refill_time        300 non-null    float64\n",
      " 10  11_pain                         300 non-null    float64\n",
      " 11  12_peristalsis                  300 non-null    float64\n",
      " 12  13_abdominal_distension         244 non-null    float64\n",
      " 13  14_nasogastric_tube             196 non-null    float64\n",
      " 14  15_nasogastric_reflux           194 non-null    float64\n",
      " 15  17_rectal_examination_-_feces   198 non-null    float64\n",
      " 16  18_abdomen                      182 non-null    float64\n",
      " 17  19_packed_cell_volume           271 non-null    float64\n",
      " 18  20_total_protein                267 non-null    float64\n",
      " 19  21_abdominocentesis_appearance  135 non-null    float64\n",
      " 20  22_abdomcentesis_total_protein  102 non-null    float64\n",
      " 21  23_outcome                      300 non-null    float64\n",
      " 22  24_surgical_lesion?             300 non-null    int64  \n",
      " 23  25_type_of_lesion               300 non-null    int64  \n",
      " 24  26_type_of_lesion               300 non-null    int64  \n",
      " 25  27_type_of_lesion               300 non-null    int64  \n",
      " 26  28_cp_data                      300 non-null    int64  \n",
      "dtypes: float64(20), int64(7)\n",
      "memory usage: 63.4 KB\n"
     ]
    }
   ],
   "source": [
    "horses['12_peristalsis'].fillna(horses.groupby(['23_outcome', '24_surgical_lesion?'])\n",
    "                                               ['12_peristalsis'].transform(lambda x: x.mode()[0]), inplace=True)\n",
    "horses.info()"
   ]
  },
  {
   "cell_type": "code",
   "execution_count": 84,
   "metadata": {},
   "outputs": [
    {
     "data": {
      "text/html": [
       "<div>\n",
       "<style scoped>\n",
       "    .dataframe tbody tr th:only-of-type {\n",
       "        vertical-align: middle;\n",
       "    }\n",
       "\n",
       "    .dataframe tbody tr th {\n",
       "        vertical-align: top;\n",
       "    }\n",
       "\n",
       "    .dataframe thead th {\n",
       "        text-align: right;\n",
       "    }\n",
       "</style>\n",
       "<table border=\"1\" class=\"dataframe\">\n",
       "  <thead>\n",
       "    <tr style=\"text-align: right;\">\n",
       "      <th></th>\n",
       "      <th></th>\n",
       "      <th>13_abdominal_distension</th>\n",
       "    </tr>\n",
       "    <tr>\n",
       "      <th>23_outcome</th>\n",
       "      <th>24_surgical_lesion?</th>\n",
       "      <th></th>\n",
       "    </tr>\n",
       "  </thead>\n",
       "  <tbody>\n",
       "    <tr>\n",
       "      <th rowspan=\"2\" valign=\"top\">1.0</th>\n",
       "      <th>1</th>\n",
       "      <td>1.0</td>\n",
       "    </tr>\n",
       "    <tr>\n",
       "      <th>2</th>\n",
       "      <td>1.0</td>\n",
       "    </tr>\n",
       "    <tr>\n",
       "      <th rowspan=\"2\" valign=\"top\">2.0</th>\n",
       "      <th>1</th>\n",
       "      <td>3.0</td>\n",
       "    </tr>\n",
       "    <tr>\n",
       "      <th>2</th>\n",
       "      <td>2.0</td>\n",
       "    </tr>\n",
       "    <tr>\n",
       "      <th rowspan=\"2\" valign=\"top\">3.0</th>\n",
       "      <th>1</th>\n",
       "      <td>3.0</td>\n",
       "    </tr>\n",
       "    <tr>\n",
       "      <th>2</th>\n",
       "      <td>4.0</td>\n",
       "    </tr>\n",
       "  </tbody>\n",
       "</table>\n",
       "</div>"
      ],
      "text/plain": [
       "                                13_abdominal_distension\n",
       "23_outcome 24_surgical_lesion?                         \n",
       "1.0        1                                        1.0\n",
       "           2                                        1.0\n",
       "2.0        1                                        3.0\n",
       "           2                                        2.0\n",
       "3.0        1                                        3.0\n",
       "           2                                        4.0"
      ]
     },
     "execution_count": 84,
     "metadata": {},
     "output_type": "execute_result"
    }
   ],
   "source": [
    "# Столбец 13\n",
    "horses.groupby(['23_outcome', '24_surgical_lesion?']).agg({'13_abdominal_distension': lambda x: x.mode()[0]})"
   ]
  },
  {
   "cell_type": "code",
   "execution_count": 85,
   "metadata": {},
   "outputs": [
    {
     "name": "stdout",
     "output_type": "stream",
     "text": [
      "<class 'pandas.core.frame.DataFrame'>\n",
      "RangeIndex: 300 entries, 0 to 299\n",
      "Data columns (total 27 columns):\n",
      " #   Column                          Non-Null Count  Dtype  \n",
      "---  ------                          --------------  -----  \n",
      " 0   1__surgery?                     300 non-null    float64\n",
      " 1   2__Age                          300 non-null    int64  \n",
      " 2   3__Hospital_Number              300 non-null    int64  \n",
      " 3   4__rectal_temperature           300 non-null    float64\n",
      " 4   5__pulse                        300 non-null    float64\n",
      " 5   6__respiratory_rate             300 non-null    float64\n",
      " 6   7__temperature_of_extremities   300 non-null    float64\n",
      " 7   8__peripheral_pulse             300 non-null    float64\n",
      " 8   9__mucous_membranes             300 non-null    float64\n",
      " 9   10_capillary_refill_time        300 non-null    float64\n",
      " 10  11_pain                         300 non-null    float64\n",
      " 11  12_peristalsis                  300 non-null    float64\n",
      " 12  13_abdominal_distension         300 non-null    float64\n",
      " 13  14_nasogastric_tube             196 non-null    float64\n",
      " 14  15_nasogastric_reflux           194 non-null    float64\n",
      " 15  17_rectal_examination_-_feces   198 non-null    float64\n",
      " 16  18_abdomen                      182 non-null    float64\n",
      " 17  19_packed_cell_volume           271 non-null    float64\n",
      " 18  20_total_protein                267 non-null    float64\n",
      " 19  21_abdominocentesis_appearance  135 non-null    float64\n",
      " 20  22_abdomcentesis_total_protein  102 non-null    float64\n",
      " 21  23_outcome                      300 non-null    float64\n",
      " 22  24_surgical_lesion?             300 non-null    int64  \n",
      " 23  25_type_of_lesion               300 non-null    int64  \n",
      " 24  26_type_of_lesion               300 non-null    int64  \n",
      " 25  27_type_of_lesion               300 non-null    int64  \n",
      " 26  28_cp_data                      300 non-null    int64  \n",
      "dtypes: float64(20), int64(7)\n",
      "memory usage: 63.4 KB\n"
     ]
    }
   ],
   "source": [
    "horses['13_abdominal_distension'].fillna(horses.groupby(['23_outcome', '24_surgical_lesion?'])\n",
    "                                               ['13_abdominal_distension'].transform(lambda x: x.mode()[0]), inplace=True)\n",
    "horses.info()"
   ]
  },
  {
   "cell_type": "code",
   "execution_count": 86,
   "metadata": {},
   "outputs": [
    {
     "data": {
      "text/html": [
       "<div>\n",
       "<style scoped>\n",
       "    .dataframe tbody tr th:only-of-type {\n",
       "        vertical-align: middle;\n",
       "    }\n",
       "\n",
       "    .dataframe tbody tr th {\n",
       "        vertical-align: top;\n",
       "    }\n",
       "\n",
       "    .dataframe thead th {\n",
       "        text-align: right;\n",
       "    }\n",
       "</style>\n",
       "<table border=\"1\" class=\"dataframe\">\n",
       "  <thead>\n",
       "    <tr style=\"text-align: right;\">\n",
       "      <th></th>\n",
       "      <th></th>\n",
       "      <th>14_nasogastric_tube</th>\n",
       "    </tr>\n",
       "    <tr>\n",
       "      <th>23_outcome</th>\n",
       "      <th>24_surgical_lesion?</th>\n",
       "      <th></th>\n",
       "    </tr>\n",
       "  </thead>\n",
       "  <tbody>\n",
       "    <tr>\n",
       "      <th rowspan=\"2\" valign=\"top\">1.0</th>\n",
       "      <th>1</th>\n",
       "      <td>2.0</td>\n",
       "    </tr>\n",
       "    <tr>\n",
       "      <th>2</th>\n",
       "      <td>2.0</td>\n",
       "    </tr>\n",
       "    <tr>\n",
       "      <th rowspan=\"2\" valign=\"top\">2.0</th>\n",
       "      <th>1</th>\n",
       "      <td>2.0</td>\n",
       "    </tr>\n",
       "    <tr>\n",
       "      <th>2</th>\n",
       "      <td>3.0</td>\n",
       "    </tr>\n",
       "    <tr>\n",
       "      <th rowspan=\"2\" valign=\"top\">3.0</th>\n",
       "      <th>1</th>\n",
       "      <td>2.0</td>\n",
       "    </tr>\n",
       "    <tr>\n",
       "      <th>2</th>\n",
       "      <td>2.0</td>\n",
       "    </tr>\n",
       "  </tbody>\n",
       "</table>\n",
       "</div>"
      ],
      "text/plain": [
       "                                14_nasogastric_tube\n",
       "23_outcome 24_surgical_lesion?                     \n",
       "1.0        1                                    2.0\n",
       "           2                                    2.0\n",
       "2.0        1                                    2.0\n",
       "           2                                    3.0\n",
       "3.0        1                                    2.0\n",
       "           2                                    2.0"
      ]
     },
     "execution_count": 86,
     "metadata": {},
     "output_type": "execute_result"
    }
   ],
   "source": [
    "# Столбец 14\n",
    "horses.groupby(['23_outcome', '24_surgical_lesion?']).agg({'14_nasogastric_tube': lambda x: x.mode()[0]})"
   ]
  },
  {
   "cell_type": "code",
   "execution_count": 87,
   "metadata": {},
   "outputs": [
    {
     "name": "stdout",
     "output_type": "stream",
     "text": [
      "<class 'pandas.core.frame.DataFrame'>\n",
      "RangeIndex: 300 entries, 0 to 299\n",
      "Data columns (total 27 columns):\n",
      " #   Column                          Non-Null Count  Dtype  \n",
      "---  ------                          --------------  -----  \n",
      " 0   1__surgery?                     300 non-null    float64\n",
      " 1   2__Age                          300 non-null    int64  \n",
      " 2   3__Hospital_Number              300 non-null    int64  \n",
      " 3   4__rectal_temperature           300 non-null    float64\n",
      " 4   5__pulse                        300 non-null    float64\n",
      " 5   6__respiratory_rate             300 non-null    float64\n",
      " 6   7__temperature_of_extremities   300 non-null    float64\n",
      " 7   8__peripheral_pulse             300 non-null    float64\n",
      " 8   9__mucous_membranes             300 non-null    float64\n",
      " 9   10_capillary_refill_time        300 non-null    float64\n",
      " 10  11_pain                         300 non-null    float64\n",
      " 11  12_peristalsis                  300 non-null    float64\n",
      " 12  13_abdominal_distension         300 non-null    float64\n",
      " 13  14_nasogastric_tube             300 non-null    float64\n",
      " 14  15_nasogastric_reflux           194 non-null    float64\n",
      " 15  17_rectal_examination_-_feces   198 non-null    float64\n",
      " 16  18_abdomen                      182 non-null    float64\n",
      " 17  19_packed_cell_volume           271 non-null    float64\n",
      " 18  20_total_protein                267 non-null    float64\n",
      " 19  21_abdominocentesis_appearance  135 non-null    float64\n",
      " 20  22_abdomcentesis_total_protein  102 non-null    float64\n",
      " 21  23_outcome                      300 non-null    float64\n",
      " 22  24_surgical_lesion?             300 non-null    int64  \n",
      " 23  25_type_of_lesion               300 non-null    int64  \n",
      " 24  26_type_of_lesion               300 non-null    int64  \n",
      " 25  27_type_of_lesion               300 non-null    int64  \n",
      " 26  28_cp_data                      300 non-null    int64  \n",
      "dtypes: float64(20), int64(7)\n",
      "memory usage: 63.4 KB\n"
     ]
    }
   ],
   "source": [
    "horses['14_nasogastric_tube'].fillna(horses.groupby(['23_outcome', '24_surgical_lesion?'])\n",
    "                                               ['14_nasogastric_tube'].transform(lambda x: x.mode()[0]), inplace=True)\n",
    "horses.info()"
   ]
  },
  {
   "cell_type": "code",
   "execution_count": 88,
   "metadata": {},
   "outputs": [
    {
     "data": {
      "text/html": [
       "<div>\n",
       "<style scoped>\n",
       "    .dataframe tbody tr th:only-of-type {\n",
       "        vertical-align: middle;\n",
       "    }\n",
       "\n",
       "    .dataframe tbody tr th {\n",
       "        vertical-align: top;\n",
       "    }\n",
       "\n",
       "    .dataframe thead th {\n",
       "        text-align: right;\n",
       "    }\n",
       "</style>\n",
       "<table border=\"1\" class=\"dataframe\">\n",
       "  <thead>\n",
       "    <tr style=\"text-align: right;\">\n",
       "      <th></th>\n",
       "      <th></th>\n",
       "      <th>15_nasogastric_reflux</th>\n",
       "    </tr>\n",
       "    <tr>\n",
       "      <th>23_outcome</th>\n",
       "      <th>24_surgical_lesion?</th>\n",
       "      <th></th>\n",
       "    </tr>\n",
       "  </thead>\n",
       "  <tbody>\n",
       "    <tr>\n",
       "      <th rowspan=\"2\" valign=\"top\">1.0</th>\n",
       "      <th>1</th>\n",
       "      <td>1.0</td>\n",
       "    </tr>\n",
       "    <tr>\n",
       "      <th>2</th>\n",
       "      <td>1.0</td>\n",
       "    </tr>\n",
       "    <tr>\n",
       "      <th rowspan=\"2\" valign=\"top\">2.0</th>\n",
       "      <th>1</th>\n",
       "      <td>1.0</td>\n",
       "    </tr>\n",
       "    <tr>\n",
       "      <th>2</th>\n",
       "      <td>2.0</td>\n",
       "    </tr>\n",
       "    <tr>\n",
       "      <th rowspan=\"2\" valign=\"top\">3.0</th>\n",
       "      <th>1</th>\n",
       "      <td>1.0</td>\n",
       "    </tr>\n",
       "    <tr>\n",
       "      <th>2</th>\n",
       "      <td>1.0</td>\n",
       "    </tr>\n",
       "  </tbody>\n",
       "</table>\n",
       "</div>"
      ],
      "text/plain": [
       "                                15_nasogastric_reflux\n",
       "23_outcome 24_surgical_lesion?                       \n",
       "1.0        1                                      1.0\n",
       "           2                                      1.0\n",
       "2.0        1                                      1.0\n",
       "           2                                      2.0\n",
       "3.0        1                                      1.0\n",
       "           2                                      1.0"
      ]
     },
     "execution_count": 88,
     "metadata": {},
     "output_type": "execute_result"
    }
   ],
   "source": [
    "# Столбец 15\n",
    "horses.groupby(['23_outcome', '24_surgical_lesion?']).agg({'15_nasogastric_reflux': lambda x: x.mode()[0]})"
   ]
  },
  {
   "cell_type": "code",
   "execution_count": 89,
   "metadata": {},
   "outputs": [
    {
     "name": "stdout",
     "output_type": "stream",
     "text": [
      "<class 'pandas.core.frame.DataFrame'>\n",
      "RangeIndex: 300 entries, 0 to 299\n",
      "Data columns (total 27 columns):\n",
      " #   Column                          Non-Null Count  Dtype  \n",
      "---  ------                          --------------  -----  \n",
      " 0   1__surgery?                     300 non-null    float64\n",
      " 1   2__Age                          300 non-null    int64  \n",
      " 2   3__Hospital_Number              300 non-null    int64  \n",
      " 3   4__rectal_temperature           300 non-null    float64\n",
      " 4   5__pulse                        300 non-null    float64\n",
      " 5   6__respiratory_rate             300 non-null    float64\n",
      " 6   7__temperature_of_extremities   300 non-null    float64\n",
      " 7   8__peripheral_pulse             300 non-null    float64\n",
      " 8   9__mucous_membranes             300 non-null    float64\n",
      " 9   10_capillary_refill_time        300 non-null    float64\n",
      " 10  11_pain                         300 non-null    float64\n",
      " 11  12_peristalsis                  300 non-null    float64\n",
      " 12  13_abdominal_distension         300 non-null    float64\n",
      " 13  14_nasogastric_tube             300 non-null    float64\n",
      " 14  15_nasogastric_reflux           300 non-null    float64\n",
      " 15  17_rectal_examination_-_feces   198 non-null    float64\n",
      " 16  18_abdomen                      182 non-null    float64\n",
      " 17  19_packed_cell_volume           271 non-null    float64\n",
      " 18  20_total_protein                267 non-null    float64\n",
      " 19  21_abdominocentesis_appearance  135 non-null    float64\n",
      " 20  22_abdomcentesis_total_protein  102 non-null    float64\n",
      " 21  23_outcome                      300 non-null    float64\n",
      " 22  24_surgical_lesion?             300 non-null    int64  \n",
      " 23  25_type_of_lesion               300 non-null    int64  \n",
      " 24  26_type_of_lesion               300 non-null    int64  \n",
      " 25  27_type_of_lesion               300 non-null    int64  \n",
      " 26  28_cp_data                      300 non-null    int64  \n",
      "dtypes: float64(20), int64(7)\n",
      "memory usage: 63.4 KB\n"
     ]
    }
   ],
   "source": [
    "horses['15_nasogastric_reflux'].fillna(horses.groupby(['23_outcome', '24_surgical_lesion?'])\n",
    "                                               ['15_nasogastric_reflux'].transform(lambda x: x.mode()[0]), inplace=True)\n",
    "horses.info()"
   ]
  },
  {
   "cell_type": "code",
   "execution_count": 90,
   "metadata": {},
   "outputs": [
    {
     "data": {
      "text/html": [
       "<div>\n",
       "<style scoped>\n",
       "    .dataframe tbody tr th:only-of-type {\n",
       "        vertical-align: middle;\n",
       "    }\n",
       "\n",
       "    .dataframe tbody tr th {\n",
       "        vertical-align: top;\n",
       "    }\n",
       "\n",
       "    .dataframe thead th {\n",
       "        text-align: right;\n",
       "    }\n",
       "</style>\n",
       "<table border=\"1\" class=\"dataframe\">\n",
       "  <thead>\n",
       "    <tr style=\"text-align: right;\">\n",
       "      <th></th>\n",
       "      <th></th>\n",
       "      <th>17_rectal_examination_-_feces</th>\n",
       "    </tr>\n",
       "    <tr>\n",
       "      <th>23_outcome</th>\n",
       "      <th>24_surgical_lesion?</th>\n",
       "      <th></th>\n",
       "    </tr>\n",
       "  </thead>\n",
       "  <tbody>\n",
       "    <tr>\n",
       "      <th rowspan=\"2\" valign=\"top\">1.0</th>\n",
       "      <th>1</th>\n",
       "      <td>4.0</td>\n",
       "    </tr>\n",
       "    <tr>\n",
       "      <th>2</th>\n",
       "      <td>1.0</td>\n",
       "    </tr>\n",
       "    <tr>\n",
       "      <th rowspan=\"2\" valign=\"top\">2.0</th>\n",
       "      <th>1</th>\n",
       "      <td>4.0</td>\n",
       "    </tr>\n",
       "    <tr>\n",
       "      <th>2</th>\n",
       "      <td>4.0</td>\n",
       "    </tr>\n",
       "    <tr>\n",
       "      <th rowspan=\"2\" valign=\"top\">3.0</th>\n",
       "      <th>1</th>\n",
       "      <td>1.0</td>\n",
       "    </tr>\n",
       "    <tr>\n",
       "      <th>2</th>\n",
       "      <td>4.0</td>\n",
       "    </tr>\n",
       "  </tbody>\n",
       "</table>\n",
       "</div>"
      ],
      "text/plain": [
       "                                17_rectal_examination_-_feces\n",
       "23_outcome 24_surgical_lesion?                               \n",
       "1.0        1                                              4.0\n",
       "           2                                              1.0\n",
       "2.0        1                                              4.0\n",
       "           2                                              4.0\n",
       "3.0        1                                              1.0\n",
       "           2                                              4.0"
      ]
     },
     "execution_count": 90,
     "metadata": {},
     "output_type": "execute_result"
    }
   ],
   "source": [
    "# Столбец 17\n",
    "horses.groupby(['23_outcome', '24_surgical_lesion?']).agg({'17_rectal_examination_-_feces': lambda x: x.mode()[0]})"
   ]
  },
  {
   "cell_type": "code",
   "execution_count": 91,
   "metadata": {},
   "outputs": [
    {
     "name": "stdout",
     "output_type": "stream",
     "text": [
      "<class 'pandas.core.frame.DataFrame'>\n",
      "RangeIndex: 300 entries, 0 to 299\n",
      "Data columns (total 27 columns):\n",
      " #   Column                          Non-Null Count  Dtype  \n",
      "---  ------                          --------------  -----  \n",
      " 0   1__surgery?                     300 non-null    float64\n",
      " 1   2__Age                          300 non-null    int64  \n",
      " 2   3__Hospital_Number              300 non-null    int64  \n",
      " 3   4__rectal_temperature           300 non-null    float64\n",
      " 4   5__pulse                        300 non-null    float64\n",
      " 5   6__respiratory_rate             300 non-null    float64\n",
      " 6   7__temperature_of_extremities   300 non-null    float64\n",
      " 7   8__peripheral_pulse             300 non-null    float64\n",
      " 8   9__mucous_membranes             300 non-null    float64\n",
      " 9   10_capillary_refill_time        300 non-null    float64\n",
      " 10  11_pain                         300 non-null    float64\n",
      " 11  12_peristalsis                  300 non-null    float64\n",
      " 12  13_abdominal_distension         300 non-null    float64\n",
      " 13  14_nasogastric_tube             300 non-null    float64\n",
      " 14  15_nasogastric_reflux           300 non-null    float64\n",
      " 15  17_rectal_examination_-_feces   300 non-null    float64\n",
      " 16  18_abdomen                      182 non-null    float64\n",
      " 17  19_packed_cell_volume           271 non-null    float64\n",
      " 18  20_total_protein                267 non-null    float64\n",
      " 19  21_abdominocentesis_appearance  135 non-null    float64\n",
      " 20  22_abdomcentesis_total_protein  102 non-null    float64\n",
      " 21  23_outcome                      300 non-null    float64\n",
      " 22  24_surgical_lesion?             300 non-null    int64  \n",
      " 23  25_type_of_lesion               300 non-null    int64  \n",
      " 24  26_type_of_lesion               300 non-null    int64  \n",
      " 25  27_type_of_lesion               300 non-null    int64  \n",
      " 26  28_cp_data                      300 non-null    int64  \n",
      "dtypes: float64(20), int64(7)\n",
      "memory usage: 63.4 KB\n"
     ]
    }
   ],
   "source": [
    "horses['17_rectal_examination_-_feces'].fillna(horses.groupby(['23_outcome', '24_surgical_lesion?'])\n",
    "                                               ['17_rectal_examination_-_feces'].transform(lambda x: x.mode()[0]), inplace=True)\n",
    "horses.info()"
   ]
  },
  {
   "cell_type": "code",
   "execution_count": 92,
   "metadata": {},
   "outputs": [
    {
     "data": {
      "text/html": [
       "<div>\n",
       "<style scoped>\n",
       "    .dataframe tbody tr th:only-of-type {\n",
       "        vertical-align: middle;\n",
       "    }\n",
       "\n",
       "    .dataframe tbody tr th {\n",
       "        vertical-align: top;\n",
       "    }\n",
       "\n",
       "    .dataframe thead th {\n",
       "        text-align: right;\n",
       "    }\n",
       "</style>\n",
       "<table border=\"1\" class=\"dataframe\">\n",
       "  <thead>\n",
       "    <tr style=\"text-align: right;\">\n",
       "      <th></th>\n",
       "      <th></th>\n",
       "      <th>18_abdomen</th>\n",
       "    </tr>\n",
       "    <tr>\n",
       "      <th>23_outcome</th>\n",
       "      <th>24_surgical_lesion?</th>\n",
       "      <th></th>\n",
       "    </tr>\n",
       "  </thead>\n",
       "  <tbody>\n",
       "    <tr>\n",
       "      <th rowspan=\"2\" valign=\"top\">1.0</th>\n",
       "      <th>1</th>\n",
       "      <td>5.0</td>\n",
       "    </tr>\n",
       "    <tr>\n",
       "      <th>2</th>\n",
       "      <td>1.0</td>\n",
       "    </tr>\n",
       "    <tr>\n",
       "      <th rowspan=\"2\" valign=\"top\">2.0</th>\n",
       "      <th>1</th>\n",
       "      <td>5.0</td>\n",
       "    </tr>\n",
       "    <tr>\n",
       "      <th>2</th>\n",
       "      <td>1.0</td>\n",
       "    </tr>\n",
       "    <tr>\n",
       "      <th rowspan=\"2\" valign=\"top\">3.0</th>\n",
       "      <th>1</th>\n",
       "      <td>5.0</td>\n",
       "    </tr>\n",
       "    <tr>\n",
       "      <th>2</th>\n",
       "      <td>5.0</td>\n",
       "    </tr>\n",
       "  </tbody>\n",
       "</table>\n",
       "</div>"
      ],
      "text/plain": [
       "                                18_abdomen\n",
       "23_outcome 24_surgical_lesion?            \n",
       "1.0        1                           5.0\n",
       "           2                           1.0\n",
       "2.0        1                           5.0\n",
       "           2                           1.0\n",
       "3.0        1                           5.0\n",
       "           2                           5.0"
      ]
     },
     "execution_count": 92,
     "metadata": {},
     "output_type": "execute_result"
    }
   ],
   "source": [
    "# Столбец 18\n",
    "horses.groupby(['23_outcome', '24_surgical_lesion?']).agg({'18_abdomen': lambda x: x.mode()[0]})"
   ]
  },
  {
   "cell_type": "code",
   "execution_count": 93,
   "metadata": {},
   "outputs": [
    {
     "name": "stdout",
     "output_type": "stream",
     "text": [
      "<class 'pandas.core.frame.DataFrame'>\n",
      "RangeIndex: 300 entries, 0 to 299\n",
      "Data columns (total 27 columns):\n",
      " #   Column                          Non-Null Count  Dtype  \n",
      "---  ------                          --------------  -----  \n",
      " 0   1__surgery?                     300 non-null    float64\n",
      " 1   2__Age                          300 non-null    int64  \n",
      " 2   3__Hospital_Number              300 non-null    int64  \n",
      " 3   4__rectal_temperature           300 non-null    float64\n",
      " 4   5__pulse                        300 non-null    float64\n",
      " 5   6__respiratory_rate             300 non-null    float64\n",
      " 6   7__temperature_of_extremities   300 non-null    float64\n",
      " 7   8__peripheral_pulse             300 non-null    float64\n",
      " 8   9__mucous_membranes             300 non-null    float64\n",
      " 9   10_capillary_refill_time        300 non-null    float64\n",
      " 10  11_pain                         300 non-null    float64\n",
      " 11  12_peristalsis                  300 non-null    float64\n",
      " 12  13_abdominal_distension         300 non-null    float64\n",
      " 13  14_nasogastric_tube             300 non-null    float64\n",
      " 14  15_nasogastric_reflux           300 non-null    float64\n",
      " 15  17_rectal_examination_-_feces   300 non-null    float64\n",
      " 16  18_abdomen                      300 non-null    float64\n",
      " 17  19_packed_cell_volume           271 non-null    float64\n",
      " 18  20_total_protein                267 non-null    float64\n",
      " 19  21_abdominocentesis_appearance  135 non-null    float64\n",
      " 20  22_abdomcentesis_total_protein  102 non-null    float64\n",
      " 21  23_outcome                      300 non-null    float64\n",
      " 22  24_surgical_lesion?             300 non-null    int64  \n",
      " 23  25_type_of_lesion               300 non-null    int64  \n",
      " 24  26_type_of_lesion               300 non-null    int64  \n",
      " 25  27_type_of_lesion               300 non-null    int64  \n",
      " 26  28_cp_data                      300 non-null    int64  \n",
      "dtypes: float64(20), int64(7)\n",
      "memory usage: 63.4 KB\n"
     ]
    }
   ],
   "source": [
    "horses['18_abdomen'].fillna(horses.groupby(['23_outcome', '24_surgical_lesion?'])\n",
    "                                               ['18_abdomen'].transform(lambda x: x.mode()[0]), inplace=True)\n",
    "horses.info()"
   ]
  },
  {
   "cell_type": "code",
   "execution_count": 94,
   "metadata": {},
   "outputs": [
    {
     "data": {
      "text/html": [
       "<div>\n",
       "<style scoped>\n",
       "    .dataframe tbody tr th:only-of-type {\n",
       "        vertical-align: middle;\n",
       "    }\n",
       "\n",
       "    .dataframe tbody tr th {\n",
       "        vertical-align: top;\n",
       "    }\n",
       "\n",
       "    .dataframe thead th {\n",
       "        text-align: right;\n",
       "    }\n",
       "</style>\n",
       "<table border=\"1\" class=\"dataframe\">\n",
       "  <thead>\n",
       "    <tr style=\"text-align: right;\">\n",
       "      <th></th>\n",
       "      <th></th>\n",
       "      <th>19_packed_cell_volume</th>\n",
       "    </tr>\n",
       "    <tr>\n",
       "      <th>23_outcome</th>\n",
       "      <th>24_surgical_lesion?</th>\n",
       "      <th></th>\n",
       "    </tr>\n",
       "  </thead>\n",
       "  <tbody>\n",
       "    <tr>\n",
       "      <th rowspan=\"2\" valign=\"top\">1.0</th>\n",
       "      <th>1</th>\n",
       "      <td>43.0</td>\n",
       "    </tr>\n",
       "    <tr>\n",
       "      <th>2</th>\n",
       "      <td>42.0</td>\n",
       "    </tr>\n",
       "    <tr>\n",
       "      <th rowspan=\"2\" valign=\"top\">2.0</th>\n",
       "      <th>1</th>\n",
       "      <td>51.0</td>\n",
       "    </tr>\n",
       "    <tr>\n",
       "      <th>2</th>\n",
       "      <td>64.0</td>\n",
       "    </tr>\n",
       "    <tr>\n",
       "      <th rowspan=\"2\" valign=\"top\">3.0</th>\n",
       "      <th>1</th>\n",
       "      <td>50.0</td>\n",
       "    </tr>\n",
       "    <tr>\n",
       "      <th>2</th>\n",
       "      <td>53.0</td>\n",
       "    </tr>\n",
       "  </tbody>\n",
       "</table>\n",
       "</div>"
      ],
      "text/plain": [
       "                                19_packed_cell_volume\n",
       "23_outcome 24_surgical_lesion?                       \n",
       "1.0        1                                     43.0\n",
       "           2                                     42.0\n",
       "2.0        1                                     51.0\n",
       "           2                                     64.0\n",
       "3.0        1                                     50.0\n",
       "           2                                     53.0"
      ]
     },
     "execution_count": 94,
     "metadata": {},
     "output_type": "execute_result"
    }
   ],
   "source": [
    "# Столбец 19\n",
    "horses.groupby(['23_outcome', '24_surgical_lesion?']).agg({'19_packed_cell_volume': lambda x: x.median()})"
   ]
  },
  {
   "cell_type": "code",
   "execution_count": 95,
   "metadata": {},
   "outputs": [
    {
     "name": "stdout",
     "output_type": "stream",
     "text": [
      "<class 'pandas.core.frame.DataFrame'>\n",
      "RangeIndex: 300 entries, 0 to 299\n",
      "Data columns (total 27 columns):\n",
      " #   Column                          Non-Null Count  Dtype  \n",
      "---  ------                          --------------  -----  \n",
      " 0   1__surgery?                     300 non-null    float64\n",
      " 1   2__Age                          300 non-null    int64  \n",
      " 2   3__Hospital_Number              300 non-null    int64  \n",
      " 3   4__rectal_temperature           300 non-null    float64\n",
      " 4   5__pulse                        300 non-null    float64\n",
      " 5   6__respiratory_rate             300 non-null    float64\n",
      " 6   7__temperature_of_extremities   300 non-null    float64\n",
      " 7   8__peripheral_pulse             300 non-null    float64\n",
      " 8   9__mucous_membranes             300 non-null    float64\n",
      " 9   10_capillary_refill_time        300 non-null    float64\n",
      " 10  11_pain                         300 non-null    float64\n",
      " 11  12_peristalsis                  300 non-null    float64\n",
      " 12  13_abdominal_distension         300 non-null    float64\n",
      " 13  14_nasogastric_tube             300 non-null    float64\n",
      " 14  15_nasogastric_reflux           300 non-null    float64\n",
      " 15  17_rectal_examination_-_feces   300 non-null    float64\n",
      " 16  18_abdomen                      300 non-null    float64\n",
      " 17  19_packed_cell_volume           300 non-null    float64\n",
      " 18  20_total_protein                267 non-null    float64\n",
      " 19  21_abdominocentesis_appearance  135 non-null    float64\n",
      " 20  22_abdomcentesis_total_protein  102 non-null    float64\n",
      " 21  23_outcome                      300 non-null    float64\n",
      " 22  24_surgical_lesion?             300 non-null    int64  \n",
      " 23  25_type_of_lesion               300 non-null    int64  \n",
      " 24  26_type_of_lesion               300 non-null    int64  \n",
      " 25  27_type_of_lesion               300 non-null    int64  \n",
      " 26  28_cp_data                      300 non-null    int64  \n",
      "dtypes: float64(20), int64(7)\n",
      "memory usage: 63.4 KB\n"
     ]
    }
   ],
   "source": [
    "horses['19_packed_cell_volume'].fillna(horses.groupby(['23_outcome', '24_surgical_lesion?'])\n",
    "                                               ['19_packed_cell_volume'].transform('median'), inplace=True)\n",
    "horses.info()"
   ]
  },
  {
   "cell_type": "code",
   "execution_count": 96,
   "metadata": {},
   "outputs": [
    {
     "data": {
      "text/html": [
       "<div>\n",
       "<style scoped>\n",
       "    .dataframe tbody tr th:only-of-type {\n",
       "        vertical-align: middle;\n",
       "    }\n",
       "\n",
       "    .dataframe tbody tr th {\n",
       "        vertical-align: top;\n",
       "    }\n",
       "\n",
       "    .dataframe thead tr th {\n",
       "        text-align: left;\n",
       "    }\n",
       "\n",
       "    .dataframe thead tr:last-of-type th {\n",
       "        text-align: right;\n",
       "    }\n",
       "</style>\n",
       "<table border=\"1\" class=\"dataframe\">\n",
       "  <thead>\n",
       "    <tr>\n",
       "      <th></th>\n",
       "      <th></th>\n",
       "      <th colspan=\"2\" halign=\"left\">20_total_protein</th>\n",
       "    </tr>\n",
       "    <tr>\n",
       "      <th></th>\n",
       "      <th></th>\n",
       "      <th>&lt;lambda_0&gt;</th>\n",
       "      <th>count</th>\n",
       "    </tr>\n",
       "    <tr>\n",
       "      <th>23_outcome</th>\n",
       "      <th>24_surgical_lesion?</th>\n",
       "      <th></th>\n",
       "      <th></th>\n",
       "    </tr>\n",
       "  </thead>\n",
       "  <tbody>\n",
       "    <tr>\n",
       "      <th rowspan=\"2\" valign=\"top\">1.0</th>\n",
       "      <th>1</th>\n",
       "      <td>7.80</td>\n",
       "      <td>85</td>\n",
       "    </tr>\n",
       "    <tr>\n",
       "      <th>2</th>\n",
       "      <td>7.30</td>\n",
       "      <td>81</td>\n",
       "    </tr>\n",
       "    <tr>\n",
       "      <th rowspan=\"2\" valign=\"top\">2.0</th>\n",
       "      <th>1</th>\n",
       "      <td>6.85</td>\n",
       "      <td>58</td>\n",
       "    </tr>\n",
       "    <tr>\n",
       "      <th>2</th>\n",
       "      <td>6.80</td>\n",
       "      <td>7</td>\n",
       "    </tr>\n",
       "    <tr>\n",
       "      <th rowspan=\"2\" valign=\"top\">3.0</th>\n",
       "      <th>1</th>\n",
       "      <td>11.60</td>\n",
       "      <td>24</td>\n",
       "    </tr>\n",
       "    <tr>\n",
       "      <th>2</th>\n",
       "      <td>63.00</td>\n",
       "      <td>12</td>\n",
       "    </tr>\n",
       "  </tbody>\n",
       "</table>\n",
       "</div>"
      ],
      "text/plain": [
       "                               20_total_protein      \n",
       "                                     <lambda_0> count\n",
       "23_outcome 24_surgical_lesion?                       \n",
       "1.0        1                               7.80    85\n",
       "           2                               7.30    81\n",
       "2.0        1                               6.85    58\n",
       "           2                               6.80     7\n",
       "3.0        1                              11.60    24\n",
       "           2                              63.00    12"
      ]
     },
     "execution_count": 96,
     "metadata": {},
     "output_type": "execute_result"
    }
   ],
   "source": [
    "# Столбец 20\n",
    "horses.groupby(['23_outcome', '24_surgical_lesion?']).agg({'20_total_protein': [lambda x: x.median(), 'count']})"
   ]
  },
  {
   "cell_type": "code",
   "execution_count": 97,
   "metadata": {},
   "outputs": [
    {
     "data": {
      "text/plain": [
       "1      85.0\n",
       "36      6.0\n",
       "63     82.0\n",
       "97     60.0\n",
       "128    61.0\n",
       "144    81.0\n",
       "165    64.0\n",
       "179     NaN\n",
       "196     7.5\n",
       "205     NaN\n",
       "220     NaN\n",
       "276    75.0\n",
       "293    62.0\n",
       "295    65.0\n",
       "299    62.0\n",
       "Name: 20_total_protein, dtype: float64"
      ]
     },
     "execution_count": 97,
     "metadata": {},
     "output_type": "execute_result"
    }
   ],
   "source": [
    "# Странно большая медиана в случае 3/2. Хочу посмотреть на этот сектор подробнее\n",
    "horses[(horses['23_outcome'] == 3) & (horses['24_surgical_lesion?'] == 2)]['20_total_protein']"
   ]
  },
  {
   "cell_type": "code",
   "execution_count": 98,
   "metadata": {},
   "outputs": [
    {
     "name": "stdout",
     "output_type": "stream",
     "text": [
      "<class 'pandas.core.frame.DataFrame'>\n",
      "RangeIndex: 300 entries, 0 to 299\n",
      "Data columns (total 27 columns):\n",
      " #   Column                          Non-Null Count  Dtype  \n",
      "---  ------                          --------------  -----  \n",
      " 0   1__surgery?                     300 non-null    float64\n",
      " 1   2__Age                          300 non-null    int64  \n",
      " 2   3__Hospital_Number              300 non-null    int64  \n",
      " 3   4__rectal_temperature           300 non-null    float64\n",
      " 4   5__pulse                        300 non-null    float64\n",
      " 5   6__respiratory_rate             300 non-null    float64\n",
      " 6   7__temperature_of_extremities   300 non-null    float64\n",
      " 7   8__peripheral_pulse             300 non-null    float64\n",
      " 8   9__mucous_membranes             300 non-null    float64\n",
      " 9   10_capillary_refill_time        300 non-null    float64\n",
      " 10  11_pain                         300 non-null    float64\n",
      " 11  12_peristalsis                  300 non-null    float64\n",
      " 12  13_abdominal_distension         300 non-null    float64\n",
      " 13  14_nasogastric_tube             300 non-null    float64\n",
      " 14  15_nasogastric_reflux           300 non-null    float64\n",
      " 15  17_rectal_examination_-_feces   300 non-null    float64\n",
      " 16  18_abdomen                      300 non-null    float64\n",
      " 17  19_packed_cell_volume           300 non-null    float64\n",
      " 18  20_total_protein                300 non-null    float64\n",
      " 19  21_abdominocentesis_appearance  135 non-null    float64\n",
      " 20  22_abdomcentesis_total_protein  102 non-null    float64\n",
      " 21  23_outcome                      300 non-null    float64\n",
      " 22  24_surgical_lesion?             300 non-null    int64  \n",
      " 23  25_type_of_lesion               300 non-null    int64  \n",
      " 24  26_type_of_lesion               300 non-null    int64  \n",
      " 25  27_type_of_lesion               300 non-null    int64  \n",
      " 26  28_cp_data                      300 non-null    int64  \n",
      "dtypes: float64(20), int64(7)\n",
      "memory usage: 63.4 KB\n"
     ]
    }
   ],
   "source": [
    "# В этом секторе значения в принципе высокие за некоторыми исключениями. К тому же в столбце 20 вообще выбросов нет.\n",
    "# Так что считаю данные достоверными и заполняю пропуски по общему правилу.\n",
    "horses['20_total_protein'].fillna(horses.groupby(['23_outcome', '24_surgical_lesion?'])\n",
    "                                               ['20_total_protein'].transform('median'), inplace=True)\n",
    "horses.info()"
   ]
  },
  {
   "cell_type": "code",
   "execution_count": 99,
   "metadata": {},
   "outputs": [
    {
     "name": "stdout",
     "output_type": "stream",
     "text": [
      "<class 'pandas.core.frame.DataFrame'>\n",
      "RangeIndex: 300 entries, 0 to 299\n",
      "Data columns (total 27 columns):\n",
      " #   Column                          Non-Null Count  Dtype  \n",
      "---  ------                          --------------  -----  \n",
      " 0   1__surgery?                     300 non-null    float64\n",
      " 1   2__Age                          300 non-null    int64  \n",
      " 2   3__Hospital_Number              300 non-null    int64  \n",
      " 3   4__rectal_temperature           300 non-null    float64\n",
      " 4   5__pulse                        300 non-null    float64\n",
      " 5   6__respiratory_rate             300 non-null    float64\n",
      " 6   7__temperature_of_extremities   300 non-null    float64\n",
      " 7   8__peripheral_pulse             300 non-null    float64\n",
      " 8   9__mucous_membranes             300 non-null    float64\n",
      " 9   10_capillary_refill_time        300 non-null    float64\n",
      " 10  11_pain                         300 non-null    float64\n",
      " 11  12_peristalsis                  300 non-null    float64\n",
      " 12  13_abdominal_distension         300 non-null    float64\n",
      " 13  14_nasogastric_tube             300 non-null    float64\n",
      " 14  15_nasogastric_reflux           300 non-null    float64\n",
      " 15  17_rectal_examination_-_feces   300 non-null    float64\n",
      " 16  18_abdomen                      300 non-null    float64\n",
      " 17  19_packed_cell_volume           300 non-null    float64\n",
      " 18  20_total_protein                300 non-null    float64\n",
      " 19  21_abdominocentesis_appearance  300 non-null    float64\n",
      " 20  22_abdomcentesis_total_protein  102 non-null    float64\n",
      " 21  23_outcome                      300 non-null    float64\n",
      " 22  24_surgical_lesion?             300 non-null    int64  \n",
      " 23  25_type_of_lesion               300 non-null    int64  \n",
      " 24  26_type_of_lesion               300 non-null    int64  \n",
      " 25  27_type_of_lesion               300 non-null    int64  \n",
      " 26  28_cp_data                      300 non-null    int64  \n",
      "dtypes: float64(20), int64(7)\n",
      "memory usage: 63.4 KB\n"
     ]
    }
   ],
   "source": [
    "# В столбце 21 заполняю пустые значения константой.\n",
    "horses['21_abdominocentesis_appearance'].fillna(0, inplace=True)\n",
    "horses.info()"
   ]
  },
  {
   "cell_type": "code",
   "execution_count": 102,
   "metadata": {},
   "outputs": [
    {
     "data": {
      "text/html": [
       "<div>\n",
       "<style scoped>\n",
       "    .dataframe tbody tr th:only-of-type {\n",
       "        vertical-align: middle;\n",
       "    }\n",
       "\n",
       "    .dataframe tbody tr th {\n",
       "        vertical-align: top;\n",
       "    }\n",
       "\n",
       "    .dataframe thead tr th {\n",
       "        text-align: left;\n",
       "    }\n",
       "\n",
       "    .dataframe thead tr:last-of-type th {\n",
       "        text-align: right;\n",
       "    }\n",
       "</style>\n",
       "<table border=\"1\" class=\"dataframe\">\n",
       "  <thead>\n",
       "    <tr>\n",
       "      <th></th>\n",
       "      <th></th>\n",
       "      <th>22_abdomcentesis_total_protein</th>\n",
       "    </tr>\n",
       "    <tr>\n",
       "      <th></th>\n",
       "      <th></th>\n",
       "      <th>&lt;lambda&gt;</th>\n",
       "    </tr>\n",
       "    <tr>\n",
       "      <th>23_outcome</th>\n",
       "      <th>24_surgical_lesion?</th>\n",
       "      <th></th>\n",
       "    </tr>\n",
       "  </thead>\n",
       "  <tbody>\n",
       "    <tr>\n",
       "      <th rowspan=\"2\" valign=\"top\">1.0</th>\n",
       "      <th>1</th>\n",
       "      <td>2.0</td>\n",
       "    </tr>\n",
       "    <tr>\n",
       "      <th>2</th>\n",
       "      <td>2.3</td>\n",
       "    </tr>\n",
       "    <tr>\n",
       "      <th rowspan=\"2\" valign=\"top\">2.0</th>\n",
       "      <th>1</th>\n",
       "      <td>3.4</td>\n",
       "    </tr>\n",
       "    <tr>\n",
       "      <th>2</th>\n",
       "      <td>4.1</td>\n",
       "    </tr>\n",
       "    <tr>\n",
       "      <th rowspan=\"2\" valign=\"top\">3.0</th>\n",
       "      <th>1</th>\n",
       "      <td>2.0</td>\n",
       "    </tr>\n",
       "    <tr>\n",
       "      <th>2</th>\n",
       "      <td>2.0</td>\n",
       "    </tr>\n",
       "  </tbody>\n",
       "</table>\n",
       "</div>"
      ],
      "text/plain": [
       "                               22_abdomcentesis_total_protein\n",
       "                                                     <lambda>\n",
       "23_outcome 24_surgical_lesion?                               \n",
       "1.0        1                                              2.0\n",
       "           2                                              2.3\n",
       "2.0        1                                              3.4\n",
       "           2                                              4.1\n",
       "3.0        1                                              2.0\n",
       "           2                                              2.0"
      ]
     },
     "execution_count": 102,
     "metadata": {},
     "output_type": "execute_result"
    }
   ],
   "source": [
    "# Столбец 22\n",
    "horses.groupby(['23_outcome', '24_surgical_lesion?']).agg({'22_abdomcentesis_total_protein': [lambda x: x.median()]})"
   ]
  },
  {
   "cell_type": "code",
   "execution_count": 103,
   "metadata": {},
   "outputs": [
    {
     "name": "stdout",
     "output_type": "stream",
     "text": [
      "<class 'pandas.core.frame.DataFrame'>\n",
      "RangeIndex: 300 entries, 0 to 299\n",
      "Data columns (total 27 columns):\n",
      " #   Column                          Non-Null Count  Dtype  \n",
      "---  ------                          --------------  -----  \n",
      " 0   1__surgery?                     300 non-null    float64\n",
      " 1   2__Age                          300 non-null    int64  \n",
      " 2   3__Hospital_Number              300 non-null    int64  \n",
      " 3   4__rectal_temperature           300 non-null    float64\n",
      " 4   5__pulse                        300 non-null    float64\n",
      " 5   6__respiratory_rate             300 non-null    float64\n",
      " 6   7__temperature_of_extremities   300 non-null    float64\n",
      " 7   8__peripheral_pulse             300 non-null    float64\n",
      " 8   9__mucous_membranes             300 non-null    float64\n",
      " 9   10_capillary_refill_time        300 non-null    float64\n",
      " 10  11_pain                         300 non-null    float64\n",
      " 11  12_peristalsis                  300 non-null    float64\n",
      " 12  13_abdominal_distension         300 non-null    float64\n",
      " 13  14_nasogastric_tube             300 non-null    float64\n",
      " 14  15_nasogastric_reflux           300 non-null    float64\n",
      " 15  17_rectal_examination_-_feces   300 non-null    float64\n",
      " 16  18_abdomen                      300 non-null    float64\n",
      " 17  19_packed_cell_volume           300 non-null    float64\n",
      " 18  20_total_protein                300 non-null    float64\n",
      " 19  21_abdominocentesis_appearance  300 non-null    float64\n",
      " 20  22_abdomcentesis_total_protein  300 non-null    float64\n",
      " 21  23_outcome                      300 non-null    float64\n",
      " 22  24_surgical_lesion?             300 non-null    int64  \n",
      " 23  25_type_of_lesion               300 non-null    int64  \n",
      " 24  26_type_of_lesion               300 non-null    int64  \n",
      " 25  27_type_of_lesion               300 non-null    int64  \n",
      " 26  28_cp_data                      300 non-null    int64  \n",
      "dtypes: float64(20), int64(7)\n",
      "memory usage: 63.4 KB\n"
     ]
    }
   ],
   "source": [
    "horses['22_abdomcentesis_total_protein'].fillna(horses.groupby(['23_outcome', '24_surgical_lesion?'])\n",
    "                                               ['22_abdomcentesis_total_protein'].transform('median'), inplace=True)\n",
    "horses.info()"
   ]
  },
  {
   "cell_type": "markdown",
   "metadata": {},
   "source": [
    "Ура! Получился dataframe без пропусков! Какое счастье!"
   ]
  },
  {
   "cell_type": "code",
   "execution_count": null,
   "metadata": {},
   "outputs": [],
   "source": []
  }
 ],
 "metadata": {
  "kernelspec": {
   "display_name": "Python 3",
   "language": "python",
   "name": "python3"
  },
  "language_info": {
   "codemirror_mode": {
    "name": "ipython",
    "version": 3
   },
   "file_extension": ".py",
   "mimetype": "text/x-python",
   "name": "python",
   "nbconvert_exporter": "python",
   "pygments_lexer": "ipython3",
   "version": "3.8.5"
  }
 },
 "nbformat": 4,
 "nbformat_minor": 4
}
