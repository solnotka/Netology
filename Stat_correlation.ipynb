{
 "cells": [
  {
   "cell_type": "code",
   "execution_count": 3,
   "metadata": {},
   "outputs": [],
   "source": [
    "bodycount = {'Проклятие Черной жемчужины': {'человек': 17 },\n",
    "             'Сундук мертвеца': {'человек': 56, 'раков-отшельников': 1},\n",
    "             'На краю света': {'человек': 88},\n",
    "             'На странных берегах': {'человек': 56, 'русалок': 2, 'ядовитых жаб': 3,'пиратов зомби': 2}}"
   ]
  },
  {
   "cell_type": "code",
   "execution_count": 4,
   "metadata": {},
   "outputs": [
    {
     "name": "stdout",
     "output_type": "stream",
     "text": [
      "225\n"
     ]
    }
   ],
   "source": [
    "all_dead = 0\n",
    "for dead in bodycount.values():\n",
    "    all_dead += sum(dead.values())\n",
    "\n",
    "print(all_dead)"
   ]
  },
  {
   "cell_type": "code",
   "execution_count": 5,
   "metadata": {},
   "outputs": [],
   "source": [
    "some_oxy_text = '''Весь мой рэп, если коротко, про то, что\n",
    " Уж который год который город под подошвой\n",
    " В гору, когда прет. Потом под гору, когда тошно\n",
    " Я не то, что Гулливер, но все же город под подошвой\n",
    " Город под подошвой, город под подошвой\n",
    " Светофоры, госпошлины, сборы и таможни\n",
    " Я не знаю, вброд или на дно эта дорожка\n",
    " Ты живешь под каблуком, у меня - город под подошвой'''\n",
    "\n"
   ]
  },
  {
   "cell_type": "code",
   "execution_count": 6,
   "metadata": {},
   "outputs": [
    {
     "name": "stdout",
     "output_type": "stream",
     "text": [
      "под: 7\n",
      "город: 5\n",
      "подошвой: 5\n",
      "когда: 2\n",
      "гору: 2\n",
      "я: 2\n",
      "не: 2\n",
      "который: 2\n",
      "то: 2\n",
      "что: 2\n",
      "если: 1\n",
      "рэп: 1\n",
      "коротко: 1\n",
      "госпошлины: 1\n",
      "гулливер: 1\n",
      "ты: 1\n",
      "мой: 1\n",
      "весь: 1\n",
      "все: 1\n",
      "на: 1\n",
      "каблуком: 1\n",
      "потом: 1\n",
      "тошно: 1\n",
      "год: 1\n",
      "у: 1\n",
      "эта: 1\n",
      "светофоры: 1\n",
      "дно: 1\n",
      "живешь: 1\n",
      "и: 1\n",
      "дорожка: 1\n",
      "вброд: 1\n",
      "в: 1\n",
      "или: 1\n",
      "таможни: 1\n",
      "уж: 1\n",
      "знаю: 1\n",
      "меня: 1\n",
      "прет: 1\n",
      "сборы: 1\n",
      "же: 1\n",
      "но: 1\n",
      "про: 1\n"
     ]
    }
   ],
   "source": [
    "oxy_split = some_oxy_text.replace(',', '').replace('.', '').replace('-', '').lower().split()\n",
    "\n",
    "oxy_dict = {}\n",
    "for word in set(oxy_split):\n",
    "    oxy_dict[word] = oxy_split.count(word)\n",
    "    \n",
    "for key, value in sorted(oxy_dict.items(), key=lambda kv: kv[1], reverse=True):\n",
    "    print(f'{key}: {value}')"
   ]
  },
  {
   "cell_type": "code",
   "execution_count": 7,
   "metadata": {},
   "outputs": [],
   "source": [
    "def if_palindrom(word):\n",
    "    if len(word.lower()) % 2 == 1:\n",
    "        if word[:len(word) // 2] == word[:len(word) // 2:-1]:\n",
    "            return True\n",
    "        else:\n",
    "            return False\n",
    "    else:\n",
    "        if word[:len(word) // 2] == word[:(len(word) // 2 -1):-1]:\n",
    "            return True\n",
    "        else:\n",
    "            return False"
   ]
  },
  {
   "cell_type": "code",
   "execution_count": 8,
   "metadata": {},
   "outputs": [
    {
     "data": {
      "text/plain": [
       "True"
      ]
     },
     "execution_count": 8,
     "metadata": {},
     "output_type": "execute_result"
    }
   ],
   "source": [
    "if_palindrom('adada')"
   ]
  },
  {
   "cell_type": "code",
   "execution_count": 9,
   "metadata": {},
   "outputs": [
    {
     "data": {
      "text/plain": [
       "True"
      ]
     },
     "execution_count": 9,
     "metadata": {},
     "output_type": "execute_result"
    }
   ],
   "source": [
    "if_palindrom('adda')"
   ]
  },
  {
   "cell_type": "code",
   "execution_count": 10,
   "metadata": {},
   "outputs": [
    {
     "data": {
      "text/plain": [
       "False"
      ]
     },
     "execution_count": 10,
     "metadata": {},
     "output_type": "execute_result"
    }
   ],
   "source": [
    "if_palindrom('maisie')"
   ]
  },
  {
   "cell_type": "code",
   "execution_count": 11,
   "metadata": {},
   "outputs": [],
   "source": [
    "dict_1 = {'flat_1': 10500, 'flat_2': 11000}\n",
    "dict_2 = {'flat_3': 15000}\n",
    "dict_3 = {'flat_4': 6500, 'flat_5': 7000, 'flat_6': 6000}\n",
    "\n",
    "def flat_median(**dct):\n",
    "    return sum(dct.values()) / len(dct.values())"
   ]
  },
  {
   "cell_type": "code",
   "execution_count": 12,
   "metadata": {},
   "outputs": [
    {
     "data": {
      "text/plain": [
       "15000.0"
      ]
     },
     "execution_count": 12,
     "metadata": {},
     "output_type": "execute_result"
    }
   ],
   "source": [
    "flat_median(**dict_2)"
   ]
  },
  {
   "cell_type": "code",
   "execution_count": 13,
   "metadata": {},
   "outputs": [],
   "source": [
    "prices = [[100, 200, 400, 600], [200, 500], [100, 200, 100, 100], [800, 900]]"
   ]
  },
  {
   "cell_type": "code",
   "execution_count": 14,
   "metadata": {},
   "outputs": [],
   "source": [
    "def median(lst):\n",
    "    return [sum(x) for x in lst]"
   ]
  },
  {
   "cell_type": "code",
   "execution_count": 15,
   "metadata": {},
   "outputs": [
    {
     "data": {
      "text/plain": [
       "[1300, 700, 500, 1700]"
      ]
     },
     "execution_count": 15,
     "metadata": {},
     "output_type": "execute_result"
    }
   ],
   "source": [
    "median(prices)"
   ]
  },
  {
   "cell_type": "code",
   "execution_count": 16,
   "metadata": {},
   "outputs": [
    {
     "data": {
      "text/plain": [
       "[325.0, 350.0, 125.0, 850.0]"
      ]
     },
     "execution_count": 16,
     "metadata": {},
     "output_type": "execute_result"
    }
   ],
   "source": [
    "list(map(lambda x: sum(x) / len(x), prices))"
   ]
  },
  {
   "cell_type": "code",
   "execution_count": 17,
   "metadata": {},
   "outputs": [
    {
     "data": {
      "text/plain": [
       "True"
      ]
     },
     "execution_count": 17,
     "metadata": {},
     "output_type": "execute_result"
    }
   ],
   "source": [
    "lst = [2, 4, 6, 1, 5]\n",
    "lst_2 = list(map(lambda x: x % 2, lst))\n",
    "lst_2.count(1) < lst_2.count(0)"
   ]
  },
  {
   "cell_type": "code",
   "execution_count": 18,
   "metadata": {},
   "outputs": [],
   "source": [
    "import re\n",
    "tweet = 'Если #эпидемия, то #обязательно#оставайсядома'"
   ]
  },
  {
   "cell_type": "code",
   "execution_count": 19,
   "metadata": {},
   "outputs": [
    {
     "data": {
      "text/plain": [
       "['#эпидемия', '#обязательно', '#оставайсядома']"
      ]
     },
     "execution_count": 19,
     "metadata": {},
     "output_type": "execute_result"
    }
   ],
   "source": [
    "re.findall(r'#\\w+', tweet)"
   ]
  },
  {
   "cell_type": "code",
   "execution_count": 20,
   "metadata": {},
   "outputs": [],
   "source": [
    "date ='1st september 07:25 fi lflfr f'"
   ]
  },
  {
   "cell_type": "code",
   "execution_count": 21,
   "metadata": {},
   "outputs": [
    {
     "data": {
      "text/plain": [
       "['1st september']"
      ]
     },
     "execution_count": 21,
     "metadata": {},
     "output_type": "execute_result"
    }
   ],
   "source": [
    "re.findall(r'\\d{1,2}\\w{1,2}\\s+\\w{3,10}', date)"
   ]
  },
  {
   "cell_type": "code",
   "execution_count": 22,
   "metadata": {},
   "outputs": [],
   "source": [
    "message = ['Опять дождь! Лайков: 5, Репостов: 4']"
   ]
  },
  {
   "cell_type": "code",
   "execution_count": 23,
   "metadata": {},
   "outputs": [],
   "source": [
    "text = 'Какое замечательное место! Вернусь. Советую!'"
   ]
  },
  {
   "cell_type": "code",
   "execution_count": 24,
   "metadata": {},
   "outputs": [
    {
     "data": {
      "text/plain": [
       "'Какое замечательное место Вернусь Советую'"
      ]
     },
     "execution_count": 24,
     "metadata": {},
     "output_type": "execute_result"
    }
   ],
   "source": [
    "re.sub(r'[!,.,?]', r'', text)"
   ]
  },
  {
   "cell_type": "code",
   "execution_count": 25,
   "metadata": {},
   "outputs": [
    {
     "data": {
      "text/plain": [
       "['4.44']"
      ]
     },
     "execution_count": 25,
     "metadata": {},
     "output_type": "execute_result"
    }
   ],
   "source": [
    "price = 'RUB4.44'\n",
    "re.findall(r'(?<=RUB)\\d{1,2}\\.\\d{1,2}', price)"
   ]
  },
  {
   "cell_type": "code",
   "execution_count": 26,
   "metadata": {},
   "outputs": [],
   "source": [
    "?price."
   ]
  },
  {
   "cell_type": "code",
   "execution_count": null,
   "metadata": {},
   "outputs": [],
   "source": []
  }
 ],
 "metadata": {
  "kernelspec": {
   "display_name": "Python 3",
   "language": "python",
   "name": "python3"
  },
  "language_info": {
   "codemirror_mode": {
    "name": "ipython",
    "version": 3
   },
   "file_extension": ".py",
   "mimetype": "text/x-python",
   "name": "python",
   "nbconvert_exporter": "python",
   "pygments_lexer": "ipython3",
   "version": "3.8.5"
  }
 },
 "nbformat": 4,
 "nbformat_minor": 4
}
