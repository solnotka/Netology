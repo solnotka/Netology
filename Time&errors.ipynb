{
 "cells": [
  {
   "cell_type": "markdown",
   "metadata": {},
   "source": [
    "# Исключения и обработка ошибок"
   ]
  },
  {
   "cell_type": "markdown",
   "metadata": {},
   "source": [
    "## Задание 1\n",
    "Печатные газеты использовали свой формат дат для каждого выпуска. Для каждой газеты из списка напишите формат указанной даты для перевода в объект datetime:\n",
    "* The Moscow Times - Wednesday, October 2, 2002\n",
    "* The Guardian - Friday, 11.10.13\n",
    "* Daily News - Thursday, 18 August 1977"
   ]
  },
  {
   "cell_type": "code",
   "execution_count": 17,
   "metadata": {},
   "outputs": [
    {
     "name": "stdout",
     "output_type": "stream",
     "text": [
      "2002-10-02 00:00:00\n",
      "2002\n",
      "10\n",
      "2\n"
     ]
    }
   ],
   "source": [
    "from datetime import datetime\n",
    "\n",
    "def moscow_times_time(date):\n",
    "    return datetime.strptime(date, '%A, %B %d, %Y')\n",
    "\n",
    "moscow_times = moscow_times_time('Wednesday, October 2, 2002')\n",
    "\n",
    "print(moscow_times)\n",
    "print(moscow_times.year)\n",
    "print(moscow_times.month)\n",
    "print(moscow_times.day)"
   ]
  },
  {
   "cell_type": "code",
   "execution_count": 18,
   "metadata": {},
   "outputs": [
    {
     "name": "stdout",
     "output_type": "stream",
     "text": [
      "2013-10-11 00:00:00\n"
     ]
    }
   ],
   "source": [
    "def guardian_time(date):\n",
    "    return datetime.strptime(date, '%A, %d.%m.%y')\n",
    "\n",
    "guardian = guardian_time('Friday, 11.10.13')\n",
    "print(guardian)"
   ]
  },
  {
   "cell_type": "code",
   "execution_count": 19,
   "metadata": {},
   "outputs": [
    {
     "name": "stdout",
     "output_type": "stream",
     "text": [
      "1977-08-18 00:00:00\n"
     ]
    }
   ],
   "source": [
    "def daily_news_time(date):\n",
    "    return datetime.strptime(date, '%A, %d %B %Y')\n",
    "\n",
    "daily_news = daily_news_time('Thursday, 18 August 1977')\n",
    "print(daily_news)"
   ]
  },
  {
   "cell_type": "markdown",
   "metadata": {},
   "source": [
    "## Задание 2\n",
    "Дан поток дат в формате YYYY-MM-DD, в которых встречаются некорректные значения:\n",
    "\n",
    "```stream = ['2018-04-02', '2018-02-29', '2018-19-02']```\n",
    "\n",
    "Напишите функцию, которая проверяет эти даты на корректность. Т. е. для каждой даты возвращает True (дата корректна) или False (некорректная дата)."
   ]
  },
  {
   "cell_type": "code",
   "execution_count": 27,
   "metadata": {},
   "outputs": [
    {
     "name": "stdout",
     "output_type": "stream",
     "text": [
      "True\n",
      "False\n",
      "False\n",
      "False\n"
     ]
    }
   ],
   "source": [
    "def is_date_correct(date):\n",
    "    try:\n",
    "        datetime.strptime(date, '%Y-%m-%d')\n",
    "    except ValueError:\n",
    "          return False\n",
    "    return True\n",
    "\n",
    "stream = ['2018-04-02', '2018-02-29', '2018-19-02', '2018a-10-19']\n",
    "\n",
    "for date in stream:\n",
    "    print(is_date_correct(date))"
   ]
  },
  {
   "cell_type": "markdown",
   "metadata": {},
   "source": [
    "## Задание 3\n",
    "Напишите функцию date_range, которая возвращает список дат за период от start_date до end_date. Даты должны вводиться в формате YYYY-MM-DD. В случае неверного формата или при start_date > end_date должен возвращаться пустой список."
   ]
  },
  {
   "cell_type": "code",
   "execution_count": 41,
   "metadata": {},
   "outputs": [
    {
     "name": "stdout",
     "output_type": "stream",
     "text": [
      "18 November 2020\n",
      "19 November 2020\n",
      "20 November 2020\n",
      "21 November 2020\n",
      "22 November 2020\n",
      "23 November 2020\n",
      "24 November 2020\n",
      "25 November 2020\n",
      "26 November 2020\n",
      "27 November 2020\n",
      "28 November 2020\n",
      "29 November 2020\n",
      "30 November 2020\n",
      "01 December 2020\n",
      "02 December 2020\n",
      "03 December 2020\n",
      "04 December 2020\n",
      "05 December 2020\n",
      "06 December 2020\n",
      "07 December 2020\n",
      "08 December 2020\n",
      "09 December 2020\n",
      "10 December 2020\n",
      "11 December 2020\n",
      "12 December 2020\n",
      "13 December 2020\n",
      "14 December 2020\n",
      "15 December 2020\n",
      "16 December 2020\n",
      "17 December 2020\n",
      "18 December 2020\n",
      "19 December 2020\n",
      "20 December 2020\n",
      "21 December 2020\n",
      "22 December 2020\n",
      "23 December 2020\n",
      "24 December 2020\n",
      "25 December 2020\n",
      "26 December 2020\n",
      "27 December 2020\n",
      "28 December 2020\n",
      "29 December 2020\n",
      "30 December 2020\n",
      "31 December 2020\n",
      "01 January 2021\n",
      "02 January 2021\n",
      "Period_2 = []\n",
      "Period_3 = []\n"
     ]
    }
   ],
   "source": [
    "from datetime import timedelta\n",
    "\n",
    "def date_range(start_date, end_date):\n",
    "    try:\n",
    "        start_date = datetime.strptime(start_date, '%Y-%m-%d')\n",
    "        end_date = datetime.strptime(end_date, '%Y-%m-%d')\n",
    "    except ValueError:\n",
    "        return []\n",
    "    \n",
    "    dates = []\n",
    "    date = start_date\n",
    "    while date <= end_date:\n",
    "        dates.append(date)\n",
    "        date += timedelta(days=1)\n",
    "        \n",
    "    return dates\n",
    "\n",
    "period_1 = date_range('2020-11-18', '2021-01-02')\n",
    "period_2 = date_range('2021-11-18', '2021-01-02')\n",
    "period_3 = date_range('2020-11-18', '2021-01-98')\n",
    "\n",
    "for date in period_1:\n",
    "    print(date.strftime('%d %B %Y'))\n",
    "    \n",
    "print(f'Period_2 = {period_2}')\n",
    "print(f'Period_3 = {period_3}')"
   ]
  },
  {
   "cell_type": "markdown",
   "metadata": {},
   "source": [
    "## Задание 4 (бонусное)\n",
    "Ваш коллега прислал код функции:\n",
    "\n",
    "```\n",
    "DEFAULT_USER_COUNT = 3\n",
    "\n",
    "def delete_and_return_last_user(region, default_list=['A100', 'A101', 'A102']):\n",
    "\"\"“\n",
    "Удаляет из списка default_list последнего пользователя\n",
    "и возвращает ID нового последнего пользователя.\n",
    "”\"\"\n",
    "    element_to_delete = default_list[-1]\n",
    "    default_list.remove(element_to_delete)\n",
    "\n",
    "    return default_list[DEFAULT_USER_COUNT-2]\n",
    "```\n",
    "\n",
    "При однократном вызове этой функции все работает корректно:\n",
    "``delete_and_return_last_user(1)``\n",
    "‘A101’\n",
    "\n",
    "Однако, при повторном вызове получается ошибка IndexError: list index out of range.\n",
    "\n",
    "Задание:\n",
    "\n",
    "Что значит ошибка list index out of range?\n",
    "Почему при первом запуске функция работает корректно, а при втором - нет?"
   ]
  },
  {
   "cell_type": "code",
   "execution_count": 64,
   "metadata": {},
   "outputs": [
    {
     "name": "stdout",
     "output_type": "stream",
     "text": [
      "A101\n"
     ]
    },
    {
     "ename": "IndexError",
     "evalue": "list index out of range",
     "output_type": "error",
     "traceback": [
      "\u001b[1;31m---------------------------------------------------------------------------\u001b[0m",
      "\u001b[1;31mIndexError\u001b[0m                                Traceback (most recent call last)",
      "\u001b[1;32m<ipython-input-64-92aaac1a3123>\u001b[0m in \u001b[0;36m<module>\u001b[1;34m\u001b[0m\n\u001b[0;32m     11\u001b[0m \u001b[1;33m\u001b[0m\u001b[0m\n\u001b[0;32m     12\u001b[0m \u001b[0mprint\u001b[0m\u001b[1;33m(\u001b[0m\u001b[0mdelete_and_return_last_user\u001b[0m\u001b[1;33m(\u001b[0m\u001b[1;36m2\u001b[0m\u001b[1;33m)\u001b[0m\u001b[1;33m)\u001b[0m\u001b[1;33m\u001b[0m\u001b[1;33m\u001b[0m\u001b[0m\n\u001b[1;32m---> 13\u001b[1;33m \u001b[0mprint\u001b[0m\u001b[1;33m(\u001b[0m\u001b[0mdelete_and_return_last_user\u001b[0m\u001b[1;33m(\u001b[0m\u001b[1;36m2\u001b[0m\u001b[1;33m)\u001b[0m\u001b[1;33m)\u001b[0m\u001b[1;33m\u001b[0m\u001b[1;33m\u001b[0m\u001b[0m\n\u001b[0m",
      "\u001b[1;32m<ipython-input-64-92aaac1a3123>\u001b[0m in \u001b[0;36mdelete_and_return_last_user\u001b[1;34m(region, default_list)\u001b[0m\n\u001b[0;32m      8\u001b[0m     \u001b[0mdefault_list\u001b[0m\u001b[1;33m.\u001b[0m\u001b[0mremove\u001b[0m\u001b[1;33m(\u001b[0m\u001b[0melement_to_delete\u001b[0m\u001b[1;33m)\u001b[0m\u001b[1;33m\u001b[0m\u001b[1;33m\u001b[0m\u001b[0m\n\u001b[0;32m      9\u001b[0m \u001b[1;33m\u001b[0m\u001b[0m\n\u001b[1;32m---> 10\u001b[1;33m     \u001b[1;32mreturn\u001b[0m \u001b[0mdefault_list\u001b[0m\u001b[1;33m[\u001b[0m\u001b[0mDEFAULT_USER_COUNT\u001b[0m\u001b[1;33m-\u001b[0m\u001b[1;36m2\u001b[0m\u001b[1;33m]\u001b[0m\u001b[1;33m\u001b[0m\u001b[1;33m\u001b[0m\u001b[0m\n\u001b[0m\u001b[0;32m     11\u001b[0m \u001b[1;33m\u001b[0m\u001b[0m\n\u001b[0;32m     12\u001b[0m \u001b[0mprint\u001b[0m\u001b[1;33m(\u001b[0m\u001b[0mdelete_and_return_last_user\u001b[0m\u001b[1;33m(\u001b[0m\u001b[1;36m2\u001b[0m\u001b[1;33m)\u001b[0m\u001b[1;33m)\u001b[0m\u001b[1;33m\u001b[0m\u001b[1;33m\u001b[0m\u001b[0m\n",
      "\u001b[1;31mIndexError\u001b[0m: list index out of range"
     ]
    }
   ],
   "source": [
    "DEFAULT_USER_COUNT = 3\n",
    "\n",
    "def delete_and_return_last_user(region, default_list=['A100', 'A101', 'A102']):\n",
    "    \n",
    "#Удаляет из списка default_list последнего пользователя и возвращает ID нового последнего пользователя.\n",
    "\n",
    "    element_to_delete = default_list[-1]\n",
    "    default_list.remove(element_to_delete)\n",
    "\n",
    "    return default_list[DEFAULT_USER_COUNT-2]\n",
    "\n",
    "print(delete_and_return_last_user(2))\n",
    "print(delete_and_return_last_user(2))\n"
   ]
  },
  {
   "cell_type": "markdown",
   "metadata": {},
   "source": [
    "Ошибка list index out of range означает, что в списке нет элемента с нужным индексом.\n",
    "\n",
    "* В функции используется глобальная переменная DEFAULT_USER_COUNT. Значение DEFAULT_USER_COUNT - 2 всегда равно 1. Таким образом, функция возвращает не последний элемент списка, а элемент с индексом 1.\n",
    "* Список - это изменяемый тип данных. Изменения, которые вносятся в список в результате работы функции, сохраняются. При каждом вызове функции список уменьшается на один элемент, и уже при втором вызове элемент с индексом 1 в нем отсутствует.\n",
    "\n",
    "Исправленная функция:"
   ]
  },
  {
   "cell_type": "code",
   "execution_count": 70,
   "metadata": {},
   "outputs": [
    {
     "name": "stdout",
     "output_type": "stream",
     "text": [
      "A101\n",
      "A100\n",
      "Список пуст\n",
      "Список пуст\n"
     ]
    }
   ],
   "source": [
    "def delete_and_return_last_user(region, default_list=['A100', 'A101', 'A102']):\n",
    "    \n",
    "#Удаляет из списка default_list последнего пользователя и возвращает ID нового последнего пользователя.\n",
    "    \n",
    "    #Делаю глобальную переменную локальной и привязываю ее значение к длине default_list\n",
    "    default_user_count = len(default_list)\n",
    "        \n",
    "    #Страховка от IndexError для пустого списка (при пустом списке выражение default_list[-1] не может быть выполнено)\n",
    "    if default_list:\n",
    "        element_to_delete = default_list[-1]\n",
    "        default_list.remove(element_to_delete)\n",
    "    \n",
    "    #Страховка от IndexError для списка длиной <= 1 (в этом случае выражение default_list[default_user_count-2])\n",
    "    try:\n",
    "        return default_list[default_user_count-2]\n",
    "    except IndexError:\n",
    "        return 'Список пуст'\n",
    "\n",
    "print(delete_and_return_last_user(2))\n",
    "print(delete_and_return_last_user(2))\n",
    "print(delete_and_return_last_user(2))\n",
    "print(delete_and_return_last_user(2))"
   ]
  },
  {
   "cell_type": "markdown",
   "metadata": {},
   "source": [
    "Дополнительные замечания:\n",
    "* В функции не используется переменная region. Функция будет работать одинаково при любом значении этой переменной\n",
    "* Поскольку список является изменяемым типом данных, лучше не передавать его как значение по умолчанию"
   ]
  },
  {
   "cell_type": "code",
   "execution_count": null,
   "metadata": {},
   "outputs": [],
   "source": []
  }
 ],
 "metadata": {
  "kernelspec": {
   "display_name": "Python 3",
   "language": "python",
   "name": "python3"
  },
  "language_info": {
   "codemirror_mode": {
    "name": "ipython",
    "version": 3
   },
   "file_extension": ".py",
   "mimetype": "text/x-python",
   "name": "python",
   "nbconvert_exporter": "python",
   "pygments_lexer": "ipython3",
   "version": "3.8.5"
  }
 },
 "nbformat": 4,
 "nbformat_minor": 4
}
