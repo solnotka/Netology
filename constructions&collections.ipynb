{
 "cells": [
  {
   "cell_type": "code",
   "execution_count": null,
   "metadata": {},
   "outputs": [],
   "source": [
    "#Задание 1"
   ]
  },
  {
   "cell_type": "code",
   "execution_count": 1,
   "metadata": {},
   "outputs": [],
   "source": [
    "def show_center(word):\n",
    "    if len(word) % 2 == 1:\n",
    "        return word[len(word) // 2]\n",
    "    else:\n",
    "        return word[len(word) // 2 - 1] + word[len(word) // 2]"
   ]
  },
  {
   "cell_type": "code",
   "execution_count": 5,
   "metadata": {},
   "outputs": [
    {
     "name": "stdout",
     "output_type": "stream",
     "text": [
      "es\n",
      "t\n",
      "rc\n"
     ]
    }
   ],
   "source": [
    "print(show_center('test'))\n",
    "print(show_center('testing'))\n",
    "print(show_center('circle'))"
   ]
  },
  {
   "cell_type": "code",
   "execution_count": null,
   "metadata": {},
   "outputs": [],
   "source": [
    "#Задание 2"
   ]
  },
  {
   "cell_type": "code",
   "execution_count": 9,
   "metadata": {},
   "outputs": [
    {
     "name": "stdout",
     "output_type": "stream",
     "text": [
      "Введите число: 9\n",
      "Введите число: 8\n",
      "Введите число: 7\n",
      "Введите число: 6\n",
      "Введите число: 5\n",
      "Введите число: 4\n",
      "Введите число: 3\n",
      "Введите число: 2\n",
      "Введите число: 0\n",
      "Результат: 44\n"
     ]
    }
   ],
   "source": [
    "my_sum = 0\n",
    "n = 18\n",
    "while n != 0:\n",
    "    n = int(input('Введите число: '))\n",
    "    my_sum += n\n",
    "print(f'Результат: {my_sum}')"
   ]
  },
  {
   "cell_type": "code",
   "execution_count": null,
   "metadata": {},
   "outputs": [],
   "source": [
    "#Задание 3"
   ]
  },
  {
   "cell_type": "code",
   "execution_count": 14,
   "metadata": {},
   "outputs": [],
   "source": [
    "def sort_for_dating(boys, girls):\n",
    "    if len(boys) != len(girls):\n",
    "        return 'Внимание, кто-то может остаться без пары!'\n",
    "    else:\n",
    "        perfect_couples = zip(sorted(boys), sorted(girls))\n",
    "    \n",
    "    return perfect_couples"
   ]
  },
  {
   "cell_type": "code",
   "execution_count": 25,
   "metadata": {},
   "outputs": [
    {
     "name": "stdout",
     "output_type": "stream",
     "text": [
      "Идеальные пары:\n",
      "Alex и Emma\n",
      "John и Kira\n",
      "Peter и Liza\n",
      "Richard и Trisha\n"
     ]
    }
   ],
   "source": [
    "perfect_couples = sort_for_dating(['Peter', 'Alex', 'John', 'Richard'], ['Liza', 'Kira', 'Emma', 'Trisha'])\n",
    "if type(perfect_couples) == zip:\n",
    "    print('Идеальные пары:')\n",
    "    for couple in perfect_couples:\n",
    "        print(f'{couple[0]} и {couple[1]}')\n",
    "else:\n",
    "    print(perfect_couples)"
   ]
  },
  {
   "cell_type": "code",
   "execution_count": null,
   "metadata": {},
   "outputs": [],
   "source": [
    "#Задание 4"
   ]
  },
  {
   "cell_type": "code",
   "execution_count": 37,
   "metadata": {},
   "outputs": [],
   "source": [
    "def fahrenheit_to_celsius(degree):\n",
    "    c_degree = (degree - 32) * 5 / 9\n",
    "    return round(c_degree, 2)"
   ]
  },
  {
   "cell_type": "code",
   "execution_count": 38,
   "metadata": {},
   "outputs": [
    {
     "data": {
      "text/plain": [
       "-17.78"
      ]
     },
     "execution_count": 38,
     "metadata": {},
     "output_type": "execute_result"
    }
   ],
   "source": [
    "fahrenheit_to_celsius(0)"
   ]
  },
  {
   "cell_type": "code",
   "execution_count": 39,
   "metadata": {},
   "outputs": [],
   "source": [
    "def average_temp(lst):\n",
    "    lst = [fahrenheit_to_celsius(x) for x in lst]\n",
    "    return round(sum(lst) / len(lst), 1)"
   ]
  },
  {
   "cell_type": "code",
   "execution_count": 43,
   "metadata": {},
   "outputs": [
    {
     "name": "stdout",
     "output_type": "stream",
     "text": [
      "Средняя температура в странах:\n",
      "Thailand - 23.9 C\n",
      "Germany - 13.8 C\n",
      "Russia - 3.7 C\n",
      "Poland - 12.0 C\n"
     ]
    }
   ],
   "source": [
    "countries_temperature = [\n",
    "['Thailand', [75.2, 77, 78.8, 73.4, 68, 75.2, 77]],\n",
    "['Germany', [57.2, 55.4, 59, 59, 53.6]],\n",
    "['Russia', [35.6, 37.4, 39.2, 41, 42.8, 39.2, 35.6]],\n",
    "['Poland', [50, 50, 53.6, 57.2, 55.4, 55.4]]\n",
    "]\n",
    "\n",
    "print('Средняя температура в странах:')\n",
    "\n",
    "for country in countries_temperature:\n",
    "    print(f'{country[0]} - {average_temp(country[1])} C')\n",
    "    "
   ]
  },
  {
   "cell_type": "code",
   "execution_count": null,
   "metadata": {},
   "outputs": [],
   "source": [
    "#Задание 5"
   ]
  },
  {
   "cell_type": "code",
   "execution_count": 6,
   "metadata": {},
   "outputs": [],
   "source": [
    "def average_viewing(lst):\n",
    "    for index in range(len(lst)):\n",
    "        lst[index] = lst[index].split(',')\n",
    "    unic_users = {x[1] for x in lst}\n",
    "    unic_count = len(unic_users)\n",
    "    views = [int(x[2]) for x in lst]\n",
    "    all_views = sum(views)\n",
    "    \n",
    "    return f'Среднее количество просмотров на уникального пользователя: {round(all_views / unic_count, 2)}'"
   ]
  },
  {
   "cell_type": "code",
   "execution_count": 7,
   "metadata": {},
   "outputs": [
    {
     "name": "stdout",
     "output_type": "stream",
     "text": [
      "Среднее количество просмотров на уникального пользователя: 23.25\n",
      "Среднее количество просмотров на уникального пользователя: 145.33\n"
     ]
    }
   ],
   "source": [
    "stream_1 = [\n",
    "'2018-01-01,user1,3',\n",
    "'2018-01-07,user1,4',\n",
    "'2018-03-29,user1,1',\n",
    "'2018-04-04,user1,13',\n",
    "'2018-01-05,user2,7',\n",
    "'2018-06-14,user3,4',\n",
    "'2018-07-02,user3,10',\n",
    "'2018-03-21,user4,19',\n",
    "'2018-03-22,user4,4',\n",
    "'2018-04-22,user4,8',\n",
    "'2018-05-03,user4,9',\n",
    "'2018-05-11,user4,11',\n",
    "]\n",
    "\n",
    "stream_2 = [\n",
    "'2018-01-01,user100,150',\n",
    "'2018-01-07,user99,205',\n",
    "'2018-03-29,user1001,81'\n",
    "]\n",
    "\n",
    "print(average_viewing(stream_1))\n",
    "print(average_viewing(stream_2))"
   ]
  },
  {
   "cell_type": "code",
   "execution_count": null,
   "metadata": {},
   "outputs": [],
   "source": [
    "'''Задание 6 (необязательное)\n",
    "Необходимо у пользователя запрашивать набор чисел разделенных пробелом.\n",
    "В результате должны выводиться числа, которые повторяются в вводе более одного раза.\n",
    "\n",
    "Примеры работы программы:\n",
    "\n",
    "Введите числа:\n",
    "4 8 0 3 4 2 0 3\n",
    "Результат:\n",
    "0 3 4\n",
    "\n",
    "Введите числа:\n",
    "1 1 2 2 3 3\n",
    "Результат:\n",
    "1 2 3\n",
    "\n",
    "Введите числа:\n",
    "1 1 1 1 1 2 2 2\n",
    "Результат:\n",
    "1 2'''"
   ]
  },
  {
   "cell_type": "code",
   "execution_count": 1,
   "metadata": {},
   "outputs": [
    {
     "name": "stdout",
     "output_type": "stream",
     "text": [
      "Введите числа: 1 1 1 1 1 2 2 2\n",
      "1 2 "
     ]
    }
   ],
   "source": [
    "all_numbers = input('Введите числа: ').split()\n",
    "popular_numbers = set()\n",
    "\n",
    "for number in all_numbers:\n",
    "    if all_numbers.count(number) > 1:\n",
    "        popular_numbers.add(number)\n",
    "        \n",
    "for number in popular_numbers:\n",
    "    print(number, end=' ')"
   ]
  },
  {
   "cell_type": "code",
   "execution_count": null,
   "metadata": {},
   "outputs": [],
   "source": []
  }
 ],
 "metadata": {
  "kernelspec": {
   "display_name": "Python 3",
   "language": "python",
   "name": "python3"
  },
  "language_info": {
   "codemirror_mode": {
    "name": "ipython",
    "version": 3
   },
   "file_extension": ".py",
   "mimetype": "text/x-python",
   "name": "python",
   "nbconvert_exporter": "python",
   "pygments_lexer": "ipython3",
   "version": "3.8.5"
  }
 },
 "nbformat": 4,
 "nbformat_minor": 4
}
