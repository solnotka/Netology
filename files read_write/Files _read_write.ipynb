{
 "cells": [
  {
   "cell_type": "code",
   "execution_count": 28,
   "metadata": {},
   "outputs": [
    {
     "name": "stdout",
     "output_type": "stream",
     "text": [
      "Длина словаря - 99518\n",
      "000117a2a3: {'Электроника'}\n",
      "0002983af3: {'Электроника'}\n",
      "0002b641bc: {'Бытовая техника'}\n",
      "000302625b: {'Электроника'}\n",
      "0003962bbf: {'Досуг'}\n",
      "0003c135ea: {'Бытовая техника'}\n",
      "0003dea8e2: {'Строительство и ремонт'}\n",
      "00043e4c99: {'Досуг'}\n",
      "0004cbc893: {'Продукты'}\n",
      "0004ed9c1c: {'Электроника'}\n"
     ]
    }
   ],
   "source": [
    "import json\n",
    "with open('purchase_log.txt', 'r', encoding='UTF-8') as f:\n",
    "    purchases = {}\n",
    "    for line in f.readlines():\n",
    "        line_after_json = json.loads(line)\n",
    "        if line_after_json['user_id'] not in purchases:\n",
    "            purchases[line_after_json['user_id']] = {line_after_json['category']}\n",
    "        else:\n",
    "            purchases[line_after_json['user_id']].add(line_after_json['category'])\n",
    "    \n",
    "print(f'Длина словаря - {len(purchases)}')\n",
    "\n",
    "for user in sorted(purchases)[:10]:\n",
    "    print(f'{user}: {purchases[user]}')        "
   ]
  },
  {
   "cell_type": "code",
   "execution_count": 26,
   "metadata": {},
   "outputs": [
    {
     "name": "stdout",
     "output_type": "stream",
     "text": [
      "200000\n"
     ]
    }
   ],
   "source": [
    "with open('visit_log.csv', 'r', encoding='UTF-8') as f:\n",
    "    print(f.read().count('\\n'))\n",
    "    f.seek(0)\n",
    "    with open('funnel.csv', 'w') as f_for_write:\n",
    "        for line in f.readlines():\n",
    "            new_line = list(line.strip().split(','))\n",
    "            if new_line[0] in purchases:\n",
    "                new_line.append('/'.join(list(purchases[new_line[0]])) +'\\n')\n",
    "                f_for_write.write(','.join(new_line))"
   ]
  },
  {
   "cell_type": "code",
   "execution_count": 27,
   "metadata": {},
   "outputs": [
    {
     "name": "stdout",
     "output_type": "stream",
     "text": [
      "user_id,source,category\n",
      "1840e0b9d4,other,Продукты\n",
      "4e4f90fcfb,context,Электроника\n",
      "afea8d72fc,other,Электроника\n",
      "2824221f38,email,Продукты\n",
      "373a6055fe,other,Бытовая техника\n",
      "9b2ab046f3,other,Электроника\n",
      "9f39d307c3,context,Электроника\n",
      "44edeffc91,context,Продукты\n",
      "704474fa2d,other,Продукты\n",
      "1de31be403,other,Бытовая техника\n",
      "5da0dedf13,context,Досуг\n",
      "b71f36a5e4,other,Продукты\n",
      "79843a685a,context,Продукты\n",
      "ff68cee0d6,context,Бытовая техника\n"
     ]
    }
   ],
   "source": [
    "with open('funnel.csv', 'r') as f:\n",
    "    i = 0\n",
    "    for line in f.readlines():\n",
    "        if i < 15:\n",
    "            print(line.strip())\n",
    "            i += 1"
   ]
  },
  {
   "cell_type": "code",
   "execution_count": 23,
   "metadata": {},
   "outputs": [
    {
     "name": "stdout",
     "output_type": "stream",
     "text": [
      "Количество строчек в файле - 13799\n",
      "\n",
      "c9d93ee37c,context,Электроника/Продукты\n",
      "6cd9581955,other,Досуг/Электроника\n",
      "735284e60a,other,Бытовая техника/Электроника\n",
      "64842ee9cf,other,Товары для животных/не определена\n",
      "66eb0896dd,other,Электроника/Продукты\n",
      "2b95759653,other,Досуг/Электроника\n",
      "c128f25790,context,Электроника/Продукты\n",
      "8db7dee4e5,other,Досуг/Бытовая техника\n",
      "eac6f49767,other,Бытовая техника/Продукты\n",
      "0f67a45667,email,Бытовая техника/Электроника\n",
      "79ccbb3fd4,context,Бытовая техника/Электроника\n",
      "a0e85fc020,email,Электроника/Строительство и ремонт\n",
      "a0e85fc020,email,Электроника/Строительство и ремонт\n",
      "6aed364e68,other,Бытовая техника/Строительство и ремонт\n",
      "770e3f3085,other,Досуг/Электроника\n"
     ]
    }
   ],
   "source": [
    "with open('funnel.csv', 'r') as f:\n",
    "    file_len = f.read().count(\"\\n\")\n",
    "    print(f'Количество строчек в файле - {file_len}')\n",
    "    print()\n",
    "    f.seek(0)\n",
    "    i = 0\n",
    "    for line in f.readlines():\n",
    "        if i < 15 and '/' in line:\n",
    "            print(line.strip())\n",
    "            i += 1"
   ]
  },
  {
   "cell_type": "code",
   "execution_count": null,
   "metadata": {},
   "outputs": [],
   "source": []
  }
 ],
 "metadata": {
  "kernelspec": {
   "display_name": "Python 3",
   "language": "python",
   "name": "python3"
  },
  "language_info": {
   "codemirror_mode": {
    "name": "ipython",
    "version": 3
   },
   "file_extension": ".py",
   "mimetype": "text/x-python",
   "name": "python",
   "nbconvert_exporter": "python",
   "pygments_lexer": "ipython3",
   "version": "3.8.5"
  }
 },
 "nbformat": 4,
 "nbformat_minor": 4
}
