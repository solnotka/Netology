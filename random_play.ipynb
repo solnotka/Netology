{
 "cells": [
  {
   "cell_type": "markdown",
   "metadata": {},
   "source": [
    "Смоделировать игру против лотерейного автомата типа “777”. Игрок платит 1 руб., после чего выпадает случайное целое число, равномерно распределенное от 0 до 999. При некоторых значениях числа игрок получает выигрыш (см. справа)\n",
    "\n",
    "Выгодна ли игра игроку?\n",
    "\n",
    "Сколько в среднем приобретает\n",
    "или теряет игрок за одну игру?\n",
    "\n",
    "777: 200 руб.  \n",
    "999: 100 руб.  \n",
    "555: 50 руб.  \n",
    "333: 15 руб.  \n",
    "111: 10 руб.  \n",
    "\\*77: 5 руб.  \n",
    "\\*\\*7: 3 руб.   \n",
    "\\*00: 2 руб.  \n",
    "\\*\\*0: 1 руб.  \n",
    "\n",
    "– любая цифра\n",
    "\n",
    "### Дополнительное задание повышенной сложности\n",
    "Теоретически рассчитать средний выигрыш (проигрыш) и сравнить с результатами моделирования"
   ]
  },
  {
   "cell_type": "code",
   "execution_count": 12,
   "metadata": {},
   "outputs": [],
   "source": [
    "import numpy as np"
   ]
  },
  {
   "cell_type": "code",
   "execution_count": 40,
   "metadata": {},
   "outputs": [
    {
     "name": "stdout",
     "output_type": "stream",
     "text": [
      "money = -195586, times = 1000000, mean_result = -0.195586\n"
     ]
    }
   ],
   "source": [
    "# моделирование\n",
    "money = 0\n",
    "times = 1000_000\n",
    "\n",
    "for _ in range(times):\n",
    "    money -= 1\n",
    "    result = np.random.randint(0, 1000)\n",
    "    if result == 777:\n",
    "        money += 200\n",
    "    elif result == 999:\n",
    "        money += 100\n",
    "    elif result == 555:\n",
    "        money += 50\n",
    "    elif result == 333:\n",
    "        money += 15\n",
    "    elif result == 111:\n",
    "        money += 10\n",
    "    elif result % 100 == 77 and result != 777:\n",
    "        money += 5\n",
    "    elif result % 10 == 7 and result % 100 != 77:\n",
    "        money += 3\n",
    "    elif result % 100 == 0:\n",
    "        money += 2\n",
    "    elif result % 10 == 0 and result % 100 != 0:\n",
    "        money += 1\n",
    "\n",
    "mean_result = money / times\n",
    "\n",
    "print(f'money = {money}, times = {times}, mean_result = {mean_result}')"
   ]
  },
  {
   "cell_type": "markdown",
   "metadata": {},
   "source": [
    "Рассчитываю вероятность каждого исхода. Из сумм выигрыша отнимаю единицу, которую игрок точно потратит.\n",
    "\n",
    "199 = 0,1%  \n",
    "99 = 0,1%  \n",
    "49= 0,1%  \n",
    "14 = 0,1%  \n",
    "9 = 0,1%  \n",
    "4 = 0,9%   \n",
    "2 = 9,0%  \n",
    "1 = 1,0%  \n",
    "0 = 9,0%  \n",
    "-1 = 79,6%"
   ]
  },
  {
   "cell_type": "code",
   "execution_count": 42,
   "metadata": {},
   "outputs": [
    {
     "data": {
      "text/plain": [
       "-0.19999999999999996"
      ]
     },
     "execution_count": 42,
     "metadata": {},
     "output_type": "execute_result"
    }
   ],
   "source": [
    "# теоретический расчет вероятности \n",
    "mean_result = 199 * 0.001 + 99 * 0.001 + 49 * 0.001 + 14 * 0.001 + 9 * 0.001 + 4 * 0.009 + 2 * 0.09 + 1 * 0.01 - 0.796\n",
    "mean_result"
   ]
  },
  {
   "cell_type": "markdown",
   "metadata": {},
   "source": [
    "Вывод: игра игроку невыгодна. В среднем за каждую партию игрок будет терять 20 коп. Это подтверждается и теоретическим расчетом, и моделированием"
   ]
  },
  {
   "cell_type": "code",
   "execution_count": null,
   "metadata": {},
   "outputs": [],
   "source": []
  }
 ],
 "metadata": {
  "kernelspec": {
   "display_name": "Python 3",
   "language": "python",
   "name": "python3"
  },
  "language_info": {
   "codemirror_mode": {
    "name": "ipython",
    "version": 3
   },
   "file_extension": ".py",
   "mimetype": "text/x-python",
   "name": "python",
   "nbconvert_exporter": "python",
   "pygments_lexer": "ipython3",
   "version": "3.8.5"
  }
 },
 "nbformat": 4,
 "nbformat_minor": 4
}
