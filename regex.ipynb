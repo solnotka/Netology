{
 "cells": [
  {
   "cell_type": "markdown",
   "metadata": {},
   "source": [
    "## Задание 1\n",
    "\n",
    "Напишите функцию, которая принимает на вход строку и проверяет является ли она валидным транспортным номером (1 буква, 3 цифры, 2 буквы, 2-3 цифры). Обратите внимание, что не все буквы кириллического алфавита используются в транспортных номерах.\n",
    "\n",
    "Если номер валиден, то функция должна возвращать отдельно номер и регион.\n",
    "\n",
    "Примеры работы программы:  \n",
    "\n",
    "1. `car_id = 'АВ222С96'`\n",
    "\n",
    "Результат: \n",
    "`Номер АВ222С валиден. Регион: 96`\n",
    "\n",
    "2. `car_id = 'АБ22ВВ193'`\n",
    "\n",
    "Результат: \n",
    "`Номер не валиден`"
   ]
  },
  {
   "cell_type": "code",
   "execution_count": 197,
   "metadata": {},
   "outputs": [],
   "source": [
    "import re\n",
    "\n",
    "car_id = 'А222СР96'\n",
    "car_id_2 = 'АБ22ВВ193'\n",
    "car_id_3 = 'А222СР96АБ22ВВ193'\n",
    "car_id_4 = 'А134АА196'"
   ]
  },
  {
   "cell_type": "code",
   "execution_count": 200,
   "metadata": {},
   "outputs": [],
   "source": [
    "def if_car_id(some_str):\n",
    "    car_id = re.match(r'(^[А,В,Е,К,М,Н,О,Р,С,Т,У,Х]{1}\\d{3}[А,В,Е,К,М,Н,О,Р,С,Т,У,Х]{2})(\\d{2,3})$', some_str)\n",
    "    if car_id: \n",
    "        return f'Номер {car_id.group(1)} валиден. Регион: {car_id.group(2)}'\n",
    "    else:\n",
    "        return f'Номер не валиден'"
   ]
  },
  {
   "cell_type": "code",
   "execution_count": 201,
   "metadata": {},
   "outputs": [
    {
     "data": {
      "text/plain": [
       "'Номер А222СР валиден. Регион: 96'"
      ]
     },
     "execution_count": 201,
     "metadata": {},
     "output_type": "execute_result"
    }
   ],
   "source": [
    "if_car_id(car_id)"
   ]
  },
  {
   "cell_type": "code",
   "execution_count": 202,
   "metadata": {},
   "outputs": [
    {
     "data": {
      "text/plain": [
       "'Номер не валиден'"
      ]
     },
     "execution_count": 202,
     "metadata": {},
     "output_type": "execute_result"
    }
   ],
   "source": [
    "if_car_id(car_id_2)"
   ]
  },
  {
   "cell_type": "code",
   "execution_count": 203,
   "metadata": {},
   "outputs": [
    {
     "data": {
      "text/plain": [
       "'Номер не валиден'"
      ]
     },
     "execution_count": 203,
     "metadata": {},
     "output_type": "execute_result"
    }
   ],
   "source": [
    "if_car_id(car_id_3)"
   ]
  },
  {
   "cell_type": "code",
   "execution_count": 204,
   "metadata": {},
   "outputs": [
    {
     "data": {
      "text/plain": [
       "'Номер А134АА валиден. Регион: 196'"
      ]
     },
     "execution_count": 204,
     "metadata": {},
     "output_type": "execute_result"
    }
   ],
   "source": [
    "if_car_id(car_id_4)"
   ]
  },
  {
   "cell_type": "markdown",
   "metadata": {},
   "source": [
    "## Задание 2\n",
    "\n",
    "Напишите функцию, которая будет удалять все последовательные повторы слов из заданной строки при помощи регулярных выражений.\n",
    "\n",
    "Пример работы программы:  \n",
    "\n",
    "`some_string = 'Напишите функцию функцию, которая будет будет будет будет удалять все все все все последовательные повторы слов из из из из заданной строки строки при помощи регулярных выражений'`\n",
    "\n",
    "Результат: \n",
    "`Напишите функцию, которая будет удалять все последовательные повторы слов из заданной строки при помощи регулярных выражений.`"
   ]
  },
  {
   "cell_type": "code",
   "execution_count": 207,
   "metadata": {},
   "outputs": [
    {
     "data": {
      "text/plain": [
       "'Напишите функцию, которая будет удалять все последовательные повторы слов из заданной строки при помощи регулярных выражений'"
      ]
     },
     "execution_count": 207,
     "metadata": {},
     "output_type": "execute_result"
    }
   ],
   "source": [
    "some_string = 'Напишите функцию функцию, которая будет будет будет будет \\\n",
    "удалять все все все все последовательные повторы слов из из из из заданной строки строки при помощи регулярных выражений'\n",
    "\n",
    "def del_repeats(string):\n",
    "        return re.sub(r'(\\w+)(\\s+\\1)+', r'\\1', string)\n",
    "\n",
    "del_repeats(some_string)"
   ]
  },
  {
   "cell_type": "markdown",
   "metadata": {},
   "source": [
    "## Задание 3\n",
    "\n",
    "Напишите функцию, которая будет возвращать акроним по переданной в нее строке со словами.\n",
    "\n",
    "Примеры работы программы:  \n",
    "\n",
    "1. `some_words = 'Информационные технологии'`\n",
    "\n",
    "Результат: \n",
    "`ИТ`\n",
    "\n",
    "2. `some_words = 'Near Field Communication'`\n",
    "\n",
    "Результат: \n",
    "`NFC`"
   ]
  },
  {
   "cell_type": "code",
   "execution_count": 210,
   "metadata": {},
   "outputs": [],
   "source": [
    "some_words = 'Информационные технологии'\n",
    "some_words_2 = 'Near Field Communication'"
   ]
  },
  {
   "cell_type": "code",
   "execution_count": 217,
   "metadata": {},
   "outputs": [],
   "source": [
    "def do_acronim(string):\n",
    "    #Проверяю, что буква идет в начале слова\n",
    "    acs = re.findall(r'\\b\\w', string)\n",
    "    return ''.join([x.upper() for x in acs])"
   ]
  },
  {
   "cell_type": "code",
   "execution_count": 218,
   "metadata": {},
   "outputs": [
    {
     "data": {
      "text/plain": [
       "'ИТ'"
      ]
     },
     "execution_count": 218,
     "metadata": {},
     "output_type": "execute_result"
    }
   ],
   "source": [
    "do_acronim(some_words)"
   ]
  },
  {
   "cell_type": "code",
   "execution_count": 219,
   "metadata": {},
   "outputs": [
    {
     "data": {
      "text/plain": [
       "'NFC'"
      ]
     },
     "execution_count": 219,
     "metadata": {},
     "output_type": "execute_result"
    }
   ],
   "source": [
    "do_acronim(some_words_2)"
   ]
  },
  {
   "cell_type": "markdown",
   "metadata": {},
   "source": [
    "## Задание 4\n",
    "\n",
    "Напишите функцию, которая будет принимать на вход список email-адресов и выводить их распределение по доменным зонам.\n",
    "\n",
    "Пример работы программы:  \n",
    "\n",
    "`emails = ['test@gmail.com, xyz@test.in, test@ya.ru, xyz@mail.ru, xyz@ya.ru', xyz@gmail.com]`\n",
    "\n",
    "Результат: \n",
    "```\n",
    "gmail.com: 2\n",
    "test.in: 1 \n",
    "ya.ru: 2 \n",
    "mail.ru: 1\n",
    "```"
   ]
  },
  {
   "cell_type": "code",
   "execution_count": 222,
   "metadata": {},
   "outputs": [],
   "source": [
    "emails = ['test@gmail.com, xyz@test.in, test@ya.ru, xyz@mail.ru, xyz@ya.ru', 'xyz@gmail.com']"
   ]
  },
  {
   "cell_type": "code",
   "execution_count": 226,
   "metadata": {},
   "outputs": [
    {
     "name": "stdout",
     "output_type": "stream",
     "text": [
      "gmail.com: 2\n",
      "test.in: 1\n",
      "ya.ru: 2\n",
      "mail.ru: 1\n",
      "None\n"
     ]
    }
   ],
   "source": [
    "def find_domains(lst):\n",
    "    domain = r'(?<=@)\\w+\\.\\w+' #задаю регулярное выражение для поиска доменов\n",
    "    domains = []\n",
    "    for email in lst:\n",
    "        domains.extend(re.findall(domain, email)) #собираю список доменов\n",
    "    dom_dict = {x: domains.count(x) for x in domains} #получаю словарь доменов, значение равно количеству вхождений в список\n",
    "    for dom in dom_dict:\n",
    "        print(f'{dom}: {dom_dict[dom]}')\n",
    "              \n",
    "print(find_domains(emails))"
   ]
  },
  {
   "cell_type": "markdown",
   "metadata": {},
   "source": [
    "## Задание 5 (необязательное)\n",
    "\n",
    "Напишите функцию, которая будет подсчитывать сколько слов начинается на гласные, а сколько на согласные буквы в тексте (текст может быть написан как с использованием букв кириллицы, так и латиницы).\n",
    "\n",
    "Пример работы программы:  \n",
    "\n",
    "`some_text = 'Эталонной реализацией Python является интерпретатор CPython, поддерживающий большинство активно используемых платформ. Он распространяется под свободной лицензией Python Software Foundation License, позволяющей использовать его без ограничений в любых приложениях, включая проприетарные.'`\n",
    "\n",
    "Результат: \n",
    "```\n",
    "Слов на гласные буквы: 9\n",
    "Слов на согласные буквы: 21 \n",
    "```"
   ]
  },
  {
   "cell_type": "code",
   "execution_count": 227,
   "metadata": {},
   "outputs": [],
   "source": [
    "some_text = 'Эталонной реализацией Python является интерпретатор CPython,\\\n",
    "поддерживающий большинство активно используемых платформ. Он распространяется под свободной лицензией \\\n",
    "Python Software Foundation License, позволяющей использовать его без ограничений в любых приложениях, включая проприетарные.'"
   ]
  },
  {
   "cell_type": "code",
   "execution_count": 230,
   "metadata": {},
   "outputs": [
    {
     "name": "stdout",
     "output_type": "stream",
     "text": [
      "Слов на гласные буквы: 9\n",
      "Слов на согласные буквы: 21\n"
     ]
    }
   ],
   "source": [
    "def count_letters(text):\n",
    "    first_vowels = re.findall(r'(?i)(?<!\\w)[а,о,у,ы,э,я,ё,ю,и,е,a,o,u,y,i]', some_text) #ищу все гласные буквы в начале слова.\n",
    "                                                                                        #отключаю зависимость от регистра\n",
    "    first_cons = re.findall(r'(?i)(?<!\\w)[^а,о,у,ы,э,я,ё,ю,и,е,a,o,u,y,i,\\s]', some_text) #ищу все согласные буквы в начале слова\n",
    "    #(все символы, перед которыми не находится другая буква, не гласные и не пробелы)\n",
    "    print(f'Слов на гласные буквы: {len(first_vowels)}', f'Слов на согласные буквы: {len(first_cons)}', sep='\\n')\n",
    "\n",
    "count_letters(some_text)"
   ]
  },
  {
   "cell_type": "markdown",
   "metadata": {},
   "source": [
    "## Задание 6 (необязательное)\n",
    "Напишите функцию, которая будет проверять номер сотового телефона на валидность, если он валиден, то переводить его в формат:   \n",
    "+7-xxx-xxx-xx-xx  \n",
    "Постарайтесь предусмотреть как можно больше адекватных форматов изначального ввода номера.\n",
    "Примеры работы программы:  \n",
    "\n",
    "1. `phone = '+7 955 555-55-55'`\n",
    "\n",
    "Результат: \n",
    "`+7-950-555-55-55`\n",
    "\n",
    "2. `phone = '8(955)555-55-55'`\n",
    "\n",
    "Результат: \n",
    "`+7-950-555-55-55`\n",
    "\n",
    "3. `phone = '+7 955 555 55 55'`\n",
    "\n",
    "Результат: \n",
    "`+7-950-555-55-55`\n",
    "\n",
    "4. `phone = '7(955) 555-55-55'`\n",
    "\n",
    "Результат: \n",
    "`+7-950-555-55-55`\n",
    "\n",
    "5. `phone = '423-555-55-5555'`\n",
    "\n",
    "Результат: \n",
    "`Номер не валиден`\n",
    "\n",
    "6. `phone = '123-456-789'`\n",
    "\n",
    "Результат: \n",
    "`Номер не валиден`"
   ]
  },
  {
   "cell_type": "code",
   "execution_count": 1,
   "metadata": {},
   "outputs": [
    {
     "data": {
      "text/plain": [
       "['+7 955 555-55-55',\n",
       " '8(955)555-55-55',\n",
       " '+7(955)555 55 55',\n",
       " '7(955) 555-55-55',\n",
       " '423-555-55-5555',\n",
       " '123-456-789',\n",
       " '8-921-222-22-22',\n",
       " '+71112223344',\n",
       " '7 111 222 33 44',\n",
       " '7 (111) 222 33 44']"
      ]
     },
     "execution_count": 1,
     "metadata": {},
     "output_type": "execute_result"
    }
   ],
   "source": [
    "import re\n",
    "phones = ['+7 955 555-55-55', '8(955)555-55-55', '+7(955)555 55 55',\\\n",
    "          '7(955) 555-55-55', '423-555-55-5555','123-456-789', '8-921-222-22-22', '+71112223344',\\\n",
    "          '7 111 222 33 44', '7 (111) 222 33 44']\n",
    "phones"
   ]
  },
  {
   "cell_type": "code",
   "execution_count": 2,
   "metadata": {},
   "outputs": [],
   "source": [
    "def valid_phone_number(string):\n",
    "    #Сделала два паттерна, чтобы было единообразие в номерах групп.Второй паттерн - это специфический случай,\n",
    "    #когда цифры записаны без разделителей.\n",
    "    #Разделители поместила в скобочные группы, потому что в скобках через ИЛИ точно работают выражения,\n",
    "    #состоящие из более чем одного символа. В [] через запятую, кажется, нужные мне альтернативы записать нельзя.\n",
    "    #Во втором паттерне пустые скобочные группы между цифрами - для единообразия нумерации групп\n",
    "    #Не нашла, можно ли в качестве альтернативы задать отсутствие разделителей между группами. Если можно, то второй паттерн\n",
    "    #был бы не нужен\n",
    "    #Не стала рассматривать варианты написания номеров с альтернативным делением на группы (не 3-3-2-2, а, например, 3-2-2-3),\n",
    "    #потому что мне и так уже нехорошо от этого выражения\n",
    "    pattern_1 = r'^(8|7|\\+7)(\\s{1,2}|\\(|-|\\s\\()(\\d{3})(\\s{1,2}|\\)|-|\\)\\s)(\\d{3})(\\s{1,2}|-)(\\d{2})(\\s{1,2}|-)(\\d{2})$'\n",
    "    pattern_2 = r'^(8|7|\\+7)()(\\d{3})()(\\d{3})()(\\d{2})()(\\d{2})$'\n",
    "    if re.match(pattern_1, string):\n",
    "        number = re.match(pattern_1, string)  \n",
    "    elif re.match(pattern_2, string):\n",
    "        number = re.match(pattern_2, string)\n",
    "    else:\n",
    "        return 'Номер не валиден'\n",
    "    \n",
    "    return f'+7-{number.group(3)}-{number.group(5)}-{number.group(7)}-{number.group(9)}'"
   ]
  },
  {
   "cell_type": "code",
   "execution_count": 3,
   "metadata": {},
   "outputs": [
    {
     "name": "stdout",
     "output_type": "stream",
     "text": [
      "+7-955-555-55-55\n",
      "+7-955-555-55-55\n",
      "+7-955-555-55-55\n",
      "+7-955-555-55-55\n",
      "Номер не валиден\n",
      "Номер не валиден\n",
      "+7-921-222-22-22\n",
      "+7-111-222-33-44\n",
      "+7-111-222-33-44\n",
      "+7-111-222-33-44\n"
     ]
    }
   ],
   "source": [
    "for phone in phones:\n",
    "    print(valid_phone_number(phone))"
   ]
  },
  {
   "cell_type": "code",
   "execution_count": null,
   "metadata": {},
   "outputs": [],
   "source": []
  },
  {
   "cell_type": "code",
   "execution_count": null,
   "metadata": {},
   "outputs": [],
   "source": []
  }
 ],
 "metadata": {
  "kernelspec": {
   "display_name": "Python 3",
   "language": "python",
   "name": "python3"
  },
  "language_info": {
   "codemirror_mode": {
    "name": "ipython",
    "version": 3
   },
   "file_extension": ".py",
   "mimetype": "text/x-python",
   "name": "python",
   "nbconvert_exporter": "python",
   "pygments_lexer": "ipython3",
   "version": "3.8.5"
  }
 },
 "nbformat": 4,
 "nbformat_minor": 4
}
