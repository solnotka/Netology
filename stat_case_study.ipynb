{
 "cells": [
  {
   "cell_type": "markdown",
   "metadata": {},
   "source": [
    "# Домашнее задание к лекции \"Статистика. Практика\""
   ]
  },
  {
   "cell_type": "markdown",
   "metadata": {},
   "source": [
    "## Задание 1"
   ]
  },
  {
   "cell_type": "markdown",
   "metadata": {},
   "source": [
    "Вернемся к [набору данных о видеоиграх](https://github.com/obulygin/pyda_homeworks/blob/master/stat_case_study/vgsales.csv).\n",
    "\n",
    "Ответьте на следующие вопросы:\n",
    "\n",
    "1) Как критики относятся к спортивным играм?  \n",
    "2) Критикам нравятся больше игры на PC или на PS4?  \n",
    "3) Критикам больше нравятся стрелялки или стратегии?  \n",
    "\n",
    "Для каждого вопроса:\n",
    "- сформулируйте нулевую и альтернативную гипотезы;\n",
    "- выберите пороговый уровень статистической значимости;\n",
    "- опишите полученные результаты статистического теста."
   ]
  },
  {
   "cell_type": "code",
   "execution_count": 3,
   "metadata": {},
   "outputs": [],
   "source": [
    "import pandas as pd\n",
    "import re\n",
    "import seaborn as sns\n",
    "import scipy.stats as stats"
   ]
  },
  {
   "cell_type": "code",
   "execution_count": 4,
   "metadata": {},
   "outputs": [],
   "source": [
    "vgsales = pd.read_csv('vgsales.csv')"
   ]
  },
  {
   "cell_type": "code",
   "execution_count": 5,
   "metadata": {},
   "outputs": [
    {
     "name": "stdout",
     "output_type": "stream",
     "text": [
      "<class 'pandas.core.frame.DataFrame'>\n",
      "RangeIndex: 16719 entries, 0 to 16718\n",
      "Data columns (total 16 columns):\n",
      " #   Column           Non-Null Count  Dtype  \n",
      "---  ------           --------------  -----  \n",
      " 0   Name             16717 non-null  object \n",
      " 1   Platform         16719 non-null  object \n",
      " 2   Year_of_Release  16450 non-null  float64\n",
      " 3   Genre            16717 non-null  object \n",
      " 4   Publisher        16665 non-null  object \n",
      " 5   NA_Sales         16719 non-null  float64\n",
      " 6   EU_Sales         16719 non-null  float64\n",
      " 7   JP_Sales         16719 non-null  float64\n",
      " 8   Other_Sales      16719 non-null  float64\n",
      " 9   Global_Sales     16719 non-null  float64\n",
      " 10  Critic_Score     8137 non-null   float64\n",
      " 11  Critic_Count     8137 non-null   float64\n",
      " 12  User_Score       10015 non-null  object \n",
      " 13  User_Count       7590 non-null   float64\n",
      " 14  Developer        10096 non-null  object \n",
      " 15  Rating           9950 non-null   object \n",
      "dtypes: float64(9), object(7)\n",
      "memory usage: 2.0+ MB\n"
     ]
    }
   ],
   "source": [
    "vgsales.info()"
   ]
  },
  {
   "cell_type": "markdown",
   "metadata": {},
   "source": [
    "### Вопрос 1\n",
    "Нулевая гипотеза: средняя оценка критиков для игр в жанре спорт >= 75\n",
    "\n",
    "Альтернативная гипотеза: средняя оценка критиков для игр в жанре спорт < 75\n",
    "\n",
    "alpha = 5%"
   ]
  },
  {
   "cell_type": "code",
   "execution_count": 6,
   "metadata": {},
   "outputs": [
    {
     "data": {
      "image/png": "[encoded data removed]",
      "text/plain": [
       "<Figure size 432x288 with 1 Axes>"
      ]
     },
     "metadata": {
      "needs_background": "light"
     },
     "output_type": "display_data"
    }
   ],
   "source": [
    "#Это чтобы посмотреть, по какой шкале критики ставят оценки.\n",
    "sns.histplot(data=vgsales, x='Critic_Score');"
   ]
  },
  {
   "cell_type": "code",
   "execution_count": 7,
   "metadata": {},
   "outputs": [
    {
     "data": {
      "text/html": [
       "<div>\n",
       "<style scoped>\n",
       "    .dataframe tbody tr th:only-of-type {\n",
       "        vertical-align: middle;\n",
       "    }\n",
       "\n",
       "    .dataframe tbody tr th {\n",
       "        vertical-align: top;\n",
       "    }\n",
       "\n",
       "    .dataframe thead th {\n",
       "        text-align: right;\n",
       "    }\n",
       "</style>\n",
       "<table border=\"1\" class=\"dataframe\">\n",
       "  <thead>\n",
       "    <tr style=\"text-align: right;\">\n",
       "      <th></th>\n",
       "      <th>Name</th>\n",
       "      <th>Platform</th>\n",
       "      <th>Year_of_Release</th>\n",
       "      <th>Publisher</th>\n",
       "      <th>NA_Sales</th>\n",
       "      <th>EU_Sales</th>\n",
       "      <th>JP_Sales</th>\n",
       "      <th>Other_Sales</th>\n",
       "      <th>Global_Sales</th>\n",
       "      <th>Critic_Score</th>\n",
       "      <th>Critic_Count</th>\n",
       "      <th>User_Score</th>\n",
       "      <th>User_Count</th>\n",
       "      <th>Developer</th>\n",
       "      <th>Rating</th>\n",
       "    </tr>\n",
       "    <tr>\n",
       "      <th>Genre</th>\n",
       "      <th></th>\n",
       "      <th></th>\n",
       "      <th></th>\n",
       "      <th></th>\n",
       "      <th></th>\n",
       "      <th></th>\n",
       "      <th></th>\n",
       "      <th></th>\n",
       "      <th></th>\n",
       "      <th></th>\n",
       "      <th></th>\n",
       "      <th></th>\n",
       "      <th></th>\n",
       "      <th></th>\n",
       "      <th></th>\n",
       "    </tr>\n",
       "  </thead>\n",
       "  <tbody>\n",
       "    <tr>\n",
       "      <th>Action</th>\n",
       "      <td>3370</td>\n",
       "      <td>3370</td>\n",
       "      <td>3308</td>\n",
       "      <td>3364</td>\n",
       "      <td>3370</td>\n",
       "      <td>3370</td>\n",
       "      <td>3370</td>\n",
       "      <td>3370</td>\n",
       "      <td>3370</td>\n",
       "      <td>1890</td>\n",
       "      <td>1890</td>\n",
       "      <td>2206</td>\n",
       "      <td>1830</td>\n",
       "      <td>2226</td>\n",
       "      <td>2188</td>\n",
       "    </tr>\n",
       "    <tr>\n",
       "      <th>Adventure</th>\n",
       "      <td>1303</td>\n",
       "      <td>1303</td>\n",
       "      <td>1293</td>\n",
       "      <td>1299</td>\n",
       "      <td>1303</td>\n",
       "      <td>1303</td>\n",
       "      <td>1303</td>\n",
       "      <td>1303</td>\n",
       "      <td>1303</td>\n",
       "      <td>323</td>\n",
       "      <td>323</td>\n",
       "      <td>459</td>\n",
       "      <td>300</td>\n",
       "      <td>469</td>\n",
       "      <td>446</td>\n",
       "    </tr>\n",
       "    <tr>\n",
       "      <th>Fighting</th>\n",
       "      <td>849</td>\n",
       "      <td>849</td>\n",
       "      <td>837</td>\n",
       "      <td>847</td>\n",
       "      <td>849</td>\n",
       "      <td>849</td>\n",
       "      <td>849</td>\n",
       "      <td>849</td>\n",
       "      <td>849</td>\n",
       "      <td>409</td>\n",
       "      <td>409</td>\n",
       "      <td>438</td>\n",
       "      <td>399</td>\n",
       "      <td>440</td>\n",
       "      <td>438</td>\n",
       "    </tr>\n",
       "    <tr>\n",
       "      <th>Misc</th>\n",
       "      <td>1750</td>\n",
       "      <td>1750</td>\n",
       "      <td>1721</td>\n",
       "      <td>1723</td>\n",
       "      <td>1750</td>\n",
       "      <td>1750</td>\n",
       "      <td>1750</td>\n",
       "      <td>1750</td>\n",
       "      <td>1750</td>\n",
       "      <td>523</td>\n",
       "      <td>523</td>\n",
       "      <td>888</td>\n",
       "      <td>439</td>\n",
       "      <td>886</td>\n",
       "      <td>882</td>\n",
       "    </tr>\n",
       "    <tr>\n",
       "      <th>Platform</th>\n",
       "      <td>888</td>\n",
       "      <td>888</td>\n",
       "      <td>878</td>\n",
       "      <td>887</td>\n",
       "      <td>888</td>\n",
       "      <td>888</td>\n",
       "      <td>888</td>\n",
       "      <td>888</td>\n",
       "      <td>888</td>\n",
       "      <td>497</td>\n",
       "      <td>497</td>\n",
       "      <td>567</td>\n",
       "      <td>428</td>\n",
       "      <td>569</td>\n",
       "      <td>569</td>\n",
       "    </tr>\n",
       "    <tr>\n",
       "      <th>Puzzle</th>\n",
       "      <td>580</td>\n",
       "      <td>580</td>\n",
       "      <td>569</td>\n",
       "      <td>580</td>\n",
       "      <td>580</td>\n",
       "      <td>580</td>\n",
       "      <td>580</td>\n",
       "      <td>580</td>\n",
       "      <td>580</td>\n",
       "      <td>224</td>\n",
       "      <td>224</td>\n",
       "      <td>339</td>\n",
       "      <td>128</td>\n",
       "      <td>347</td>\n",
       "      <td>342</td>\n",
       "    </tr>\n",
       "    <tr>\n",
       "      <th>Racing</th>\n",
       "      <td>1249</td>\n",
       "      <td>1249</td>\n",
       "      <td>1226</td>\n",
       "      <td>1248</td>\n",
       "      <td>1249</td>\n",
       "      <td>1249</td>\n",
       "      <td>1249</td>\n",
       "      <td>1249</td>\n",
       "      <td>1249</td>\n",
       "      <td>742</td>\n",
       "      <td>742</td>\n",
       "      <td>874</td>\n",
       "      <td>641</td>\n",
       "      <td>884</td>\n",
       "      <td>872</td>\n",
       "    </tr>\n",
       "    <tr>\n",
       "      <th>Role-Playing</th>\n",
       "      <td>1500</td>\n",
       "      <td>1500</td>\n",
       "      <td>1483</td>\n",
       "      <td>1499</td>\n",
       "      <td>1500</td>\n",
       "      <td>1500</td>\n",
       "      <td>1500</td>\n",
       "      <td>1500</td>\n",
       "      <td>1500</td>\n",
       "      <td>737</td>\n",
       "      <td>737</td>\n",
       "      <td>773</td>\n",
       "      <td>743</td>\n",
       "      <td>788</td>\n",
       "      <td>777</td>\n",
       "    </tr>\n",
       "    <tr>\n",
       "      <th>Shooter</th>\n",
       "      <td>1323</td>\n",
       "      <td>1323</td>\n",
       "      <td>1296</td>\n",
       "      <td>1321</td>\n",
       "      <td>1323</td>\n",
       "      <td>1323</td>\n",
       "      <td>1323</td>\n",
       "      <td>1323</td>\n",
       "      <td>1323</td>\n",
       "      <td>944</td>\n",
       "      <td>944</td>\n",
       "      <td>1023</td>\n",
       "      <td>924</td>\n",
       "      <td>1025</td>\n",
       "      <td>1019</td>\n",
       "    </tr>\n",
       "    <tr>\n",
       "      <th>Simulation</th>\n",
       "      <td>874</td>\n",
       "      <td>874</td>\n",
       "      <td>858</td>\n",
       "      <td>870</td>\n",
       "      <td>874</td>\n",
       "      <td>874</td>\n",
       "      <td>874</td>\n",
       "      <td>874</td>\n",
       "      <td>874</td>\n",
       "      <td>352</td>\n",
       "      <td>352</td>\n",
       "      <td>582</td>\n",
       "      <td>344</td>\n",
       "      <td>584</td>\n",
       "      <td>569</td>\n",
       "    </tr>\n",
       "    <tr>\n",
       "      <th>Sports</th>\n",
       "      <td>2348</td>\n",
       "      <td>2348</td>\n",
       "      <td>2306</td>\n",
       "      <td>2345</td>\n",
       "      <td>2348</td>\n",
       "      <td>2348</td>\n",
       "      <td>2348</td>\n",
       "      <td>2348</td>\n",
       "      <td>2348</td>\n",
       "      <td>1194</td>\n",
       "      <td>1194</td>\n",
       "      <td>1516</td>\n",
       "      <td>1103</td>\n",
       "      <td>1526</td>\n",
       "      <td>1509</td>\n",
       "    </tr>\n",
       "    <tr>\n",
       "      <th>Strategy</th>\n",
       "      <td>683</td>\n",
       "      <td>683</td>\n",
       "      <td>673</td>\n",
       "      <td>680</td>\n",
       "      <td>683</td>\n",
       "      <td>683</td>\n",
       "      <td>683</td>\n",
       "      <td>683</td>\n",
       "      <td>683</td>\n",
       "      <td>302</td>\n",
       "      <td>302</td>\n",
       "      <td>350</td>\n",
       "      <td>311</td>\n",
       "      <td>352</td>\n",
       "      <td>339</td>\n",
       "    </tr>\n",
       "  </tbody>\n",
       "</table>\n",
       "</div>"
      ],
      "text/plain": [
       "              Name  Platform  Year_of_Release  Publisher  NA_Sales  EU_Sales  \\\n",
       "Genre                                                                          \n",
       "Action        3370      3370             3308       3364      3370      3370   \n",
       "Adventure     1303      1303             1293       1299      1303      1303   \n",
       "Fighting       849       849              837        847       849       849   \n",
       "Misc          1750      1750             1721       1723      1750      1750   \n",
       "Platform       888       888              878        887       888       888   \n",
       "Puzzle         580       580              569        580       580       580   \n",
       "Racing        1249      1249             1226       1248      1249      1249   \n",
       "Role-Playing  1500      1500             1483       1499      1500      1500   \n",
       "Shooter       1323      1323             1296       1321      1323      1323   \n",
       "Simulation     874       874              858        870       874       874   \n",
       "Sports        2348      2348             2306       2345      2348      2348   \n",
       "Strategy       683       683              673        680       683       683   \n",
       "\n",
       "              JP_Sales  Other_Sales  Global_Sales  Critic_Score  Critic_Count  \\\n",
       "Genre                                                                           \n",
       "Action            3370         3370          3370          1890          1890   \n",
       "Adventure         1303         1303          1303           323           323   \n",
       "Fighting           849          849           849           409           409   \n",
       "Misc              1750         1750          1750           523           523   \n",
       "Platform           888          888           888           497           497   \n",
       "Puzzle             580          580           580           224           224   \n",
       "Racing            1249         1249          1249           742           742   \n",
       "Role-Playing      1500         1500          1500           737           737   \n",
       "Shooter           1323         1323          1323           944           944   \n",
       "Simulation         874          874           874           352           352   \n",
       "Sports            2348         2348          2348          1194          1194   \n",
       "Strategy           683          683           683           302           302   \n",
       "\n",
       "              User_Score  User_Count  Developer  Rating  \n",
       "Genre                                                    \n",
       "Action              2206        1830       2226    2188  \n",
       "Adventure            459         300        469     446  \n",
       "Fighting             438         399        440     438  \n",
       "Misc                 888         439        886     882  \n",
       "Platform             567         428        569     569  \n",
       "Puzzle               339         128        347     342  \n",
       "Racing               874         641        884     872  \n",
       "Role-Playing         773         743        788     777  \n",
       "Shooter             1023         924       1025    1019  \n",
       "Simulation           582         344        584     569  \n",
       "Sports              1516        1103       1526    1509  \n",
       "Strategy             350         311        352     339  "
      ]
     },
     "execution_count": 7,
     "metadata": {},
     "output_type": "execute_result"
    }
   ],
   "source": [
    "#Смотрю, как обозначаются жанры.\n",
    "vgsales.groupby(vgsales.Genre).count()"
   ]
  },
  {
   "cell_type": "code",
   "execution_count": 8,
   "metadata": {},
   "outputs": [
    {
     "name": "stdout",
     "output_type": "stream",
     "text": [
      "                 Name Platform  Year_of_Release   Genre        Publisher  \\\n",
      "0          Wii Sports      Wii           2006.0  Sports         Nintendo   \n",
      "3   Wii Sports Resort      Wii           2009.0  Sports         Nintendo   \n",
      "13            Wii Fit      Wii           2007.0  Sports         Nintendo   \n",
      "15       Wii Fit Plus      Wii           2009.0  Sports         Nintendo   \n",
      "77            FIFA 16      PS4           2015.0  Sports  Electronic Arts   \n",
      "\n",
      "    NA_Sales  EU_Sales  JP_Sales  Other_Sales  Global_Sales  Critic_Score  \\\n",
      "0      41.36     28.96      3.77         8.45         82.53          76.0   \n",
      "3      15.61     10.93      3.28         2.95         32.77          80.0   \n",
      "13      8.92      8.03      3.60         2.15         22.70          80.0   \n",
      "15      9.01      8.49      2.53         1.77         21.79          80.0   \n",
      "77      1.12      6.12      0.06         1.28          8.57          82.0   \n",
      "\n",
      "    Critic_Count User_Score  User_Count  Developer Rating  \n",
      "0           51.0          8       322.0   Nintendo      E  \n",
      "3           73.0          8       192.0   Nintendo      E  \n",
      "13          63.0        7.7       146.0   Nintendo      E  \n",
      "15          33.0        7.4        52.0   Nintendo      E  \n",
      "77          42.0        4.3       896.0  EA Sports      E  \n",
      "71.96817420435511\n"
     ]
    }
   ],
   "source": [
    "#Получаю выборку для жанра спорт.\n",
    "vgsales_sport = vgsales.where(vgsales.Genre=='Sports').dropna(subset=['Critic_Score'])\n",
    "print(vgsales_sport.head())\n",
    "print(vgsales_sport['Critic_Score'].mean())"
   ]
  },
  {
   "cell_type": "code",
   "execution_count": 9,
   "metadata": {},
   "outputs": [
    {
     "data": {
      "text/plain": [
       "Ttest_1sampResult(statistic=-7.5485926388546725, pvalue=4.3538182511739335e-14)"
      ]
     },
     "execution_count": 9,
     "metadata": {},
     "output_type": "execute_result"
    }
   ],
   "source": [
    "#Делаю одновыборочный односторонний t-тест.\n",
    "stats.ttest_1samp(vgsales_sport['Critic_Score'], 75, alternative='less')"
   ]
  },
  {
   "cell_type": "markdown",
   "metadata": {},
   "source": [
    "Вывод: Можно отвергнуть нулевую гипотезу даже при уровне значимости 1%. Средняя оценка критиками игр в жанре спорт ниже 75 баллов."
   ]
  },
  {
   "cell_type": "markdown",
   "metadata": {},
   "source": [
    "### Вопрос 2\n",
    "2) Критикам нравятся больше игры на PC или на PS4?\n",
    "\n",
    "Нулевая гипотеза: критикам игры на PC и PS4 нравятся одинаково.\n",
    "\n",
    "Альтернативная гипотеза: критики отдают предпочтение одной из платформ.\n",
    "\n",
    "alpha принимаю за 5%."
   ]
  },
  {
   "cell_type": "code",
   "execution_count": 10,
   "metadata": {},
   "outputs": [
    {
     "name": "stdout",
     "output_type": "stream",
     "text": [
      "Средняя оценка критиками PC = 75.93\n",
      "Средняя оценка критиками PS4 = 72.09\n"
     ]
    }
   ],
   "source": [
    "#Получаю выборки по платформам, считаю среднее.\n",
    "vgsales_PC = vgsales[vgsales.Platform == 'PC'].dropna(subset=['Critic_Score'])\n",
    "vgsales_PS4 = vgsales[vgsales.Platform =='PS4'].dropna(subset=['Critic_Score'])\n",
    "\n",
    "print(f'Средняя оценка критиками PC = {vgsales_PC.Critic_Score.mean():.2f}')\n",
    "print(f'Средняя оценка критиками PS4 = {vgsales_PS4.Critic_Score.mean():.2f}')"
   ]
  },
  {
   "cell_type": "code",
   "execution_count": 11,
   "metadata": {},
   "outputs": [
    {
     "data": {
      "text/plain": [
       "Ttest_indResult(statistic=4.3087588262138725, pvalue=2.067249157283479e-05)"
      ]
     },
     "execution_count": 11,
     "metadata": {},
     "output_type": "execute_result"
    }
   ],
   "source": [
    "#Проверяю статистическую значимость различий по t-тесту Уэлча.\n",
    "stats.ttest_ind(vgsales_PC.Critic_Score, vgsales_PS4.Critic_Score, equal_var=False)"
   ]
  },
  {
   "cell_type": "markdown",
   "metadata": {},
   "source": [
    "Вывод: значение p-value значительно ниже alpha => нулевую гипотезу можно отвергнуть => выборки значительно отличаются. Судя по средним оценкам критиков, они отдают предпочтение платформе PC."
   ]
  },
  {
   "cell_type": "markdown",
   "metadata": {},
   "source": [
    "### Вопрос 3\n",
    "3) Критикам больше нравятся стрелялки или стратегии?\n",
    "\n",
    "Нулевая гипотеза: критикам одинаково нравятся и стрелялки (Shooter), и стратегии (Strategy).\n",
    "\n",
    "Альтернативная гипотеза: критики отдают предпочтение одному из жанров.\n",
    "\n",
    "alpha по традиции равен 5%."
   ]
  },
  {
   "cell_type": "code",
   "execution_count": 12,
   "metadata": {},
   "outputs": [
    {
     "name": "stdout",
     "output_type": "stream",
     "text": [
      "Средняя оценка критиками стрелялок = 70.18\n",
      "Средняя оценка критиками стратегий = 72.09\n"
     ]
    }
   ],
   "source": [
    "#Получаю выборки по жанрам, считаю среднее.\n",
    "vgsales_shooter = vgsales[vgsales.Genre == 'Shooter'].dropna(subset=['Critic_Score'])\n",
    "vgsales_strategy = vgsales[vgsales.Genre =='Strategy'].dropna(subset=['Critic_Score'])\n",
    "\n",
    "print(f'Средняя оценка критиками стрелялок = {vgsales_shooter.Critic_Score.mean():.2f}')\n",
    "print(f'Средняя оценка критиками стратегий = {vgsales_strategy.Critic_Score.mean():.2f}')"
   ]
  },
  {
   "cell_type": "code",
   "execution_count": 13,
   "metadata": {},
   "outputs": [
    {
     "data": {
      "text/plain": [
       "Ttest_indResult(statistic=-2.2972408230640315, pvalue=0.021938989522304823)"
      ]
     },
     "execution_count": 13,
     "metadata": {},
     "output_type": "execute_result"
    }
   ],
   "source": [
    "#Проверяю статистическую значимость различий по t-тесту Уэлча.\n",
    "stats.ttest_ind(vgsales_shooter.Critic_Score, vgsales_strategy.Critic_Score, equal_var=False)"
   ]
  },
  {
   "cell_type": "markdown",
   "metadata": {},
   "source": [
    "P-value меньше alpha => нулевую гипотезу можно отвергнуть. Различия в выборках статистически значимы. Судя по средним величинам, критики выше оценивают стратегии."
   ]
  },
  {
   "cell_type": "markdown",
   "metadata": {},
   "source": [
    "## Задание 2"
   ]
  },
  {
   "cell_type": "markdown",
   "metadata": {},
   "source": [
    "Реализуйте базовую модель логистической регрессии для классификации текстовых сообщений (используемые данные [здесь](https://github.com/obulygin/pyda_homeworks/blob/master/stat_case_study/spam.csv)) по признаку спама. Для этого:\n",
    "\n",
    "1) Приведите весь текст к нижнему регистру;  \n",
    "2) Удалите мусорные символы;  \n",
    "3) Удалите стоп-слова;  \n",
    "4) Приведите все слова к нормальной форме;  \n",
    "5) Преобразуйте все сообщения в вектора TF-IDF. Вам поможет следующий код:  \n",
    "\n",
    "```\n",
    "from sklearn.feature_extraction.text import TfidfVectorizer\n",
    "\n",
    "tfidf = TfidfVectorizer()\n",
    "tfidf_matrix = tfidf.fit_transform(df.Message)\n",
    "names = tfidf.get_feature_names()\n",
    "tfidf_matrix = pd.DataFrame(tfidf_matrix.toarray(), columns=names)\n",
    "```\n",
    "\n",
    "Можете поэкспериментировать с параметрами [TfidfVectorizer](https://scikit-learn.org/stable/modules/generated/sklearn.feature_extraction.text.TfidfVectorizer.html);  \n",
    "6) Разделите данные на тестовые и тренировочные в соотношении 30/70, укажите `random_state=42`. Используйте [train_test_split](https://scikit-learn.org/stable/modules/generated/sklearn.model_selection.train_test_split.html);  \n",
    "7) Постройте модель [логистической регрессии](https://scikit-learn.org/stable/modules/generated/sklearn.linear_model.LogisticRegression.html), укажите `random_state=42`, оцените ее точность на тестовых данных;  \n",
    "8) Опишите результаты при помощи [confusion_matrix](https://scikit-learn.org/stable/modules/generated/sklearn.metrics.confusion_matrix.html?highlight=confusion_matrix#sklearn.metrics.confusion_matrix);  \n",
    "9) Постройте датафрейм, который будет содержать все исходные тексты сообщений, классифицированные неправильно (с указанием фактического и предсказанного)."
   ]
  },
  {
   "cell_type": "code",
   "execution_count": 14,
   "metadata": {},
   "outputs": [
    {
     "name": "stderr",
     "output_type": "stream",
     "text": [
      "[nltk_data] Downloading package stopwords to\n",
      "[nltk_data]     C:\\Users\\Solnotka\\AppData\\Roaming\\nltk_data...\n",
      "[nltk_data]   Package stopwords is already up-to-date!\n",
      "[nltk_data] Downloading package wordnet to\n",
      "[nltk_data]     C:\\Users\\Solnotka\\AppData\\Roaming\\nltk_data...\n",
      "[nltk_data]   Package wordnet is already up-to-date!\n"
     ]
    }
   ],
   "source": [
    "import nltk\n",
    "from nltk.corpus import stopwords\n",
    "\n",
    "from nltk.stem import WordNetLemmatizer\n",
    "nltk.download('stopwords')\n",
    "nltk.download('wordnet')\n",
    "\n",
    "from sklearn.feature_extraction.text import TfidfVectorizer\n",
    "from sklearn.model_selection import train_test_split\n",
    "from sklearn.linear_model import LogisticRegression\n",
    "from sklearn.metrics import accuracy_score, confusion_matrix"
   ]
  },
  {
   "cell_type": "code",
   "execution_count": 15,
   "metadata": {},
   "outputs": [],
   "source": [
    "spam = pd.read_csv('spam.txt')\n",
    "spam_for_work = spam.copy()"
   ]
  },
  {
   "cell_type": "code",
   "execution_count": 16,
   "metadata": {},
   "outputs": [
    {
     "name": "stdout",
     "output_type": "stream",
     "text": [
      "<class 'pandas.core.frame.DataFrame'>\n",
      "RangeIndex: 5572 entries, 0 to 5571\n",
      "Data columns (total 2 columns):\n",
      " #   Column    Non-Null Count  Dtype \n",
      "---  ------    --------------  ----- \n",
      " 0   Category  5572 non-null   object\n",
      " 1   Message   5572 non-null   object\n",
      "dtypes: object(2)\n",
      "memory usage: 87.2+ KB\n"
     ]
    }
   ],
   "source": [
    "#Привожу текст к нижнему регистру\n",
    "spam_for_work['Message'] = spam_for_work['Message'].apply(lambda x: x.lower())\n",
    "\n",
    "spam_for_work.info()"
   ]
  },
  {
   "cell_type": "code",
   "execution_count": 17,
   "metadata": {},
   "outputs": [
    {
     "name": "stdout",
     "output_type": "stream",
     "text": [
      "['go', 'until', 'jurong', 'point', 'crazy', 'available', 'only', 'in', 'bugis', 'n', 'great', 'world', 'la', 'e', 'buffet', 'cine', 'there', 'got', 'amore', 'wat']\n",
      "['ok', 'lar', 'joking', 'wif', 'u', 'oni']\n",
      "['free', 'entry', 'in', '2', 'a', 'wkly', 'comp', 'to', 'win', 'fa', 'cup', 'final', 'tkts', '21st', 'may', '2005', 'text', 'fa', 'to', '87121', 'to', 'receive', 'entry', 'question', 'std', 'txt', 'rate', 't', 'c', 's', 'apply', '08452810075over18', 's']\n",
      "['u', 'dun', 'say', 'so', 'early', 'hor', 'u', 'c', 'already', 'then', 'say']\n",
      "['nah', 'i', 'don', 't', 'think', 'he', 'goes', 'to', 'usf', 'he', 'lives', 'around', 'here', 'though']\n",
      "['freemsg', 'hey', 'there', 'darling', 'it', 's', 'been', '3', 'week', 's', 'now', 'and', 'no', 'word', 'back', 'i', 'd', 'like', 'some', 'fun', 'you', 'up', 'for', 'it', 'still', 'tb', 'ok', 'xxx', 'std', 'chgs', 'to', 'send', '1', '50', 'to', 'rcv']\n",
      "['even', 'my', 'brother', 'is', 'not', 'like', 'to', 'speak', 'with', 'me', 'they', 'treat', 'me', 'like', 'aids', 'patent']\n",
      "['as', 'per', 'your', 'request', 'melle', 'melle', 'oru', 'minnaminunginte', 'nurungu', 'vettam', 'has', 'been', 'set', 'as', 'your', 'callertune', 'for', 'all', 'callers', 'press', '9', 'to', 'copy', 'your', 'friends', 'callertune']\n",
      "['winner', 'as', 'a', 'valued', 'network', 'customer', 'you', 'have', 'been', 'selected', 'to', 'receivea', '900', 'prize', 'reward', 'to', 'claim', 'call', '09061701461', 'claim', 'code', 'kl341', 'valid', '12', 'hours', 'only']\n",
      "['had', 'your', 'mobile', '11', 'months', 'or', 'more', 'u', 'r', 'entitled', 'to', 'update', 'to', 'the', 'latest', 'colour', 'mobiles', 'with', 'camera', 'for', 'free', 'call', 'the', 'mobile', 'update', 'co', 'free', 'on', '08002986030']\n"
     ]
    }
   ],
   "source": [
    "#Убираю мусорные символы и делю сообщения на слова\n",
    "def clean_trash(message):\n",
    "    message = re.sub('[\\W_]+', ' ', message)\n",
    "    return message\n",
    "\n",
    "spam_for_work['Message'] = spam_for_work['Message'].apply(clean_trash).apply(lambda x: x.split())\n",
    "\n",
    "for message in spam_for_work['Message'][:10]:\n",
    "    print(message)"
   ]
  },
  {
   "cell_type": "code",
   "execution_count": 18,
   "metadata": {},
   "outputs": [
    {
     "name": "stdout",
     "output_type": "stream",
     "text": [
      "['go', 'jurong', 'point', 'crazy', 'available', 'bugis', 'n', 'great', 'world', 'la', 'e', 'buffet', 'cine', 'got', 'amore', 'wat']\n",
      "['ok', 'lar', 'joking', 'wif', 'u', 'oni']\n",
      "['free', 'entry', '2', 'wkly', 'comp', 'win', 'fa', 'cup', 'final', 'tkts', '21st', 'may', '2005', 'text', 'fa', '87121', 'receive', 'entry', 'question', 'std', 'txt', 'rate', 'c', 'apply', '08452810075over18']\n",
      "['u', 'dun', 'say', 'early', 'hor', 'u', 'c', 'already', 'say']\n",
      "['nah', 'think', 'goes', 'usf', 'lives', 'around', 'though']\n",
      "['freemsg', 'hey', 'darling', '3', 'week', 'word', 'back', 'like', 'fun', 'still', 'tb', 'ok', 'xxx', 'std', 'chgs', 'send', '1', '50', 'rcv']\n",
      "['even', 'brother', 'like', 'speak', 'treat', 'like', 'aids', 'patent']\n",
      "['per', 'request', 'melle', 'melle', 'oru', 'minnaminunginte', 'nurungu', 'vettam', 'set', 'callertune', 'callers', 'press', '9', 'copy', 'friends', 'callertune']\n",
      "['winner', 'valued', 'network', 'customer', 'selected', 'receivea', '900', 'prize', 'reward', 'claim', 'call', '09061701461', 'claim', 'code', 'kl341', 'valid', '12', 'hours']\n",
      "['mobile', '11', 'months', 'u', 'r', 'entitled', 'update', 'latest', 'colour', 'mobiles', 'camera', 'free', 'call', 'mobile', 'update', 'co', 'free', '08002986030']\n"
     ]
    }
   ],
   "source": [
    "#Убираю стоп-слова\n",
    "my_stopwords = set(stopwords.words('english'))\n",
    "\n",
    "def clean_stopwords(lst):\n",
    "    cleaned = [x for x in lst if x not in my_stopwords]\n",
    "    return cleaned\n",
    "\n",
    "spam_for_work['Message'] = spam_for_work['Message'].apply(clean_stopwords)\n",
    "\n",
    "for message in spam_for_work['Message'][:10]:\n",
    "    print(message)"
   ]
  },
  {
   "cell_type": "code",
   "execution_count": 19,
   "metadata": {},
   "outputs": [
    {
     "name": "stdout",
     "output_type": "stream",
     "text": [
      "go jurong point crazy available bugis n great world la e buffet cine got amore wat\n",
      "ok lar joking wif u oni\n",
      "free entry 2 wkly comp win fa cup final tkts 21st may 2005 text fa 87121 receive entry question std txt rate c apply 08452810075over18\n",
      "u dun say early hor u c already say\n",
      "nah think go usf life around though\n",
      "freemsg hey darling 3 week word back like fun still tb ok xxx std chgs send 1 50 rcv\n",
      "even brother like speak treat like aid patent\n",
      "per request melle melle oru minnaminunginte nurungu vettam set callertune caller press 9 copy friend callertune\n",
      "winner valued network customer selected receivea 900 prize reward claim call 09061701461 claim code kl341 valid 12 hour\n",
      "mobile 11 month u r entitled update latest colour mobile camera free call mobile update co free 08002986030\n"
     ]
    }
   ],
   "source": [
    "#Провожу лемматизацию\n",
    "wnl = WordNetLemmatizer()\n",
    "\n",
    "def lemmatize_that(lst):\n",
    "    lemmatized = [wnl.lemmatize(x) for x in lst]\n",
    "    return lemmatized\n",
    "\n",
    "spam_for_work['Message'] = spam_for_work['Message'].apply(lemmatize_that).apply(lambda x: ' '.join(x))\n",
    "\n",
    "for message in spam_for_work['Message'][:10]:\n",
    "    print(message)"
   ]
  },
  {
   "cell_type": "code",
   "execution_count": 20,
   "metadata": {},
   "outputs": [],
   "source": [
    "#Преобразую сообщения в вектора TF-IDF\n",
    "\n",
    "tfidf = TfidfVectorizer()\n",
    "\n",
    "tfidf = TfidfVectorizer()\n",
    "tfidf_matrix = tfidf.fit_transform(spam_for_work.Message)\n",
    "names = tfidf.get_feature_names()\n",
    "tfidf_matrix = pd.DataFrame(tfidf_matrix.toarray(), columns=names)"
   ]
  },
  {
   "cell_type": "code",
   "execution_count": 21,
   "metadata": {},
   "outputs": [],
   "source": [
    "#Разделяю выборку для модели логистической регрессии\n",
    "X_train, X_test, y_train, y_test = train_test_split(tfidf_matrix, spam_for_work.Category, test_size=0.30, random_state=42)"
   ]
  },
  {
   "cell_type": "code",
   "execution_count": 22,
   "metadata": {},
   "outputs": [
    {
     "data": {
      "text/plain": [
       "LogisticRegression(random_state=42)"
      ]
     },
     "execution_count": 22,
     "metadata": {},
     "output_type": "execute_result"
    }
   ],
   "source": [
    "#Строю модель логистической регрессии\n",
    "lr = LogisticRegression(random_state=42)\n",
    "lr.fit(X_train, y_train)"
   ]
  },
  {
   "cell_type": "code",
   "execution_count": 23,
   "metadata": {},
   "outputs": [
    {
     "data": {
      "text/plain": [
       "array(['ham', 'ham', 'ham', ..., 'ham', 'spam', 'ham'], dtype=object)"
      ]
     },
     "execution_count": 23,
     "metadata": {},
     "output_type": "execute_result"
    }
   ],
   "source": [
    "y_pred = lr.predict(X_test)\n",
    "y_pred"
   ]
  },
  {
   "cell_type": "code",
   "execution_count": 24,
   "metadata": {},
   "outputs": [
    {
     "data": {
      "text/plain": [
       "0.958732057416268"
      ]
     },
     "execution_count": 24,
     "metadata": {},
     "output_type": "execute_result"
    }
   ],
   "source": [
    "accuracy_score(y_test, y_pred)"
   ]
  },
  {
   "cell_type": "code",
   "execution_count": 25,
   "metadata": {},
   "outputs": [
    {
     "data": {
      "text/plain": [
       "array([[ 158,   66],\n",
       "       [   3, 1445]], dtype=int64)"
      ]
     },
     "execution_count": 25,
     "metadata": {},
     "output_type": "execute_result"
    }
   ],
   "source": [
    "confusion_matrix(y_test, y_pred, labels=['spam', 'ham'], sample_weight=None, normalize=None)"
   ]
  },
  {
   "cell_type": "code",
   "execution_count": 34,
   "metadata": {},
   "outputs": [
    {
     "name": "stdout",
     "output_type": "stream",
     "text": [
      "<class 'pandas.core.frame.DataFrame'>\n",
      "Int64Index: 69 entries, 17 to 1586\n",
      "Data columns (total 3 columns):\n",
      " #   Column     Non-Null Count  Dtype \n",
      "---  ------     --------------  ----- \n",
      " 0   Predicted  69 non-null     object\n",
      " 1   Real       69 non-null     object\n",
      " 2   Message    69 non-null     object\n",
      "dtypes: object(3)\n",
      "memory usage: 2.2+ KB\n"
     ]
    }
   ],
   "source": [
    "result = pd.DataFrame([y_pred, y_test, spam.Message]).T.dropna(how='any')\n",
    "\n",
    "result = result.rename(columns={0: 'Predicted', 1: 'Real', 2: 'Message'})\n",
    "\n",
    "result = result.where(result.Real != result.Predicted).dropna(how='all')\n",
    "result.info()"
   ]
  },
  {
   "cell_type": "code",
   "execution_count": 35,
   "metadata": {},
   "outputs": [
    {
     "data": {
      "text/html": [
       "<div>\n",
       "<style scoped>\n",
       "    .dataframe tbody tr th:only-of-type {\n",
       "        vertical-align: middle;\n",
       "    }\n",
       "\n",
       "    .dataframe tbody tr th {\n",
       "        vertical-align: top;\n",
       "    }\n",
       "\n",
       "    .dataframe thead th {\n",
       "        text-align: right;\n",
       "    }\n",
       "</style>\n",
       "<table border=\"1\" class=\"dataframe\">\n",
       "  <thead>\n",
       "    <tr style=\"text-align: right;\">\n",
       "      <th></th>\n",
       "      <th>Predicted</th>\n",
       "      <th>Real</th>\n",
       "      <th>Message</th>\n",
       "    </tr>\n",
       "  </thead>\n",
       "  <tbody>\n",
       "    <tr>\n",
       "      <th>17</th>\n",
       "      <td>spam</td>\n",
       "      <td>ham</td>\n",
       "      <td>Eh u remember how 2 spell his name... Yes i di...</td>\n",
       "    </tr>\n",
       "    <tr>\n",
       "      <th>40</th>\n",
       "      <td>ham</td>\n",
       "      <td>spam</td>\n",
       "      <td>Pls go ahead with watts. I just wanted to be s...</td>\n",
       "    </tr>\n",
       "    <tr>\n",
       "      <th>47</th>\n",
       "      <td>ham</td>\n",
       "      <td>spam</td>\n",
       "      <td>Fair enough, anything going on?</td>\n",
       "    </tr>\n",
       "    <tr>\n",
       "      <th>74</th>\n",
       "      <td>ham</td>\n",
       "      <td>spam</td>\n",
       "      <td>U can call me now...</td>\n",
       "    </tr>\n",
       "    <tr>\n",
       "      <th>84</th>\n",
       "      <td>ham</td>\n",
       "      <td>spam</td>\n",
       "      <td>Yup next stop.</td>\n",
       "    </tr>\n",
       "    <tr>\n",
       "      <th>...</th>\n",
       "      <td>...</td>\n",
       "      <td>...</td>\n",
       "      <td>...</td>\n",
       "    </tr>\n",
       "    <tr>\n",
       "      <th>1525</th>\n",
       "      <td>ham</td>\n",
       "      <td>spam</td>\n",
       "      <td>Hi:)cts employee how are you?</td>\n",
       "    </tr>\n",
       "    <tr>\n",
       "      <th>1567</th>\n",
       "      <td>ham</td>\n",
       "      <td>spam</td>\n",
       "      <td>I am late. I will be there at</td>\n",
       "    </tr>\n",
       "    <tr>\n",
       "      <th>1569</th>\n",
       "      <td>ham</td>\n",
       "      <td>spam</td>\n",
       "      <td>Today is ACCEPT DAY..U Accept me as? Brother S...</td>\n",
       "    </tr>\n",
       "    <tr>\n",
       "      <th>1576</th>\n",
       "      <td>spam</td>\n",
       "      <td>ham</td>\n",
       "      <td>Sounds gd... Haha... Can... Wah, u yan jiu so ...</td>\n",
       "    </tr>\n",
       "    <tr>\n",
       "      <th>1586</th>\n",
       "      <td>ham</td>\n",
       "      <td>spam</td>\n",
       "      <td>I was wondering if it would be okay for you to...</td>\n",
       "    </tr>\n",
       "  </tbody>\n",
       "</table>\n",
       "<p>69 rows × 3 columns</p>\n",
       "</div>"
      ],
      "text/plain": [
       "     Predicted  Real                                            Message\n",
       "17        spam   ham  Eh u remember how 2 spell his name... Yes i di...\n",
       "40         ham  spam  Pls go ahead with watts. I just wanted to be s...\n",
       "47         ham  spam                    Fair enough, anything going on?\n",
       "74         ham  spam                               U can call me now...\n",
       "84         ham  spam                                     Yup next stop.\n",
       "...        ...   ...                                                ...\n",
       "1525       ham  spam                      Hi:)cts employee how are you?\n",
       "1567       ham  spam                      I am late. I will be there at\n",
       "1569       ham  spam  Today is ACCEPT DAY..U Accept me as? Brother S...\n",
       "1576      spam   ham  Sounds gd... Haha... Can... Wah, u yan jiu so ...\n",
       "1586       ham  spam  I was wondering if it would be okay for you to...\n",
       "\n",
       "[69 rows x 3 columns]"
      ]
     },
     "execution_count": 35,
     "metadata": {},
     "output_type": "execute_result"
    }
   ],
   "source": [
    "result"
   ]
  },
  {
   "cell_type": "code",
   "execution_count": null,
   "metadata": {},
   "outputs": [],
   "source": []
  }
 ],
 "metadata": {
  "kernelspec": {
   "display_name": "Python 3",
   "language": "python",
   "name": "python3"
  },
  "language_info": {
   "codemirror_mode": {
    "name": "ipython",
    "version": 3
   },
   "file_extension": ".py",
   "mimetype": "text/x-python",
   "name": "python",
   "nbconvert_exporter": "python",
   "pygments_lexer": "ipython3",
   "version": "3.9.4"
  }
 },
 "nbformat": 4,
 "nbformat_minor": 2
}
