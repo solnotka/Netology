{
 "cells": [
  {
   "cell_type": "code",
   "execution_count": null,
   "id": "0e0d9758",
   "metadata": {},
   "outputs": [],
   "source": [
    "#Делаю общий словарь\n",
    "my_dictionary = corpora.Dictionary(spam_for_work['Message'])\n",
    "len(dict(my_dictionary))"
   ]
  },
  {
   "cell_type": "code",
   "execution_count": null,
   "id": "5b834e2b",
   "metadata": {},
   "outputs": [],
   "source": [
    "#Превращаю сообщения в мешки слов\n",
    "\n",
    "def turn_to_bag(lst):\n",
    "    bagged = my_dictionary.doc2bow(lst)\n",
    "    return bagged\n",
    "    \n",
    "spam_for_work['Message'] = spam_for_work['Message'].apply(turn_to_bag)\n",
    "\n",
    "for message in spam_for_work['Message'][:10]:\n",
    "    print(message)"
   ]
  }
 ],
 "metadata": {
  "kernelspec": {
   "display_name": "Python 3",
   "language": "python",
   "name": "python3"
  },
  "language_info": {
   "codemirror_mode": {
    "name": "ipython",
    "version": 3
   },
   "file_extension": ".py",
   "mimetype": "text/x-python",
   "name": "python",
   "nbconvert_exporter": "python",
   "pygments_lexer": "ipython3",
   "version": "3.9.4"
  }
 },
 "nbformat": 4,
 "nbformat_minor": 5
}
